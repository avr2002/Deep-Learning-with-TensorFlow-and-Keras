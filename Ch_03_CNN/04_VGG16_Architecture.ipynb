{
 "cells": [
  {
   "cell_type": "code",
   "execution_count": 1,
   "id": "639032ce-0f97-4c7e-9bfb-6770842635cb",
   "metadata": {},
   "outputs": [
    {
     "name": "stdout",
     "output_type": "stream",
     "text": [
      "2.10.1\n",
      "[PhysicalDevice(name='/physical_device:GPU:0', device_type='GPU')]\n"
     ]
    }
   ],
   "source": [
    "import tensorflow as tf\n",
    "from tensorflow.keras import layers, models\n",
    "import cv2 \n",
    "import numpy as np\n",
    "import os\n",
    "\n",
    "print(tf.__version__)\n",
    "print(tf.config.list_physical_devices('GPU'))"
   ]
  },
  {
   "cell_type": "markdown",
   "id": "febe1cbf-6ac0-413f-8e0a-1f9cf9320cf7",
   "metadata": {
    "jp-MarkdownHeadingCollapsed": true
   },
   "source": [
    "## VGG16 Architecture\n",
    "\n",
    "5 layers of `(Padding, Convolution, Padding, Convolution, MaxPool)`, then a fully connected Dense layer, as shown below."
   ]
  },
  {
   "cell_type": "code",
   "execution_count": 2,
   "id": "2a82ef0b-22b5-4f03-bc5e-b5e2bfdc68d3",
   "metadata": {},
   "outputs": [],
   "source": [
    "# define a VGG16 network\n",
    "\n",
    "def VGG_16(weights_path=None):\n",
    "    model = models.Sequential()\n",
    "    model.add(layers.ZeroPadding2D((1,1),input_shape=(224,224, 3)))\n",
    "    model.add(layers.Convolution2D(64, (3, 3), activation='relu'))\n",
    "    model.add(layers.ZeroPadding2D((1,1)))\n",
    "    model.add(layers.Convolution2D(64, (3, 3), activation='relu'))\n",
    "    model.add(layers.MaxPooling2D((2,2), strides=(2,2)))\n",
    "\n",
    "    model.add(layers.ZeroPadding2D((1,1)))\n",
    "    model.add(layers.Convolution2D(128, (3, 3), activation='relu'))\n",
    "    model.add(layers.ZeroPadding2D((1,1)))\n",
    "    model.add(layers.Convolution2D(128, (3, 3), activation='relu'))\n",
    "    model.add(layers.MaxPooling2D((2,2), strides=(2,2)))\n",
    "\n",
    "    model.add(layers.ZeroPadding2D((1,1)))\n",
    "    model.add(layers.Convolution2D(256, (3, 3), activation='relu'))\n",
    "    model.add(layers.ZeroPadding2D((1,1)))\n",
    "    model.add(layers.Convolution2D(256, (3, 3), activation='relu'))\n",
    "    model.add(layers.ZeroPadding2D((1,1)))\n",
    "    model.add(layers.Convolution2D(256, (3, 3), activation='relu'))\n",
    "    model.add(layers.MaxPooling2D((2,2), strides=(2,2)))\n",
    "\n",
    "    model.add(layers.ZeroPadding2D((1,1)))\n",
    "    model.add(layers.Convolution2D(512, (3, 3), activation='relu'))\n",
    "    model.add(layers.ZeroPadding2D((1,1)))\n",
    "    model.add(layers.Convolution2D(512, (3, 3), activation='relu'))\n",
    "    model.add(layers.ZeroPadding2D((1,1)))\n",
    "    model.add(layers.Convolution2D(512, (3, 3), activation='relu'))\n",
    "    model.add(layers.MaxPooling2D((2,2), strides=(2,2)))\n",
    "\n",
    "    model.add(layers.ZeroPadding2D((1,1)))\n",
    "    model.add(layers.Convolution2D(512, (3, 3), activation='relu'))\n",
    "    model.add(layers.ZeroPadding2D((1,1)))\n",
    "    model.add(layers.Convolution2D(512, (3, 3), activation='relu'))\n",
    "    model.add(layers.ZeroPadding2D((1,1)))\n",
    "    model.add(layers.Convolution2D(512, (3, 3), activation='relu'))\n",
    "    model.add(layers.MaxPooling2D((2,2), strides=(2,2)))\n",
    "\n",
    "    model.add(layers.Flatten())\n",
    "\n",
    "    #top layer of the VGG net\n",
    "    model.add(layers.Dense(4096, activation='relu'))\n",
    "    model.add(layers.Dropout(0.5))\n",
    "    model.add(layers.Dense(4096, activation='relu'))\n",
    "    model.add(layers.Dropout(0.5))\n",
    "    model.add(layers.Dense(1000, activation='softmax'))\n",
    "\n",
    "    if weights_path:\n",
    "        model.load_weights(weights_path)\n",
    "\n",
    "    return model"
   ]
  },
  {
   "cell_type": "markdown",
   "id": "4896e182-72db-456a-8109-b70091b8a544",
   "metadata": {},
   "source": [
    "### Predicting Cats with VGG16 Network"
   ]
  },
  {
   "cell_type": "code",
   "execution_count": 3,
   "id": "df2b50cb-a471-47a8-a6a7-9364614e4417",
   "metadata": {},
   "outputs": [
    {
     "data": {
      "text/plain": [
       "'C:\\\\Users\\\\Amit Vikram Raj'"
      ]
     },
     "execution_count": 3,
     "metadata": {},
     "output_type": "execute_result"
    }
   ],
   "source": [
    "os.path.expanduser(\"~\")"
   ]
  },
  {
   "cell_type": "code",
   "execution_count": 4,
   "id": "af8272d3-614c-4874-ab09-11448be6b774",
   "metadata": {
    "scrolled": true
   },
   "outputs": [
    {
     "name": "stdout",
     "output_type": "stream",
     "text": [
      "Model: \"sequential\"\n",
      "_________________________________________________________________\n",
      " Layer (type)                Output Shape              Param #   \n",
      "=================================================================\n",
      " zero_padding2d (ZeroPadding  (None, 226, 226, 3)      0         \n",
      " 2D)                                                             \n",
      "                                                                 \n",
      " conv2d (Conv2D)             (None, 224, 224, 64)      1792      \n",
      "                                                                 \n",
      " zero_padding2d_1 (ZeroPaddi  (None, 226, 226, 64)     0         \n",
      " ng2D)                                                           \n",
      "                                                                 \n",
      " conv2d_1 (Conv2D)           (None, 224, 224, 64)      36928     \n",
      "                                                                 \n",
      " max_pooling2d (MaxPooling2D  (None, 112, 112, 64)     0         \n",
      " )                                                               \n",
      "                                                                 \n",
      " zero_padding2d_2 (ZeroPaddi  (None, 114, 114, 64)     0         \n",
      " ng2D)                                                           \n",
      "                                                                 \n",
      " conv2d_2 (Conv2D)           (None, 112, 112, 128)     73856     \n",
      "                                                                 \n",
      " zero_padding2d_3 (ZeroPaddi  (None, 114, 114, 128)    0         \n",
      " ng2D)                                                           \n",
      "                                                                 \n",
      " conv2d_3 (Conv2D)           (None, 112, 112, 128)     147584    \n",
      "                                                                 \n",
      " max_pooling2d_1 (MaxPooling  (None, 56, 56, 128)      0         \n",
      " 2D)                                                             \n",
      "                                                                 \n",
      " zero_padding2d_4 (ZeroPaddi  (None, 58, 58, 128)      0         \n",
      " ng2D)                                                           \n",
      "                                                                 \n",
      " conv2d_4 (Conv2D)           (None, 56, 56, 256)       295168    \n",
      "                                                                 \n",
      " zero_padding2d_5 (ZeroPaddi  (None, 58, 58, 256)      0         \n",
      " ng2D)                                                           \n",
      "                                                                 \n",
      " conv2d_5 (Conv2D)           (None, 56, 56, 256)       590080    \n",
      "                                                                 \n",
      " zero_padding2d_6 (ZeroPaddi  (None, 58, 58, 256)      0         \n",
      " ng2D)                                                           \n",
      "                                                                 \n",
      " conv2d_6 (Conv2D)           (None, 56, 56, 256)       590080    \n",
      "                                                                 \n",
      " max_pooling2d_2 (MaxPooling  (None, 28, 28, 256)      0         \n",
      " 2D)                                                             \n",
      "                                                                 \n",
      " zero_padding2d_7 (ZeroPaddi  (None, 30, 30, 256)      0         \n",
      " ng2D)                                                           \n",
      "                                                                 \n",
      " conv2d_7 (Conv2D)           (None, 28, 28, 512)       1180160   \n",
      "                                                                 \n",
      " zero_padding2d_8 (ZeroPaddi  (None, 30, 30, 512)      0         \n",
      " ng2D)                                                           \n",
      "                                                                 \n",
      " conv2d_8 (Conv2D)           (None, 28, 28, 512)       2359808   \n",
      "                                                                 \n",
      " zero_padding2d_9 (ZeroPaddi  (None, 30, 30, 512)      0         \n",
      " ng2D)                                                           \n",
      "                                                                 \n",
      " conv2d_9 (Conv2D)           (None, 28, 28, 512)       2359808   \n",
      "                                                                 \n",
      " max_pooling2d_3 (MaxPooling  (None, 14, 14, 512)      0         \n",
      " 2D)                                                             \n",
      "                                                                 \n",
      " zero_padding2d_10 (ZeroPadd  (None, 16, 16, 512)      0         \n",
      " ing2D)                                                          \n",
      "                                                                 \n",
      " conv2d_10 (Conv2D)          (None, 14, 14, 512)       2359808   \n",
      "                                                                 \n",
      " zero_padding2d_11 (ZeroPadd  (None, 16, 16, 512)      0         \n",
      " ing2D)                                                          \n",
      "                                                                 \n",
      " conv2d_11 (Conv2D)          (None, 14, 14, 512)       2359808   \n",
      "                                                                 \n",
      " zero_padding2d_12 (ZeroPadd  (None, 16, 16, 512)      0         \n",
      " ing2D)                                                          \n",
      "                                                                 \n",
      " conv2d_12 (Conv2D)          (None, 14, 14, 512)       2359808   \n",
      "                                                                 \n",
      " max_pooling2d_4 (MaxPooling  (None, 7, 7, 512)        0         \n",
      " 2D)                                                             \n",
      "                                                                 \n",
      " flatten (Flatten)           (None, 25088)             0         \n",
      "                                                                 \n",
      " dense (Dense)               (None, 4096)              102764544 \n",
      "                                                                 \n",
      " dropout (Dropout)           (None, 4096)              0         \n",
      "                                                                 \n",
      " dense_1 (Dense)             (None, 4096)              16781312  \n",
      "                                                                 \n",
      " dropout_1 (Dropout)         (None, 4096)              0         \n",
      "                                                                 \n",
      " dense_2 (Dense)             (None, 1000)              4097000   \n",
      "                                                                 \n",
      "=================================================================\n",
      "Total params: 138,357,544\n",
      "Trainable params: 138,357,544\n",
      "Non-trainable params: 0\n",
      "_________________________________________________________________\n",
      "1/1 [==============================] - 5s 5s/step\n",
      "285\n"
     ]
    }
   ],
   "source": [
    "im = cv2.resize(cv2.imread('prediction_images/cat.jpg'), (224, 224)).astype(np.float32)\n",
    "#im = im.transpose((2,0,1))\n",
    "im = np.expand_dims(im, axis=0)\n",
    "\n",
    "# Test pretrained model\n",
    "path_file = \"./saved_model/vgg16_weights_tf_dim_ordering_tf_kernels.h5\"\n",
    "model = VGG_16(path_file)\n",
    "model.summary()\n",
    "\n",
    "model.compile(optimizer='sgd',\n",
    "              loss='categorical_crossentropy')\n",
    "\n",
    "out = model.predict(im)\n",
    "print(np.argmax(out))"
   ]
  },
  {
   "cell_type": "markdown",
   "id": "1705e781-1a97-420e-8a51-556386178677",
   "metadata": {},
   "source": [
    "`285` is returned with corresponds to \"Egyptian cat\".\n",
    "\n",
    "Impressive, isn't it? Our VGG16 network can successfully recognize\r\n",
    "images of catst."
   ]
  },
  {
   "cell_type": "markdown",
   "id": "81e08744-d686-48fc-bca0-49811fe1ae82",
   "metadata": {
    "jp-MarkdownHeadingCollapsed": true
   },
   "source": [
    "## Using tf.keras built-in VGG16 net module"
   ]
  },
  {
   "cell_type": "code",
   "execution_count": 2,
   "id": "647189b9-0de1-49cf-b315-a82635a07024",
   "metadata": {},
   "outputs": [],
   "source": [
    "from tensorflow.keras.backend import clear_session\n",
    "clear_session()"
   ]
  },
  {
   "cell_type": "code",
   "execution_count": 3,
   "id": "9e0429c8-3dc3-41ae-b921-956a6612f4ea",
   "metadata": {},
   "outputs": [
    {
     "name": "stdout",
     "output_type": "stream",
     "text": [
      "Model: \"vgg16\"\n",
      "_________________________________________________________________\n",
      " Layer (type)                Output Shape              Param #   \n",
      "=================================================================\n",
      " input_1 (InputLayer)        [(None, 224, 224, 3)]     0         \n",
      "                                                                 \n",
      " block1_conv1 (Conv2D)       (None, 224, 224, 64)      1792      \n",
      "                                                                 \n",
      " block1_conv2 (Conv2D)       (None, 224, 224, 64)      36928     \n",
      "                                                                 \n",
      " block1_pool (MaxPooling2D)  (None, 112, 112, 64)      0         \n",
      "                                                                 \n",
      " block2_conv1 (Conv2D)       (None, 112, 112, 128)     73856     \n",
      "                                                                 \n",
      " block2_conv2 (Conv2D)       (None, 112, 112, 128)     147584    \n",
      "                                                                 \n",
      " block2_pool (MaxPooling2D)  (None, 56, 56, 128)       0         \n",
      "                                                                 \n",
      " block3_conv1 (Conv2D)       (None, 56, 56, 256)       295168    \n",
      "                                                                 \n",
      " block3_conv2 (Conv2D)       (None, 56, 56, 256)       590080    \n",
      "                                                                 \n",
      " block3_conv3 (Conv2D)       (None, 56, 56, 256)       590080    \n",
      "                                                                 \n",
      " block3_pool (MaxPooling2D)  (None, 28, 28, 256)       0         \n",
      "                                                                 \n",
      " block4_conv1 (Conv2D)       (None, 28, 28, 512)       1180160   \n",
      "                                                                 \n",
      " block4_conv2 (Conv2D)       (None, 28, 28, 512)       2359808   \n",
      "                                                                 \n",
      " block4_conv3 (Conv2D)       (None, 28, 28, 512)       2359808   \n",
      "                                                                 \n",
      " block4_pool (MaxPooling2D)  (None, 14, 14, 512)       0         \n",
      "                                                                 \n",
      " block5_conv1 (Conv2D)       (None, 14, 14, 512)       2359808   \n",
      "                                                                 \n",
      " block5_conv2 (Conv2D)       (None, 14, 14, 512)       2359808   \n",
      "                                                                 \n",
      " block5_conv3 (Conv2D)       (None, 14, 14, 512)       2359808   \n",
      "                                                                 \n",
      " block5_pool (MaxPooling2D)  (None, 7, 7, 512)         0         \n",
      "                                                                 \n",
      " flatten (Flatten)           (None, 25088)             0         \n",
      "                                                                 \n",
      " fc1 (Dense)                 (None, 4096)              102764544 \n",
      "                                                                 \n",
      " fc2 (Dense)                 (None, 4096)              16781312  \n",
      "                                                                 \n",
      " predictions (Dense)         (None, 1000)              4097000   \n",
      "                                                                 \n",
      "=================================================================\n",
      "Total params: 138,357,544\n",
      "Trainable params: 138,357,544\n",
      "Non-trainable params: 0\n",
      "_________________________________________________________________\n"
     ]
    }
   ],
   "source": [
    "import cv2\n",
    "import numpy as np\n",
    "import matplotlib.pyplot as plt\n",
    "from tensorflow.keras.applications.vgg16 import VGG16\n",
    "\n",
    "# pre built model with pre-trained weights on imagenet\n",
    "model = VGG16(weights='imagenet', include_top=True)\n",
    "\n",
    "# Compile the model\n",
    "model.compile(optimizer='sgd', loss='categorical_crossentropy')\n",
    "\n",
    "model.summary()"
   ]
  },
  {
   "cell_type": "code",
   "execution_count": 6,
   "id": "853e689f-e2b7-4447-8c43-05da5a31c63a",
   "metadata": {},
   "outputs": [
    {
     "name": "stdout",
     "output_type": "stream",
     "text": [
      "1/1 [==============================] - 0s 22ms/step\n",
      "820\n"
     ]
    },
    {
     "data": {
      "image/png": "[encoded data removed]",
      "text/plain": [
       "<Figure size 640x480 with 1 Axes>"
      ]
     },
     "metadata": {},
     "output_type": "display_data"
    }
   ],
   "source": [
    "# resize into VGG16 trained images' format\n",
    "im = cv2.resize(cv2.imread('prediction_images/steam-locomotive.jpg'), (224, 224))\n",
    "im = np.expand_dims(im, axis=0)\n",
    "im.astype(np.float32)\n",
    "\n",
    "# predict\n",
    "out = model.predict(im)\n",
    "index = np.argmax(out)\n",
    "print(index)\n",
    "\n",
    "plt.plot(out.ravel())\n",
    "plt.show();\n",
    "\n",
    "# o/p --> 820 is for steaming train"
   ]
  },
  {
   "cell_type": "markdown",
   "id": "607eb1eb-6d93-4675-8c6f-bc2c55ecca24",
   "metadata": {},
   "source": [
    "## Recycling pre-built deep learning models for extracting features\n",
    "\n",
    "One very simple idea is to use VGG 16, and more generally DCNN, for \n",
    "feature extraction. This code implements the idea by extracting feature \r\n",
    "from a specific layer."
   ]
  },
  {
   "cell_type": "code",
   "execution_count": 1,
   "id": "e38f1eb9-3496-4645-8b02-28693c9b76d1",
   "metadata": {},
   "outputs": [],
   "source": [
    "import cv2\n",
    "import numpy as np\n",
    "from pprint import pprint\n",
    "\n",
    "import tensorflow as tf\n",
    "from tensorflow.keras import models\n",
    "from tensorflow.keras.preprocessing import image\n",
    "from tensorflow.keras.applications.vgg16 import preprocess_input, VGG16\n",
    "\n",
    "from tensorflow.keras.backend import clear_session\n",
    "clear_session()"
   ]
  },
  {
   "cell_type": "code",
   "execution_count": 2,
   "id": "8b9458d7-185c-4678-9bc1-4c7fa3a6bffd",
   "metadata": {},
   "outputs": [
    {
     "name": "stdout",
     "output_type": "stream",
     "text": [
      "<keras.engine.functional.Functional object at 0x000002283945E230> \n",
      "\n",
      "0 input_1 [(None, 224, 224, 3)]\n",
      "1 block1_conv1 (None, 224, 224, 64)\n",
      "2 block1_conv2 (None, 224, 224, 64)\n",
      "3 block1_pool (None, 112, 112, 64)\n",
      "4 block2_conv1 (None, 112, 112, 128)\n",
      "5 block2_conv2 (None, 112, 112, 128)\n",
      "6 block2_pool (None, 56, 56, 128)\n",
      "7 block3_conv1 (None, 56, 56, 256)\n",
      "8 block3_conv2 (None, 56, 56, 256)\n",
      "9 block3_conv3 (None, 56, 56, 256)\n",
      "10 block3_pool (None, 28, 28, 256)\n",
      "11 block4_conv1 (None, 28, 28, 512)\n",
      "12 block4_conv2 (None, 28, 28, 512)\n",
      "13 block4_conv3 (None, 28, 28, 512)\n",
      "14 block4_pool (None, 14, 14, 512)\n",
      "15 block5_conv1 (None, 14, 14, 512)\n",
      "16 block5_conv2 (None, 14, 14, 512)\n",
      "17 block5_conv3 (None, 14, 14, 512)\n",
      "18 block5_pool (None, 7, 7, 512)\n",
      "19 flatten (None, 25088)\n",
      "20 fc1 (None, 4096)\n",
      "21 fc2 (None, 4096)\n",
      "22 predictions (None, 1000)\n"
     ]
    }
   ],
   "source": [
    "# pre-build model with pre-trained weights on imagenet\n",
    "base_model = VGG16(weights='imagenet', include_top=True)\n",
    "print(base_model, \"\\n\")\n",
    "\n",
    "# All layers of VGG16\n",
    "for i, layer in enumerate(base_model.layers):\n",
    "    print(i, layer.name, layer.output_shape)"
   ]
  },
  {
   "cell_type": "code",
   "execution_count": 3,
   "id": "a7e74a5c-bfb1-48ef-9bc8-2033c23b5d06",
   "metadata": {
    "scrolled": true
   },
   "outputs": [
    {
     "name": "stdout",
     "output_type": "stream",
     "text": [
      "1/1 [==============================] - 3s 3s/step\n",
      "array([[[[  0.      ,   0.      ,  39.057278, ...,   0.      ,\n",
      "            0.      ,   0.      ],\n",
      "         [  0.      ,   0.      ,   0.      , ...,   0.      ,\n",
      "          261.47574 ,   0.      ],\n",
      "         [  0.      ,   0.      ,   0.      , ...,   0.      ,\n",
      "          376.41232 ,   0.      ],\n",
      "         ...,\n",
      "         [  0.      ,   0.      ,   0.      , ...,   0.      ,\n",
      "          175.45848 ,   0.      ],\n",
      "         [  0.      ,   0.      ,  32.01233 , ...,   0.      ,\n",
      "            0.      ,   0.      ],\n",
      "         [  0.      ,   0.      ,  76.265816, ...,   0.      ,\n",
      "            0.      ,   0.      ]],\n",
      "\n",
      "        [[  0.      ,   0.      ,   0.      , ...,   0.      ,\n",
      "           50.82755 ,   0.      ],\n",
      "         [  0.      ,   0.      ,  44.37474 , ...,   0.      ,\n",
      "          123.88842 ,   0.      ],\n",
      "         [  0.      ,   0.      ,  27.84265 , ...,   0.      ,\n",
      "          573.3558  ,   0.      ],\n",
      "         ...,\n",
      "         [  0.      ,   0.      ,   0.      , ...,   0.      ,\n",
      "          683.3251  ,   0.      ],\n",
      "         [  0.      ,   0.      ,   0.      , ...,   0.      ,\n",
      "           18.327875,   0.      ],\n",
      "         [  0.      ,   0.      ,  60.602158, ...,   0.      ,\n",
      "            0.      ,   0.      ]],\n",
      "\n",
      "        [[  0.      ,   0.      ,  27.607662, ...,   0.      ,\n",
      "            0.      ,   0.      ],\n",
      "         [  0.      , 372.522   ,   0.      , ...,  29.04391 ,\n",
      "            0.      ,   0.      ],\n",
      "         [  0.      ,  34.896393, 105.478035, ...,   0.      ,\n",
      "            0.      ,   0.      ],\n",
      "         ...,\n",
      "         [  0.      ,   0.      ,   0.      , ...,   0.      ,\n",
      "          823.4585  ,   0.      ],\n",
      "         [  0.      ,   0.      ,   0.      , ...,   0.      ,\n",
      "           95.24839 ,   0.      ],\n",
      "         [  0.      ,   0.      ,  20.043648, ...,   0.      ,\n",
      "            0.      ,   0.      ]],\n",
      "\n",
      "        ...,\n",
      "\n",
      "        [[  0.      ,   0.      ,   0.      , ...,   0.      ,\n",
      "           58.52735 ,   0.      ],\n",
      "         [  0.      ,   0.      ,   0.      , ...,   0.      ,\n",
      "            0.      ,   0.      ],\n",
      "         [  0.      ,   0.      ,   0.      , ...,   0.      ,\n",
      "            0.      ,   0.      ],\n",
      "         ...,\n",
      "         [  0.      ,   0.      ,   0.      , ...,   0.      ,\n",
      "          376.76556 ,   0.      ],\n",
      "         [  0.      ,   0.      ,   0.      , ...,   0.      ,\n",
      "            0.      ,   0.      ],\n",
      "         [  0.      ,   0.      ,   9.006432, ...,   0.      ,\n",
      "            0.      ,   0.      ]],\n",
      "\n",
      "        [[  0.      ,   0.      ,   0.      , ...,   0.      ,\n",
      "          112.5272  ,   0.      ],\n",
      "         [  0.      ,   0.      ,   0.      , ...,   0.      ,\n",
      "           48.296066,   0.      ],\n",
      "         [  0.      ,   0.      ,   0.      , ...,   0.      ,\n",
      "            0.      ,   0.      ],\n",
      "         ...,\n",
      "         [  0.      ,   0.      ,   0.      , ...,   0.      ,\n",
      "          340.14618 ,   0.      ],\n",
      "         [  0.      ,   0.      ,   0.      , ...,   0.      ,\n",
      "            0.      ,   0.      ],\n",
      "         [  0.      ,   0.      ,   0.      , ...,   0.      ,\n",
      "            0.      ,   0.      ]],\n",
      "\n",
      "        [[  0.      ,   0.      ,  33.47151 , ...,   0.      ,\n",
      "           89.49547 ,   0.      ],\n",
      "         [  0.      ,   0.      ,   0.      , ...,   0.      ,\n",
      "          169.88101 ,   0.      ],\n",
      "         [  0.      ,   0.      ,   0.      , ...,   0.      ,\n",
      "            0.      ,   0.      ],\n",
      "         ...,\n",
      "         [  0.      ,   0.      ,   0.      , ...,   0.      ,\n",
      "          142.88644 ,   0.      ],\n",
      "         [  0.      ,   0.      ,   0.      , ...,   0.      ,\n",
      "           14.984388,   0.      ],\n",
      "         [  0.      ,   0.      ,  51.72733 , ...,   0.      ,\n",
      "            0.      ,   0.      ]]]], dtype=float32)\n"
     ]
    }
   ],
   "source": [
    "# Extract features from block4_pool block\n",
    "model = models.Model(inputs = base_model.input, \n",
    "                     outputs = base_model.get_layer('block4_pool').output)\n",
    "\n",
    "img_path = \"prediction_images/cat.jpg\"\n",
    "img = image.load_img(img_path, target_size=(224,224))\n",
    "x = image.img_to_array(img)\n",
    "x = np.expand_dims(x, axis=0)\n",
    "x = preprocess_input(x)\n",
    "\n",
    "# get the features from this block\n",
    "features = model.predict(x)\n",
    "pprint(features)"
   ]
  },
  {
   "cell_type": "code",
   "execution_count": 4,
   "id": "319cb81e-60c1-4973-bf79-40f534041faf",
   "metadata": {},
   "outputs": [
    {
     "data": {
      "text/plain": [
       "(1, 14, 14, 512)"
      ]
     },
     "execution_count": 4,
     "metadata": {},
     "output_type": "execute_result"
    }
   ],
   "source": [
    "features.shape"
   ]
  },
  {
   "cell_type": "markdown",
   "id": "ed03bc8c-b201-4d81-9638-41addb264c44",
   "metadata": {},
   "source": [
    "You might wonder **why we want to extract the features from an intermediate layer in a DCNN?**\n",
    "\n",
    "- The reasoning is that as the network learns to classify images into categories, each layer learns to identify the features that are necessary to perform the final classification.\n",
    "\n",
    "    - **Lower layers identify lower-order features such as color and edges,** and \n",
    "        \n",
    "    - **higher layers compose these lower-order features into higher-order features such as shapes or objects.** \n",
    "        \n",
    "    - **Hence, the intermediate layer has the capability to extract important features from an image, and these features are more likely to help in different kinds of classification.** \n",
    "\n",
    "* **\n",
    "\n",
    "This has multiple advantages: \n",
    "\n",
    "- First, we can rely on publicly available large-scale training and transfer this learning to novel domains. \n",
    "\n",
    "- Second, we can save time on expensive training. \n",
    "\n",
    "- Third, we can provide reasonable solutions even when we don't have a large number of training examples for our domain.\n",
    "\n",
    "- We also get a good starting network shape for the task at hand, instead of guessing it. \n",
    "\n",
    "With this, we will conclude the overview of VGG16 CNNs, the last deep learning model defined in this chapter."
   ]
  }
 ],
 "metadata": {
  "kernelspec": {
   "display_name": "Python 3 (ipykernel)",
   "language": "python",
   "name": "python3"
  },
  "language_info": {
   "codemirror_mode": {
    "name": "ipython",
    "version": 3
   },
   "file_extension": ".py",
   "mimetype": "text/x-python",
   "name": "python",
   "nbconvert_exporter": "python",
   "pygments_lexer": "ipython3",
   "version": "3.10.9"
  }
 },
 "nbformat": 4,
 "nbformat_minor": 5
}
