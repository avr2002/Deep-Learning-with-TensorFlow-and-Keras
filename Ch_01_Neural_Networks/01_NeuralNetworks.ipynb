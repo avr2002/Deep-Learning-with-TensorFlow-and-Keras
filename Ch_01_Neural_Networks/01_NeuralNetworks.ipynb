{
 "cells": [
  {
   "cell_type": "markdown",
   "id": "1aa1a4ca-8495-451d-a25f-19d626b46dc8",
   "metadata": {},
   "source": [
    "***Reference:***\n",
    "\n",
    "**Kapoor, Amita; Gulli, Antonio; Pal, Sujit. Deep Learning with TensorFlow and Keras: Build and deploy supervised, unsupervised, deep, and reinforcement learning models, 3rd Edition . Packt Publishing.**"
   ]
  },
  {
   "cell_type": "markdown",
   "id": "26d8aa1a-c366-4038-bb56-c1699976e29a",
   "metadata": {},
   "source": [
    "# Chapter 1: Neural Networks"
   ]
  },
  {
   "cell_type": "code",
   "execution_count": 1,
   "id": "4b7ac88e-8903-4016-bc25-1d4792681bcc",
   "metadata": {
    "execution": {
     "iopub.execute_input": "2023-06-27T04:36:22.246940Z",
     "iopub.status.busy": "2023-06-27T04:36:22.246940Z",
     "iopub.status.idle": "2023-06-27T04:36:29.724538Z",
     "shell.execute_reply": "2023-06-27T04:36:29.723531Z",
     "shell.execute_reply.started": "2023-06-27T04:36:22.246940Z"
    },
    "tags": []
   },
   "outputs": [
    {
     "name": "stdout",
     "output_type": "stream",
     "text": [
      "2.10.1\n",
      "[PhysicalDevice(name='/physical_device:GPU:0', device_type='GPU')]\n"
     ]
    }
   ],
   "source": [
    "import os\n",
    "import numpy as np\n",
    "import tensorflow as tf\n",
    "from tensorflow import keras\n",
    "\n",
    "print(tf.__version__)\n",
    "print(tf.config.list_physical_devices(\"GPU\"))"
   ]
  },
  {
   "cell_type": "markdown",
   "id": "4041ab9d-c0ab-41f3-969e-59e15e9cc13f",
   "metadata": {
    "jp-MarkdownHeadingCollapsed": true,
    "tags": []
   },
   "source": [
    "## MNIST Data"
   ]
  },
  {
   "cell_type": "code",
   "execution_count": 2,
   "id": "ac9a78b3-b2dd-4774-9adb-5e0be33c9871",
   "metadata": {
    "execution": {
     "iopub.execute_input": "2023-06-27T04:36:31.221278Z",
     "iopub.status.busy": "2023-06-27T04:36:31.220266Z",
     "iopub.status.idle": "2023-06-27T04:36:31.471634Z",
     "shell.execute_reply": "2023-06-27T04:36:31.471634Z",
     "shell.execute_reply.started": "2023-06-27T04:36:31.221278Z"
    },
    "tags": []
   },
   "outputs": [
    {
     "data": {
      "text/plain": [
       "((60000, 28, 28), (60000,), (10000, 28, 28), (10000,))"
      ]
     },
     "execution_count": 2,
     "metadata": {},
     "output_type": "execute_result"
    }
   ],
   "source": [
    "# Lodaing MNIST dataset\n",
    "mnist = keras.datasets.mnist\n",
    "(X_train, y_train), (X_test, y_test) = mnist.load_data(\"mnist.npz\")\n",
    "\n",
    "X_train.shape, y_train.shape, X_test.shape, y_test.shape\n",
    "\n",
    "# 60k images arranges in 28*28 grid layout"
   ]
  },
  {
   "cell_type": "code",
   "execution_count": 3,
   "id": "ccc4667b-7210-42e6-a7ec-9147473210de",
   "metadata": {
    "execution": {
     "iopub.execute_input": "2023-06-27T04:36:31.869627Z",
     "iopub.status.busy": "2023-06-27T04:36:31.869627Z",
     "iopub.status.idle": "2023-06-27T04:36:31.889742Z",
     "shell.execute_reply": "2023-06-27T04:36:31.888736Z",
     "shell.execute_reply.started": "2023-06-27T04:36:31.869627Z"
    },
    "tags": []
   },
   "outputs": [
    {
     "data": {
      "text/plain": [
       "(28, 28)"
      ]
     },
     "execution_count": 3,
     "metadata": {},
     "output_type": "execute_result"
    }
   ],
   "source": [
    "X_train[0].shape"
   ]
  },
  {
   "cell_type": "code",
   "execution_count": 4,
   "id": "56e86eac-4ece-4047-aaa0-fa2f159916e5",
   "metadata": {
    "execution": {
     "iopub.execute_input": "2023-06-27T04:36:32.820663Z",
     "iopub.status.busy": "2023-06-27T04:36:32.820663Z",
     "iopub.status.idle": "2023-06-27T04:36:32.838635Z",
     "shell.execute_reply": "2023-06-27T04:36:32.837636Z",
     "shell.execute_reply.started": "2023-06-27T04:36:32.820663Z"
    },
    "tags": []
   },
   "outputs": [
    {
     "data": {
      "text/plain": [
       "(255, 0)"
      ]
     },
     "execution_count": 4,
     "metadata": {},
     "output_type": "execute_result"
    }
   ],
   "source": [
    "np.max(X_train[0]), np.min(X_train[0])"
   ]
  },
  {
   "cell_type": "code",
   "execution_count": 5,
   "id": "af773583-83a1-4a75-a6f6-3a57332d45a4",
   "metadata": {
    "execution": {
     "iopub.execute_input": "2023-06-27T04:36:33.409648Z",
     "iopub.status.busy": "2023-06-27T04:36:33.409648Z",
     "iopub.status.idle": "2023-06-27T04:36:34.601686Z",
     "shell.execute_reply": "2023-06-27T04:36:34.600686Z",
     "shell.execute_reply.started": "2023-06-27T04:36:33.409648Z"
    },
    "tags": []
   },
   "outputs": [
    {
     "data": {
      "text/plain": [
       "(60000,\n",
       " <tf.Tensor: shape=(), dtype=uint8, numpy=255>,\n",
       " <tf.Tensor: shape=(), dtype=uint8, numpy=0>)"
      ]
     },
     "execution_count": 5,
     "metadata": {},
     "output_type": "execute_result"
    }
   ],
   "source": [
    "len(X_train), tf.reduce_max(X_train), tf.math.reduce_min(X_train)"
   ]
  },
  {
   "cell_type": "code",
   "execution_count": 6,
   "id": "90af959b-068e-4a16-a2a4-dcd34436589e",
   "metadata": {
    "execution": {
     "iopub.execute_input": "2023-06-27T04:36:34.603199Z",
     "iopub.status.busy": "2023-06-27T04:36:34.602190Z",
     "iopub.status.idle": "2023-06-27T04:36:34.693453Z",
     "shell.execute_reply": "2023-06-27T04:36:34.693453Z",
     "shell.execute_reply.started": "2023-06-27T04:36:34.603199Z"
    },
    "tags": []
   },
   "outputs": [],
   "source": [
    "# reshape the 28 * 28 pixel values one-dimensional row vectors,\n",
    "# which represent the rows in our X array (784 per row or image)\n",
    "\n",
    "RESHAPED = 784\n",
    "\n",
    "X_train = X_train.reshape(len(X_train), RESHAPED).astype('float32')\n",
    "X_test = X_test.reshape(len(X_test), RESHAPED).astype('float32')\n",
    "\n",
    "# Normalize the data to be within [0,1]\n",
    "X_train /= 255\n",
    "X_test /= 255"
   ]
  },
  {
   "cell_type": "code",
   "execution_count": 7,
   "id": "3d09ca60-5ff4-419a-af8d-b5ccb9e601cb",
   "metadata": {
    "execution": {
     "iopub.execute_input": "2023-06-27T04:36:34.833346Z",
     "iopub.status.busy": "2023-06-27T04:36:34.832347Z",
     "iopub.status.idle": "2023-06-27T04:36:34.849362Z",
     "shell.execute_reply": "2023-06-27T04:36:34.848366Z",
     "shell.execute_reply.started": "2023-06-27T04:36:34.833346Z"
    },
    "tags": []
   },
   "outputs": [
    {
     "data": {
      "text/plain": [
       "((60000, 784), (10000, 784))"
      ]
     },
     "execution_count": 7,
     "metadata": {},
     "output_type": "execute_result"
    }
   ],
   "source": [
    "X_train.shape, X_test.shape"
   ]
  },
  {
   "cell_type": "code",
   "execution_count": 8,
   "id": "5e03447a-44ba-4bf2-9324-aceee16fde1c",
   "metadata": {
    "execution": {
     "iopub.execute_input": "2023-06-27T04:36:35.432894Z",
     "iopub.status.busy": "2023-06-27T04:36:35.431895Z",
     "iopub.status.idle": "2023-06-27T04:36:35.442876Z",
     "shell.execute_reply": "2023-06-27T04:36:35.441838Z",
     "shell.execute_reply.started": "2023-06-27T04:36:35.432894Z"
    },
    "tags": []
   },
   "outputs": [
    {
     "data": {
      "text/plain": [
       "((784,), 1.0, 0.0)"
      ]
     },
     "execution_count": 8,
     "metadata": {},
     "output_type": "execute_result"
    }
   ],
   "source": [
    "X_train[0].shape, np.max(X_train[0]), np.min(X_train[0])"
   ]
  },
  {
   "cell_type": "code",
   "execution_count": 10,
   "id": "91a9d9a8-b74c-4767-bb8c-5df56274a0cc",
   "metadata": {
    "execution": {
     "iopub.execute_input": "2023-06-27T04:36:49.359196Z",
     "iopub.status.busy": "2023-06-27T04:36:49.359196Z",
     "iopub.status.idle": "2023-06-27T04:36:49.368211Z",
     "shell.execute_reply": "2023-06-27T04:36:49.367147Z",
     "shell.execute_reply.started": "2023-06-27T04:36:49.359196Z"
    },
    "tags": []
   },
   "outputs": [
    {
     "data": {
      "text/plain": [
       "(60000, 10)"
      ]
     },
     "execution_count": 10,
     "metadata": {},
     "output_type": "execute_result"
    }
   ],
   "source": [
    "# One-hot Encoding of labels\n",
    "NB_CLASSES=10\n",
    "\n",
    "y_train = tf.keras.utils.to_categorical(y_train, num_classes=NB_CLASSES)\n",
    "y_test = tf.keras.utils.to_categorical(y_test, num_classes=NB_CLASSES)\n",
    "\n",
    "y_train.shape"
   ]
  },
  {
   "cell_type": "markdown",
   "id": "5135e728-54c9-4588-a885-a91f0704ee3d",
   "metadata": {
    "jp-MarkdownHeadingCollapsed": true,
    "tags": []
   },
   "source": [
    "## Single Layer Neural Network\n",
    "\n",
    "```\n",
    "loss: 0.2759 - accuracy: 0.9227 - val_loss: 0.2753 - val_accuracy: 0.9236\n",
    "\n",
    "Test Accuracy: 0.9225\n",
    "Test Loss: 0.2770\n",
    "```"
   ]
  },
  {
   "cell_type": "code",
   "execution_count": 10,
   "id": "0fc1f34b-80f9-4196-a242-7bb40980d52c",
   "metadata": {
    "execution": {
     "iopub.execute_input": "2023-06-26T03:51:00.270582Z",
     "iopub.status.busy": "2023-06-26T03:51:00.269453Z",
     "iopub.status.idle": "2023-06-26T03:51:00.315742Z",
     "shell.execute_reply": "2023-06-26T03:51:00.314741Z",
     "shell.execute_reply.started": "2023-06-26T03:51:00.270582Z"
    }
   },
   "outputs": [],
   "source": [
    "# Model Params\n",
    "EPOCHS = 200\n",
    "BATCH_SIZE = 128\n",
    "VERBOSE = 1\n",
    "NB_CLASSES = 10\n",
    "N_HIDDEN = 128\n",
    "VALIDATION_SPLIT = 0.2\n",
    "\n",
    "\n",
    "# Bulild the model\n",
    "model = tf.keras.models.Sequential()\n",
    "model.add(keras.layers.Dense(units=NB_CLASSES, \n",
    "                             input_shape=(RESHAPED,),\n",
    "                             activation='softmax',\n",
    "                             name=\"dense_layer\"))"
   ]
  },
  {
   "cell_type": "markdown",
   "id": "cf7396ce-c90a-43c2-8770-dc228ed3470d",
   "metadata": {},
   "source": [
    "After building the model we need to compile it and for that we need:\n",
    "\n",
    "- Optimizer: is as specific algo. used to update the weights while we train the model.\n",
    "\n",
    "- Objective function/loss_func/cost_func: which is used by optimizers to navigate the space of weights(i.e. loss minimization). Some common objective/loss  functions are:\n",
    "    - `mse`,`mae`, `binary_crossentropy`(for binary classification), `categorical_crossentropy`(for multi-class classification)\n",
    "\n",
    "- Common Metrics:\n",
    "    - **Accuracy**, defined as the proportion of correct predictions with respect to the total number of predictions.\n",
    "    \n",
    "    - **Precision**, defined as the proportion of correct positive predictions with respect to the number of correct and incorrect positive predictions.\n",
    "\n",
    "    - **Recall**, defined as the proportion of correct positive predictions with respect to the actual number of positive predictions.\n",
    "    \n",
    "- **Metrics** are similar to objective functions, with the only difference being that they are not used for training a model, **only for evaluating the model.**\n",
    "\n",
    "- However, it is important to understand the **difference between metrics and objective functions:**\n",
    "\n",
    "    - As discussed, the loss function is used to optimize your network. This is the function minimized by the selected optimizer. Instead, a metric is used to judge the performance of your network. This is only for you to run an evaluation, and it should be separated from the optimization process."
   ]
  },
  {
   "cell_type": "code",
   "execution_count": 11,
   "id": "35d6119e-3fcc-47b1-a595-4c6b2b9e9f68",
   "metadata": {
    "execution": {
     "iopub.execute_input": "2023-06-26T03:51:00.316742Z",
     "iopub.status.busy": "2023-06-26T03:51:00.316742Z",
     "iopub.status.idle": "2023-06-26T03:51:00.346467Z",
     "shell.execute_reply": "2023-06-26T03:51:00.345266Z",
     "shell.execute_reply.started": "2023-06-26T03:51:00.316742Z"
    }
   },
   "outputs": [
    {
     "name": "stdout",
     "output_type": "stream",
     "text": [
      "Model: \"sequential\"\n",
      "_________________________________________________________________\n",
      " Layer (type)                Output Shape              Param #   \n",
      "=================================================================\n",
      " dense_layer (Dense)         (None, 10)                7850      \n",
      "                                                                 \n",
      "=================================================================\n",
      "Total params: 7,850\n",
      "Trainable params: 7,850\n",
      "Non-trainable params: 0\n",
      "_________________________________________________________________\n"
     ]
    }
   ],
   "source": [
    "# Compile the model\n",
    "model.compile(optimizer='SGD',\n",
    "              loss='categorical_crossentropy',\n",
    "              metrics=['accuracy'])\n",
    "\n",
    "model.summary()"
   ]
  },
  {
   "cell_type": "code",
   "execution_count": 12,
   "id": "7ef31381-09d7-4572-ad3e-c75c5e696d79",
   "metadata": {
    "execution": {
     "iopub.execute_input": "2023-06-26T03:51:00.348473Z",
     "iopub.status.busy": "2023-06-26T03:51:00.348473Z",
     "iopub.status.idle": "2023-06-26T03:54:14.786240Z",
     "shell.execute_reply": "2023-06-26T03:54:14.786240Z",
     "shell.execute_reply.started": "2023-06-26T03:51:00.348473Z"
    },
    "scrolled": true,
    "tags": []
   },
   "outputs": [
    {
     "name": "stdout",
     "output_type": "stream",
     "text": [
      "Epoch 1/200\n",
      "375/375 [==============================] - 2s 3ms/step - loss: 1.3643 - accuracy: 0.6875 - val_loss: 0.8879 - val_accuracy: 0.8253\n",
      "Epoch 2/200\n",
      "375/375 [==============================] - 1s 2ms/step - loss: 0.7889 - accuracy: 0.8297 - val_loss: 0.6546 - val_accuracy: 0.8593\n",
      "Epoch 3/200\n",
      "375/375 [==============================] - 1s 2ms/step - loss: 0.6413 - accuracy: 0.8518 - val_loss: 0.5606 - val_accuracy: 0.8712\n",
      "Epoch 4/200\n",
      "375/375 [==============================] - 1s 2ms/step - loss: 0.5696 - accuracy: 0.8616 - val_loss: 0.5083 - val_accuracy: 0.8788\n",
      "Epoch 5/200\n",
      "375/375 [==============================] - 1s 2ms/step - loss: 0.5259 - accuracy: 0.8678 - val_loss: 0.4744 - val_accuracy: 0.8833\n",
      "Epoch 6/200\n",
      "375/375 [==============================] - 1s 2ms/step - loss: 0.4957 - accuracy: 0.8734 - val_loss: 0.4505 - val_accuracy: 0.8871\n",
      "Epoch 7/200\n",
      "375/375 [==============================] - 1s 2ms/step - loss: 0.4735 - accuracy: 0.8774 - val_loss: 0.4323 - val_accuracy: 0.8910\n",
      "Epoch 8/200\n",
      "375/375 [==============================] - 1s 2ms/step - loss: 0.4562 - accuracy: 0.8811 - val_loss: 0.4182 - val_accuracy: 0.8928\n",
      "Epoch 9/200\n",
      "375/375 [==============================] - 1s 2ms/step - loss: 0.4422 - accuracy: 0.8830 - val_loss: 0.4066 - val_accuracy: 0.8943\n",
      "Epoch 10/200\n",
      "375/375 [==============================] - 1s 3ms/step - loss: 0.4307 - accuracy: 0.8857 - val_loss: 0.3972 - val_accuracy: 0.8955\n",
      "Epoch 11/200\n",
      "375/375 [==============================] - 1s 3ms/step - loss: 0.4210 - accuracy: 0.8880 - val_loss: 0.3890 - val_accuracy: 0.8972\n",
      "Epoch 12/200\n",
      "375/375 [==============================] - 1s 2ms/step - loss: 0.4125 - accuracy: 0.8892 - val_loss: 0.3820 - val_accuracy: 0.8990\n",
      "Epoch 13/200\n",
      "375/375 [==============================] - 1s 3ms/step - loss: 0.4052 - accuracy: 0.8911 - val_loss: 0.3762 - val_accuracy: 0.9004\n",
      "Epoch 14/200\n",
      "375/375 [==============================] - 1s 2ms/step - loss: 0.3987 - accuracy: 0.8924 - val_loss: 0.3705 - val_accuracy: 0.9015\n",
      "Epoch 15/200\n",
      "375/375 [==============================] - 1s 3ms/step - loss: 0.3930 - accuracy: 0.8939 - val_loss: 0.3658 - val_accuracy: 0.9022\n",
      "Epoch 16/200\n",
      "375/375 [==============================] - 1s 2ms/step - loss: 0.3878 - accuracy: 0.8951 - val_loss: 0.3615 - val_accuracy: 0.9036\n",
      "Epoch 17/200\n",
      "375/375 [==============================] - 1s 3ms/step - loss: 0.3831 - accuracy: 0.8957 - val_loss: 0.3575 - val_accuracy: 0.9047\n",
      "Epoch 18/200\n",
      "375/375 [==============================] - 1s 2ms/step - loss: 0.3788 - accuracy: 0.8965 - val_loss: 0.3540 - val_accuracy: 0.9062\n",
      "Epoch 19/200\n",
      "375/375 [==============================] - 1s 3ms/step - loss: 0.3748 - accuracy: 0.8970 - val_loss: 0.3507 - val_accuracy: 0.9060\n",
      "Epoch 20/200\n",
      "375/375 [==============================] - 1s 2ms/step - loss: 0.3713 - accuracy: 0.8979 - val_loss: 0.3479 - val_accuracy: 0.9061\n",
      "Epoch 21/200\n",
      "375/375 [==============================] - 1s 3ms/step - loss: 0.3679 - accuracy: 0.8988 - val_loss: 0.3453 - val_accuracy: 0.9067\n",
      "Epoch 22/200\n",
      "375/375 [==============================] - 1s 2ms/step - loss: 0.3648 - accuracy: 0.8995 - val_loss: 0.3426 - val_accuracy: 0.9078\n",
      "Epoch 23/200\n",
      "375/375 [==============================] - 1s 3ms/step - loss: 0.3619 - accuracy: 0.8999 - val_loss: 0.3403 - val_accuracy: 0.9079\n",
      "Epoch 24/200\n",
      "375/375 [==============================] - 1s 2ms/step - loss: 0.3592 - accuracy: 0.9007 - val_loss: 0.3379 - val_accuracy: 0.9088\n",
      "Epoch 25/200\n",
      "375/375 [==============================] - 1s 3ms/step - loss: 0.3567 - accuracy: 0.9013 - val_loss: 0.3359 - val_accuracy: 0.9088\n",
      "Epoch 26/200\n",
      "375/375 [==============================] - 1s 2ms/step - loss: 0.3543 - accuracy: 0.9016 - val_loss: 0.3340 - val_accuracy: 0.9093\n",
      "Epoch 27/200\n",
      "375/375 [==============================] - 1s 2ms/step - loss: 0.3520 - accuracy: 0.9022 - val_loss: 0.3322 - val_accuracy: 0.9093\n",
      "Epoch 28/200\n",
      "375/375 [==============================] - 1s 3ms/step - loss: 0.3498 - accuracy: 0.9026 - val_loss: 0.3305 - val_accuracy: 0.9096\n",
      "Epoch 29/200\n",
      "375/375 [==============================] - 1s 2ms/step - loss: 0.3479 - accuracy: 0.9035 - val_loss: 0.3287 - val_accuracy: 0.9102\n",
      "Epoch 30/200\n",
      "375/375 [==============================] - 1s 3ms/step - loss: 0.3460 - accuracy: 0.9039 - val_loss: 0.3273 - val_accuracy: 0.9100\n",
      "Epoch 31/200\n",
      "375/375 [==============================] - 1s 3ms/step - loss: 0.3441 - accuracy: 0.9042 - val_loss: 0.3257 - val_accuracy: 0.9116\n",
      "Epoch 32/200\n",
      "375/375 [==============================] - 1s 3ms/step - loss: 0.3424 - accuracy: 0.9044 - val_loss: 0.3243 - val_accuracy: 0.9112\n",
      "Epoch 33/200\n",
      "375/375 [==============================] - 1s 3ms/step - loss: 0.3408 - accuracy: 0.9053 - val_loss: 0.3230 - val_accuracy: 0.9120\n",
      "Epoch 34/200\n",
      "375/375 [==============================] - 1s 3ms/step - loss: 0.3392 - accuracy: 0.9056 - val_loss: 0.3217 - val_accuracy: 0.9120\n",
      "Epoch 35/200\n",
      "375/375 [==============================] - 1s 2ms/step - loss: 0.3377 - accuracy: 0.9060 - val_loss: 0.3204 - val_accuracy: 0.9122\n",
      "Epoch 36/200\n",
      "375/375 [==============================] - 1s 3ms/step - loss: 0.3362 - accuracy: 0.9066 - val_loss: 0.3194 - val_accuracy: 0.9128\n",
      "Epoch 37/200\n",
      "375/375 [==============================] - 1s 2ms/step - loss: 0.3349 - accuracy: 0.9065 - val_loss: 0.3181 - val_accuracy: 0.9130\n",
      "Epoch 38/200\n",
      "375/375 [==============================] - 1s 3ms/step - loss: 0.3335 - accuracy: 0.9071 - val_loss: 0.3170 - val_accuracy: 0.9131\n",
      "Epoch 39/200\n",
      "375/375 [==============================] - 1s 3ms/step - loss: 0.3322 - accuracy: 0.9075 - val_loss: 0.3160 - val_accuracy: 0.9133\n",
      "Epoch 40/200\n",
      "375/375 [==============================] - 1s 3ms/step - loss: 0.3310 - accuracy: 0.9078 - val_loss: 0.3151 - val_accuracy: 0.9135\n",
      "Epoch 41/200\n",
      "375/375 [==============================] - 1s 3ms/step - loss: 0.3298 - accuracy: 0.9081 - val_loss: 0.3142 - val_accuracy: 0.9137\n",
      "Epoch 42/200\n",
      "375/375 [==============================] - 1s 3ms/step - loss: 0.3287 - accuracy: 0.9084 - val_loss: 0.3132 - val_accuracy: 0.9139\n",
      "Epoch 43/200\n",
      "375/375 [==============================] - 1s 2ms/step - loss: 0.3276 - accuracy: 0.9090 - val_loss: 0.3123 - val_accuracy: 0.9137\n",
      "Epoch 44/200\n",
      "375/375 [==============================] - 1s 3ms/step - loss: 0.3265 - accuracy: 0.9090 - val_loss: 0.3115 - val_accuracy: 0.9142\n",
      "Epoch 45/200\n",
      "375/375 [==============================] - 1s 2ms/step - loss: 0.3255 - accuracy: 0.9094 - val_loss: 0.3107 - val_accuracy: 0.9138\n",
      "Epoch 46/200\n",
      "375/375 [==============================] - 1s 3ms/step - loss: 0.3245 - accuracy: 0.9097 - val_loss: 0.3098 - val_accuracy: 0.9142\n",
      "Epoch 47/200\n",
      "375/375 [==============================] - 1s 2ms/step - loss: 0.3235 - accuracy: 0.9101 - val_loss: 0.3091 - val_accuracy: 0.9147\n",
      "Epoch 48/200\n",
      "375/375 [==============================] - 1s 3ms/step - loss: 0.3225 - accuracy: 0.9098 - val_loss: 0.3085 - val_accuracy: 0.9143\n",
      "Epoch 49/200\n",
      "375/375 [==============================] - 1s 3ms/step - loss: 0.3216 - accuracy: 0.9103 - val_loss: 0.3076 - val_accuracy: 0.9154\n",
      "Epoch 50/200\n",
      "375/375 [==============================] - 1s 2ms/step - loss: 0.3207 - accuracy: 0.9108 - val_loss: 0.3071 - val_accuracy: 0.9147\n",
      "Epoch 51/200\n",
      "375/375 [==============================] - 1s 3ms/step - loss: 0.3199 - accuracy: 0.9109 - val_loss: 0.3063 - val_accuracy: 0.9161\n",
      "Epoch 52/200\n",
      "375/375 [==============================] - 1s 3ms/step - loss: 0.3191 - accuracy: 0.9112 - val_loss: 0.3057 - val_accuracy: 0.9156\n",
      "Epoch 53/200\n",
      "375/375 [==============================] - 1s 3ms/step - loss: 0.3183 - accuracy: 0.9116 - val_loss: 0.3051 - val_accuracy: 0.9157\n",
      "Epoch 54/200\n",
      "375/375 [==============================] - 1s 2ms/step - loss: 0.3175 - accuracy: 0.9115 - val_loss: 0.3044 - val_accuracy: 0.9156\n",
      "Epoch 55/200\n",
      "375/375 [==============================] - 1s 3ms/step - loss: 0.3167 - accuracy: 0.9117 - val_loss: 0.3038 - val_accuracy: 0.9160\n",
      "Epoch 56/200\n",
      "375/375 [==============================] - 1s 3ms/step - loss: 0.3160 - accuracy: 0.9120 - val_loss: 0.3033 - val_accuracy: 0.9154\n",
      "Epoch 57/200\n",
      "375/375 [==============================] - 1s 2ms/step - loss: 0.3153 - accuracy: 0.9120 - val_loss: 0.3027 - val_accuracy: 0.9155\n",
      "Epoch 58/200\n",
      "375/375 [==============================] - 1s 3ms/step - loss: 0.3145 - accuracy: 0.9128 - val_loss: 0.3021 - val_accuracy: 0.9158\n",
      "Epoch 59/200\n",
      "375/375 [==============================] - 1s 2ms/step - loss: 0.3139 - accuracy: 0.9125 - val_loss: 0.3015 - val_accuracy: 0.9158\n",
      "Epoch 60/200\n",
      "375/375 [==============================] - 1s 3ms/step - loss: 0.3132 - accuracy: 0.9130 - val_loss: 0.3011 - val_accuracy: 0.9162\n",
      "Epoch 61/200\n",
      "375/375 [==============================] - 1s 2ms/step - loss: 0.3125 - accuracy: 0.9131 - val_loss: 0.3005 - val_accuracy: 0.9162\n",
      "Epoch 62/200\n",
      "375/375 [==============================] - 1s 3ms/step - loss: 0.3119 - accuracy: 0.9133 - val_loss: 0.3001 - val_accuracy: 0.9163\n",
      "Epoch 63/200\n",
      "375/375 [==============================] - 1s 2ms/step - loss: 0.3113 - accuracy: 0.9133 - val_loss: 0.2997 - val_accuracy: 0.9162\n",
      "Epoch 64/200\n",
      "375/375 [==============================] - 1s 3ms/step - loss: 0.3106 - accuracy: 0.9135 - val_loss: 0.2992 - val_accuracy: 0.9163\n",
      "Epoch 65/200\n",
      "375/375 [==============================] - 1s 2ms/step - loss: 0.3101 - accuracy: 0.9138 - val_loss: 0.2987 - val_accuracy: 0.9164\n",
      "Epoch 66/200\n",
      "375/375 [==============================] - 1s 3ms/step - loss: 0.3094 - accuracy: 0.9141 - val_loss: 0.2984 - val_accuracy: 0.9167\n",
      "Epoch 67/200\n",
      "375/375 [==============================] - 1s 2ms/step - loss: 0.3089 - accuracy: 0.9142 - val_loss: 0.2978 - val_accuracy: 0.9166\n",
      "Epoch 68/200\n",
      "375/375 [==============================] - 1s 3ms/step - loss: 0.3083 - accuracy: 0.9144 - val_loss: 0.2974 - val_accuracy: 0.9168\n",
      "Epoch 69/200\n",
      "375/375 [==============================] - 1s 3ms/step - loss: 0.3078 - accuracy: 0.9146 - val_loss: 0.2970 - val_accuracy: 0.9174\n",
      "Epoch 70/200\n",
      "375/375 [==============================] - 1s 2ms/step - loss: 0.3072 - accuracy: 0.9147 - val_loss: 0.2967 - val_accuracy: 0.9175\n",
      "Epoch 71/200\n",
      "375/375 [==============================] - 1s 3ms/step - loss: 0.3067 - accuracy: 0.9148 - val_loss: 0.2962 - val_accuracy: 0.9172\n",
      "Epoch 72/200\n",
      "375/375 [==============================] - 1s 2ms/step - loss: 0.3062 - accuracy: 0.9150 - val_loss: 0.2958 - val_accuracy: 0.9169\n",
      "Epoch 73/200\n",
      "375/375 [==============================] - 1s 3ms/step - loss: 0.3057 - accuracy: 0.9151 - val_loss: 0.2954 - val_accuracy: 0.9174\n",
      "Epoch 74/200\n",
      "375/375 [==============================] - 1s 2ms/step - loss: 0.3052 - accuracy: 0.9154 - val_loss: 0.2950 - val_accuracy: 0.9178\n",
      "Epoch 75/200\n",
      "375/375 [==============================] - 1s 3ms/step - loss: 0.3047 - accuracy: 0.9153 - val_loss: 0.2947 - val_accuracy: 0.9177\n",
      "Epoch 76/200\n",
      "375/375 [==============================] - 1s 2ms/step - loss: 0.3043 - accuracy: 0.9152 - val_loss: 0.2943 - val_accuracy: 0.9178\n",
      "Epoch 77/200\n",
      "375/375 [==============================] - 1s 3ms/step - loss: 0.3037 - accuracy: 0.9155 - val_loss: 0.2941 - val_accuracy: 0.9174\n",
      "Epoch 78/200\n",
      "375/375 [==============================] - 1s 2ms/step - loss: 0.3033 - accuracy: 0.9155 - val_loss: 0.2936 - val_accuracy: 0.9178\n",
      "Epoch 79/200\n",
      "375/375 [==============================] - 1s 3ms/step - loss: 0.3029 - accuracy: 0.9158 - val_loss: 0.2933 - val_accuracy: 0.9178\n",
      "Epoch 80/200\n",
      "375/375 [==============================] - 1s 2ms/step - loss: 0.3024 - accuracy: 0.9160 - val_loss: 0.2930 - val_accuracy: 0.9181\n",
      "Epoch 81/200\n",
      "375/375 [==============================] - 1s 3ms/step - loss: 0.3020 - accuracy: 0.9159 - val_loss: 0.2927 - val_accuracy: 0.9180\n",
      "Epoch 82/200\n",
      "375/375 [==============================] - 1s 2ms/step - loss: 0.3016 - accuracy: 0.9157 - val_loss: 0.2923 - val_accuracy: 0.9182\n",
      "Epoch 83/200\n",
      "375/375 [==============================] - 1s 3ms/step - loss: 0.3012 - accuracy: 0.9163 - val_loss: 0.2920 - val_accuracy: 0.9184\n",
      "Epoch 84/200\n",
      "375/375 [==============================] - 1s 2ms/step - loss: 0.3007 - accuracy: 0.9162 - val_loss: 0.2917 - val_accuracy: 0.9184\n",
      "Epoch 85/200\n",
      "375/375 [==============================] - 1s 3ms/step - loss: 0.3003 - accuracy: 0.9161 - val_loss: 0.2916 - val_accuracy: 0.9179\n",
      "Epoch 86/200\n",
      "375/375 [==============================] - 1s 3ms/step - loss: 0.3000 - accuracy: 0.9161 - val_loss: 0.2911 - val_accuracy: 0.9184\n",
      "Epoch 87/200\n",
      "375/375 [==============================] - 1s 3ms/step - loss: 0.2996 - accuracy: 0.9162 - val_loss: 0.2909 - val_accuracy: 0.9188\n",
      "Epoch 88/200\n",
      "375/375 [==============================] - 1s 3ms/step - loss: 0.2992 - accuracy: 0.9164 - val_loss: 0.2906 - val_accuracy: 0.9184\n",
      "Epoch 89/200\n",
      "375/375 [==============================] - 1s 3ms/step - loss: 0.2988 - accuracy: 0.9163 - val_loss: 0.2904 - val_accuracy: 0.9192\n",
      "Epoch 90/200\n",
      "375/375 [==============================] - 1s 2ms/step - loss: 0.2984 - accuracy: 0.9165 - val_loss: 0.2901 - val_accuracy: 0.9188\n",
      "Epoch 91/200\n",
      "375/375 [==============================] - 1s 2ms/step - loss: 0.2981 - accuracy: 0.9165 - val_loss: 0.2898 - val_accuracy: 0.9192\n",
      "Epoch 92/200\n",
      "375/375 [==============================] - 1s 3ms/step - loss: 0.2977 - accuracy: 0.9166 - val_loss: 0.2896 - val_accuracy: 0.9188\n",
      "Epoch 93/200\n",
      "375/375 [==============================] - 1s 3ms/step - loss: 0.2974 - accuracy: 0.9162 - val_loss: 0.2893 - val_accuracy: 0.9187\n",
      "Epoch 94/200\n",
      "375/375 [==============================] - 1s 3ms/step - loss: 0.2970 - accuracy: 0.9167 - val_loss: 0.2890 - val_accuracy: 0.9194\n",
      "Epoch 95/200\n",
      "375/375 [==============================] - 1s 2ms/step - loss: 0.2967 - accuracy: 0.9168 - val_loss: 0.2888 - val_accuracy: 0.9193\n",
      "Epoch 96/200\n",
      "375/375 [==============================] - 1s 3ms/step - loss: 0.2963 - accuracy: 0.9172 - val_loss: 0.2886 - val_accuracy: 0.9193\n",
      "Epoch 97/200\n",
      "375/375 [==============================] - 1s 2ms/step - loss: 0.2960 - accuracy: 0.9171 - val_loss: 0.2883 - val_accuracy: 0.9197\n",
      "Epoch 98/200\n",
      "375/375 [==============================] - 1s 3ms/step - loss: 0.2957 - accuracy: 0.9174 - val_loss: 0.2881 - val_accuracy: 0.9197\n",
      "Epoch 99/200\n",
      "375/375 [==============================] - 1s 2ms/step - loss: 0.2953 - accuracy: 0.9171 - val_loss: 0.2878 - val_accuracy: 0.9199\n",
      "Epoch 100/200\n",
      "375/375 [==============================] - 1s 3ms/step - loss: 0.2950 - accuracy: 0.9174 - val_loss: 0.2875 - val_accuracy: 0.9199\n",
      "Epoch 101/200\n",
      "375/375 [==============================] - 1s 2ms/step - loss: 0.2947 - accuracy: 0.9175 - val_loss: 0.2874 - val_accuracy: 0.9202\n",
      "Epoch 102/200\n",
      "375/375 [==============================] - 1s 3ms/step - loss: 0.2944 - accuracy: 0.9177 - val_loss: 0.2872 - val_accuracy: 0.9201\n",
      "Epoch 103/200\n",
      "375/375 [==============================] - 1s 3ms/step - loss: 0.2941 - accuracy: 0.9176 - val_loss: 0.2870 - val_accuracy: 0.9202\n",
      "Epoch 104/200\n",
      "375/375 [==============================] - 1s 3ms/step - loss: 0.2938 - accuracy: 0.9176 - val_loss: 0.2867 - val_accuracy: 0.9203\n",
      "Epoch 105/200\n",
      "375/375 [==============================] - 1s 2ms/step - loss: 0.2935 - accuracy: 0.9178 - val_loss: 0.2866 - val_accuracy: 0.9203\n",
      "Epoch 106/200\n",
      "375/375 [==============================] - 1s 3ms/step - loss: 0.2932 - accuracy: 0.9181 - val_loss: 0.2864 - val_accuracy: 0.9204\n",
      "Epoch 107/200\n",
      "375/375 [==============================] - 1s 3ms/step - loss: 0.2929 - accuracy: 0.9180 - val_loss: 0.2861 - val_accuracy: 0.9206\n",
      "Epoch 108/200\n",
      "375/375 [==============================] - 1s 3ms/step - loss: 0.2926 - accuracy: 0.9183 - val_loss: 0.2860 - val_accuracy: 0.9201\n",
      "Epoch 109/200\n",
      "375/375 [==============================] - 1s 2ms/step - loss: 0.2923 - accuracy: 0.9183 - val_loss: 0.2858 - val_accuracy: 0.9201\n",
      "Epoch 110/200\n",
      "375/375 [==============================] - 1s 3ms/step - loss: 0.2921 - accuracy: 0.9183 - val_loss: 0.2856 - val_accuracy: 0.9202\n",
      "Epoch 111/200\n",
      "375/375 [==============================] - 1s 2ms/step - loss: 0.2918 - accuracy: 0.9180 - val_loss: 0.2854 - val_accuracy: 0.9202\n",
      "Epoch 112/200\n",
      "375/375 [==============================] - 1s 3ms/step - loss: 0.2915 - accuracy: 0.9182 - val_loss: 0.2852 - val_accuracy: 0.9207\n",
      "Epoch 113/200\n",
      "375/375 [==============================] - 1s 2ms/step - loss: 0.2912 - accuracy: 0.9181 - val_loss: 0.2851 - val_accuracy: 0.9206\n",
      "Epoch 114/200\n",
      "375/375 [==============================] - 1s 3ms/step - loss: 0.2910 - accuracy: 0.9186 - val_loss: 0.2849 - val_accuracy: 0.9206\n",
      "Epoch 115/200\n",
      "375/375 [==============================] - 1s 2ms/step - loss: 0.2907 - accuracy: 0.9186 - val_loss: 0.2847 - val_accuracy: 0.9208\n",
      "Epoch 116/200\n",
      "375/375 [==============================] - 1s 3ms/step - loss: 0.2905 - accuracy: 0.9186 - val_loss: 0.2844 - val_accuracy: 0.9207\n",
      "Epoch 117/200\n",
      "375/375 [==============================] - 1s 3ms/step - loss: 0.2902 - accuracy: 0.9188 - val_loss: 0.2843 - val_accuracy: 0.9211\n",
      "Epoch 118/200\n",
      "375/375 [==============================] - 1s 3ms/step - loss: 0.2899 - accuracy: 0.9189 - val_loss: 0.2842 - val_accuracy: 0.9208\n",
      "Epoch 119/200\n",
      "375/375 [==============================] - 1s 2ms/step - loss: 0.2897 - accuracy: 0.9187 - val_loss: 0.2839 - val_accuracy: 0.9209\n",
      "Epoch 120/200\n",
      "375/375 [==============================] - 1s 2ms/step - loss: 0.2895 - accuracy: 0.9187 - val_loss: 0.2838 - val_accuracy: 0.9206\n",
      "Epoch 121/200\n",
      "375/375 [==============================] - 1s 3ms/step - loss: 0.2892 - accuracy: 0.9191 - val_loss: 0.2836 - val_accuracy: 0.9208\n",
      "Epoch 122/200\n",
      "375/375 [==============================] - 1s 2ms/step - loss: 0.2890 - accuracy: 0.9192 - val_loss: 0.2835 - val_accuracy: 0.9208\n",
      "Epoch 123/200\n",
      "375/375 [==============================] - 1s 3ms/step - loss: 0.2888 - accuracy: 0.9190 - val_loss: 0.2833 - val_accuracy: 0.9207\n",
      "Epoch 124/200\n",
      "375/375 [==============================] - 1s 2ms/step - loss: 0.2885 - accuracy: 0.9192 - val_loss: 0.2832 - val_accuracy: 0.9208\n",
      "Epoch 125/200\n",
      "375/375 [==============================] - 1s 3ms/step - loss: 0.2883 - accuracy: 0.9195 - val_loss: 0.2831 - val_accuracy: 0.9207\n",
      "Epoch 126/200\n",
      "375/375 [==============================] - 1s 2ms/step - loss: 0.2880 - accuracy: 0.9194 - val_loss: 0.2830 - val_accuracy: 0.9208\n",
      "Epoch 127/200\n",
      "375/375 [==============================] - 1s 3ms/step - loss: 0.2878 - accuracy: 0.9194 - val_loss: 0.2828 - val_accuracy: 0.9209\n",
      "Epoch 128/200\n",
      "375/375 [==============================] - 1s 3ms/step - loss: 0.2876 - accuracy: 0.9198 - val_loss: 0.2826 - val_accuracy: 0.9211\n",
      "Epoch 129/200\n",
      "375/375 [==============================] - 1s 3ms/step - loss: 0.2874 - accuracy: 0.9197 - val_loss: 0.2824 - val_accuracy: 0.9213\n",
      "Epoch 130/200\n",
      "375/375 [==============================] - 1s 2ms/step - loss: 0.2872 - accuracy: 0.9198 - val_loss: 0.2822 - val_accuracy: 0.9210\n",
      "Epoch 131/200\n",
      "375/375 [==============================] - 1s 3ms/step - loss: 0.2870 - accuracy: 0.9197 - val_loss: 0.2821 - val_accuracy: 0.9214\n",
      "Epoch 132/200\n",
      "375/375 [==============================] - 1s 2ms/step - loss: 0.2867 - accuracy: 0.9197 - val_loss: 0.2820 - val_accuracy: 0.9212\n",
      "Epoch 133/200\n",
      "375/375 [==============================] - 1s 3ms/step - loss: 0.2865 - accuracy: 0.9199 - val_loss: 0.2818 - val_accuracy: 0.9211\n",
      "Epoch 134/200\n",
      "375/375 [==============================] - 1s 2ms/step - loss: 0.2863 - accuracy: 0.9199 - val_loss: 0.2816 - val_accuracy: 0.9212\n",
      "Epoch 135/200\n",
      "375/375 [==============================] - 1s 3ms/step - loss: 0.2861 - accuracy: 0.9199 - val_loss: 0.2815 - val_accuracy: 0.9209\n",
      "Epoch 136/200\n",
      "375/375 [==============================] - 1s 2ms/step - loss: 0.2859 - accuracy: 0.9202 - val_loss: 0.2814 - val_accuracy: 0.9214\n",
      "Epoch 137/200\n",
      "375/375 [==============================] - 1s 3ms/step - loss: 0.2857 - accuracy: 0.9204 - val_loss: 0.2813 - val_accuracy: 0.9214\n",
      "Epoch 138/200\n",
      "375/375 [==============================] - 1s 2ms/step - loss: 0.2855 - accuracy: 0.9202 - val_loss: 0.2812 - val_accuracy: 0.9214\n",
      "Epoch 139/200\n",
      "375/375 [==============================] - 1s 3ms/step - loss: 0.2853 - accuracy: 0.9203 - val_loss: 0.2810 - val_accuracy: 0.9211\n",
      "Epoch 140/200\n",
      "375/375 [==============================] - 1s 2ms/step - loss: 0.2851 - accuracy: 0.9204 - val_loss: 0.2809 - val_accuracy: 0.9214\n",
      "Epoch 141/200\n",
      "375/375 [==============================] - 1s 3ms/step - loss: 0.2849 - accuracy: 0.9202 - val_loss: 0.2807 - val_accuracy: 0.9213\n",
      "Epoch 142/200\n",
      "375/375 [==============================] - 1s 3ms/step - loss: 0.2847 - accuracy: 0.9203 - val_loss: 0.2806 - val_accuracy: 0.9215\n",
      "Epoch 143/200\n",
      "375/375 [==============================] - 1s 2ms/step - loss: 0.2845 - accuracy: 0.9205 - val_loss: 0.2805 - val_accuracy: 0.9215\n",
      "Epoch 144/200\n",
      "375/375 [==============================] - 1s 3ms/step - loss: 0.2843 - accuracy: 0.9207 - val_loss: 0.2804 - val_accuracy: 0.9217\n",
      "Epoch 145/200\n",
      "375/375 [==============================] - 1s 2ms/step - loss: 0.2841 - accuracy: 0.9207 - val_loss: 0.2804 - val_accuracy: 0.9213\n",
      "Epoch 146/200\n",
      "375/375 [==============================] - 1s 3ms/step - loss: 0.2839 - accuracy: 0.9206 - val_loss: 0.2802 - val_accuracy: 0.9217\n",
      "Epoch 147/200\n",
      "375/375 [==============================] - 1s 2ms/step - loss: 0.2838 - accuracy: 0.9206 - val_loss: 0.2800 - val_accuracy: 0.9217\n",
      "Epoch 148/200\n",
      "375/375 [==============================] - 1s 3ms/step - loss: 0.2836 - accuracy: 0.9207 - val_loss: 0.2799 - val_accuracy: 0.9216\n",
      "Epoch 149/200\n",
      "375/375 [==============================] - 1s 2ms/step - loss: 0.2834 - accuracy: 0.9208 - val_loss: 0.2798 - val_accuracy: 0.9215\n",
      "Epoch 150/200\n",
      "375/375 [==============================] - 1s 3ms/step - loss: 0.2832 - accuracy: 0.9209 - val_loss: 0.2796 - val_accuracy: 0.9214\n",
      "Epoch 151/200\n",
      "375/375 [==============================] - 1s 2ms/step - loss: 0.2830 - accuracy: 0.9209 - val_loss: 0.2796 - val_accuracy: 0.9215\n",
      "Epoch 152/200\n",
      "375/375 [==============================] - 1s 3ms/step - loss: 0.2828 - accuracy: 0.9210 - val_loss: 0.2795 - val_accuracy: 0.9220\n",
      "Epoch 153/200\n",
      "375/375 [==============================] - 1s 2ms/step - loss: 0.2827 - accuracy: 0.9210 - val_loss: 0.2794 - val_accuracy: 0.9213\n",
      "Epoch 154/200\n",
      "375/375 [==============================] - 1s 3ms/step - loss: 0.2825 - accuracy: 0.9210 - val_loss: 0.2793 - val_accuracy: 0.9218\n",
      "Epoch 155/200\n",
      "375/375 [==============================] - 1s 2ms/step - loss: 0.2823 - accuracy: 0.9211 - val_loss: 0.2792 - val_accuracy: 0.9217\n",
      "Epoch 156/200\n",
      "375/375 [==============================] - 1s 3ms/step - loss: 0.2822 - accuracy: 0.9211 - val_loss: 0.2791 - val_accuracy: 0.9222\n",
      "Epoch 157/200\n",
      "375/375 [==============================] - 1s 2ms/step - loss: 0.2820 - accuracy: 0.9212 - val_loss: 0.2789 - val_accuracy: 0.9215\n",
      "Epoch 158/200\n",
      "375/375 [==============================] - 1s 3ms/step - loss: 0.2818 - accuracy: 0.9214 - val_loss: 0.2790 - val_accuracy: 0.9218\n",
      "Epoch 159/200\n",
      "375/375 [==============================] - 1s 2ms/step - loss: 0.2817 - accuracy: 0.9213 - val_loss: 0.2787 - val_accuracy: 0.9223\n",
      "Epoch 160/200\n",
      "375/375 [==============================] - 1s 3ms/step - loss: 0.2815 - accuracy: 0.9214 - val_loss: 0.2786 - val_accuracy: 0.9227\n",
      "Epoch 161/200\n",
      "375/375 [==============================] - 1s 3ms/step - loss: 0.2813 - accuracy: 0.9215 - val_loss: 0.2786 - val_accuracy: 0.9222\n",
      "Epoch 162/200\n",
      "375/375 [==============================] - 1s 3ms/step - loss: 0.2812 - accuracy: 0.9214 - val_loss: 0.2785 - val_accuracy: 0.9224\n",
      "Epoch 163/200\n",
      "375/375 [==============================] - 1s 2ms/step - loss: 0.2810 - accuracy: 0.9217 - val_loss: 0.2784 - val_accuracy: 0.9226\n",
      "Epoch 164/200\n",
      "375/375 [==============================] - 1s 3ms/step - loss: 0.2809 - accuracy: 0.9214 - val_loss: 0.2782 - val_accuracy: 0.9222\n",
      "Epoch 165/200\n",
      "375/375 [==============================] - 1s 3ms/step - loss: 0.2807 - accuracy: 0.9219 - val_loss: 0.2782 - val_accuracy: 0.9219\n",
      "Epoch 166/200\n",
      "375/375 [==============================] - 1s 2ms/step - loss: 0.2805 - accuracy: 0.9215 - val_loss: 0.2783 - val_accuracy: 0.9222\n",
      "Epoch 167/200\n",
      "375/375 [==============================] - 1s 3ms/step - loss: 0.2804 - accuracy: 0.9219 - val_loss: 0.2780 - val_accuracy: 0.9222\n",
      "Epoch 168/200\n",
      "375/375 [==============================] - 1s 2ms/step - loss: 0.2802 - accuracy: 0.9218 - val_loss: 0.2779 - val_accuracy: 0.9218\n",
      "Epoch 169/200\n",
      "375/375 [==============================] - 1s 3ms/step - loss: 0.2801 - accuracy: 0.9221 - val_loss: 0.2778 - val_accuracy: 0.9222\n",
      "Epoch 170/200\n",
      "375/375 [==============================] - 1s 2ms/step - loss: 0.2799 - accuracy: 0.9219 - val_loss: 0.2777 - val_accuracy: 0.9229\n",
      "Epoch 171/200\n",
      "375/375 [==============================] - 1s 3ms/step - loss: 0.2798 - accuracy: 0.9218 - val_loss: 0.2775 - val_accuracy: 0.9222\n",
      "Epoch 172/200\n",
      "375/375 [==============================] - 1s 3ms/step - loss: 0.2796 - accuracy: 0.9221 - val_loss: 0.2775 - val_accuracy: 0.9225\n",
      "Epoch 173/200\n",
      "375/375 [==============================] - 1s 3ms/step - loss: 0.2795 - accuracy: 0.9218 - val_loss: 0.2774 - val_accuracy: 0.9223\n",
      "Epoch 174/200\n",
      "375/375 [==============================] - 1s 2ms/step - loss: 0.2793 - accuracy: 0.9219 - val_loss: 0.2773 - val_accuracy: 0.9227\n",
      "Epoch 175/200\n",
      "375/375 [==============================] - 1s 3ms/step - loss: 0.2792 - accuracy: 0.9221 - val_loss: 0.2773 - val_accuracy: 0.9227\n",
      "Epoch 176/200\n",
      "375/375 [==============================] - 1s 2ms/step - loss: 0.2791 - accuracy: 0.9220 - val_loss: 0.2772 - val_accuracy: 0.9224\n",
      "Epoch 177/200\n",
      "375/375 [==============================] - 1s 3ms/step - loss: 0.2789 - accuracy: 0.9221 - val_loss: 0.2770 - val_accuracy: 0.9228\n",
      "Epoch 178/200\n",
      "375/375 [==============================] - 1s 2ms/step - loss: 0.2787 - accuracy: 0.9224 - val_loss: 0.2770 - val_accuracy: 0.9223\n",
      "Epoch 179/200\n",
      "375/375 [==============================] - 1s 3ms/step - loss: 0.2786 - accuracy: 0.9220 - val_loss: 0.2769 - val_accuracy: 0.9232\n",
      "Epoch 180/200\n",
      "375/375 [==============================] - 1s 2ms/step - loss: 0.2785 - accuracy: 0.9225 - val_loss: 0.2768 - val_accuracy: 0.9225\n",
      "Epoch 181/200\n",
      "375/375 [==============================] - 1s 3ms/step - loss: 0.2783 - accuracy: 0.9224 - val_loss: 0.2768 - val_accuracy: 0.9227\n",
      "Epoch 182/200\n",
      "375/375 [==============================] - 1s 2ms/step - loss: 0.2782 - accuracy: 0.9221 - val_loss: 0.2766 - val_accuracy: 0.9227\n",
      "Epoch 183/200\n",
      "375/375 [==============================] - 1s 3ms/step - loss: 0.2781 - accuracy: 0.9221 - val_loss: 0.2765 - val_accuracy: 0.9230\n",
      "Epoch 184/200\n",
      "375/375 [==============================] - 1s 2ms/step - loss: 0.2780 - accuracy: 0.9223 - val_loss: 0.2765 - val_accuracy: 0.9226\n",
      "Epoch 185/200\n",
      "375/375 [==============================] - 1s 3ms/step - loss: 0.2778 - accuracy: 0.9223 - val_loss: 0.2764 - val_accuracy: 0.9227\n",
      "Epoch 186/200\n",
      "375/375 [==============================] - 1s 3ms/step - loss: 0.2777 - accuracy: 0.9225 - val_loss: 0.2763 - val_accuracy: 0.9231\n",
      "Epoch 187/200\n",
      "375/375 [==============================] - 1s 3ms/step - loss: 0.2775 - accuracy: 0.9223 - val_loss: 0.2762 - val_accuracy: 0.9231\n",
      "Epoch 188/200\n",
      "375/375 [==============================] - 1s 2ms/step - loss: 0.2774 - accuracy: 0.9225 - val_loss: 0.2762 - val_accuracy: 0.9226\n",
      "Epoch 189/200\n",
      "375/375 [==============================] - 1s 3ms/step - loss: 0.2773 - accuracy: 0.9225 - val_loss: 0.2761 - val_accuracy: 0.9229\n",
      "Epoch 190/200\n",
      "375/375 [==============================] - 1s 2ms/step - loss: 0.2772 - accuracy: 0.9224 - val_loss: 0.2760 - val_accuracy: 0.9230\n",
      "Epoch 191/200\n",
      "375/375 [==============================] - 1s 3ms/step - loss: 0.2770 - accuracy: 0.9226 - val_loss: 0.2760 - val_accuracy: 0.9228\n",
      "Epoch 192/200\n",
      "375/375 [==============================] - 1s 2ms/step - loss: 0.2769 - accuracy: 0.9227 - val_loss: 0.2759 - val_accuracy: 0.9230\n",
      "Epoch 193/200\n",
      "375/375 [==============================] - 1s 3ms/step - loss: 0.2768 - accuracy: 0.9226 - val_loss: 0.2757 - val_accuracy: 0.9227\n",
      "Epoch 194/200\n",
      "375/375 [==============================] - 1s 2ms/step - loss: 0.2766 - accuracy: 0.9228 - val_loss: 0.2757 - val_accuracy: 0.9236\n",
      "Epoch 195/200\n",
      "375/375 [==============================] - 1s 2ms/step - loss: 0.2765 - accuracy: 0.9228 - val_loss: 0.2757 - val_accuracy: 0.9231\n",
      "Epoch 196/200\n",
      "375/375 [==============================] - 1s 3ms/step - loss: 0.2764 - accuracy: 0.9227 - val_loss: 0.2756 - val_accuracy: 0.9229\n",
      "Epoch 197/200\n",
      "375/375 [==============================] - 1s 2ms/step - loss: 0.2763 - accuracy: 0.9228 - val_loss: 0.2755 - val_accuracy: 0.9227\n",
      "Epoch 198/200\n",
      "375/375 [==============================] - 1s 3ms/step - loss: 0.2761 - accuracy: 0.9231 - val_loss: 0.2754 - val_accuracy: 0.9227\n",
      "Epoch 199/200\n",
      "375/375 [==============================] - 1s 2ms/step - loss: 0.2760 - accuracy: 0.9230 - val_loss: 0.2754 - val_accuracy: 0.9231\n",
      "Epoch 200/200\n",
      "375/375 [==============================] - 1s 3ms/step - loss: 0.2759 - accuracy: 0.9227 - val_loss: 0.2753 - val_accuracy: 0.9236\n"
     ]
    }
   ],
   "source": [
    "# Train the model\n",
    "model_history = model.fit(X_train, y_train,\n",
    "                          batch_size=BATCH_SIZE,\n",
    "                          epochs=EPOCHS,\n",
    "                          verbose=VERBOSE,\n",
    "                          validation_split=VALIDATION_SPLIT)"
   ]
  },
  {
   "cell_type": "code",
   "execution_count": 13,
   "id": "0d995ac9-ec0b-4dd2-baf0-fc7deb8f1ccb",
   "metadata": {
    "execution": {
     "iopub.execute_input": "2023-06-26T03:54:15.181760Z",
     "iopub.status.busy": "2023-06-26T03:54:15.181760Z",
     "iopub.status.idle": "2023-06-26T03:54:16.046929Z",
     "shell.execute_reply": "2023-06-26T03:54:16.046929Z",
     "shell.execute_reply.started": "2023-06-26T03:54:15.181760Z"
    }
   },
   "outputs": [
    {
     "name": "stdout",
     "output_type": "stream",
     "text": [
      "313/313 [==============================] - 1s 3ms/step - loss: 0.2771 - accuracy: 0.9225\n",
      "Test Accuracy: 0.9225000143051147\n",
      "Test Loss: 0.27708277106285095\n"
     ]
    }
   ],
   "source": [
    "# Evaluate the model\n",
    "test_loss, test_acc = model.evaluate(X_test, y_test)\n",
    "\n",
    "print(f\"Test Accuracy: {test_acc}\\nTest Loss: {test_loss}\")"
   ]
  },
  {
   "cell_type": "code",
   "execution_count": 16,
   "id": "085573d4-9a79-4054-b449-db7e2624bdb5",
   "metadata": {
    "execution": {
     "iopub.execute_input": "2023-06-26T03:55:55.545661Z",
     "iopub.status.busy": "2023-06-26T03:55:55.544632Z",
     "iopub.status.idle": "2023-06-26T03:55:55.564446Z",
     "shell.execute_reply": "2023-06-26T03:55:55.564446Z",
     "shell.execute_reply.started": "2023-06-26T03:55:55.545661Z"
    },
    "tags": []
   },
   "outputs": [
    {
     "data": {
      "text/plain": [
       "dict_keys(['loss', 'accuracy', 'val_loss', 'val_accuracy'])"
      ]
     },
     "execution_count": 16,
     "metadata": {},
     "output_type": "execute_result"
    }
   ],
   "source": [
    "model_history.history.keys()"
   ]
  },
  {
   "cell_type": "code",
   "execution_count": 27,
   "id": "dd53f165-f149-4207-a8d1-35f75f307efa",
   "metadata": {
    "execution": {
     "iopub.execute_input": "2023-06-26T04:04:07.787911Z",
     "iopub.status.busy": "2023-06-26T04:04:07.786912Z",
     "iopub.status.idle": "2023-06-26T04:04:08.073046Z",
     "shell.execute_reply": "2023-06-26T04:04:08.072117Z",
     "shell.execute_reply.started": "2023-06-26T04:04:07.787911Z"
    },
    "tags": []
   },
   "outputs": [
    {
     "data": {
      "image/png": "[encoded data removed]",
      "text/plain": [
       "<Figure size 1200x500 with 2 Axes>"
      ]
     },
     "metadata": {},
     "output_type": "display_data"
    }
   ],
   "source": [
    "import matplotlib.pyplot as plt\n",
    "\n",
    "plt.figure(figsize=(12,5))\n",
    "plt.subplot(1,2,1)\n",
    "plt.plot(np.arange(1,EPOCHS+1),model_history.history['loss'], )\n",
    "plt.plot(np.arange(1,EPOCHS+1),model_history.history['val_loss'])\n",
    "plt.xlabel(\"EPOCHS\")\n",
    "plt.ylabel(\"LOSS\")\n",
    "plt.legend(['Training Loss', 'Validation Loss'])\n",
    "plt.title(\"Loss\")\n",
    "\n",
    "plt.subplot(1,2,2)\n",
    "plt.plot(np.arange(1,EPOCHS+1),model_history.history['accuracy'])\n",
    "plt.plot(np.arange(1,EPOCHS+1),model_history.history['val_accuracy'])\n",
    "plt.xlabel(\"EPOCHS\")\n",
    "plt.ylabel(\"ACCURACY\")\n",
    "plt.legend(['Training Accuracy', 'Validation Accuracy'])\n",
    "plt.title(\"Accuracy\")\n",
    "\n",
    "plt.show();"
   ]
  },
  {
   "cell_type": "markdown",
   "id": "ecb7eb3e-ea18-4e1f-8116-465cccba7766",
   "metadata": {},
   "source": [
    ">**NOTE:** We can see that the improvement in our model almost stops or becomes almost imperceptible after certain num of epochs. This is called **CONVERGENCE**."
   ]
  },
  {
   "cell_type": "markdown",
   "id": "05eacc31-57ef-47a6-ab46-d73b568e1c7f",
   "metadata": {
    "jp-MarkdownHeadingCollapsed": true,
    "tags": []
   },
   "source": [
    "## Two Hidden Layer NN\n",
    "\n",
    "```\n",
    "loss: 0.0988 - accuracy: 0.9721 - val_loss: 0.1217 - val_accuracy: 0.9673\n",
    "\n",
    "Test Accuracy: 0.9646\n",
    "Test Loss: 0.1169\n",
    "```\n",
    "\n",
    "\n",
    "\n",
    ">**NOTE:** We can see that the improvement in our model almost stops or becomes almost imperceptible after certain num of epochs. This is called **CONVERGENCE**."
   ]
  },
  {
   "cell_type": "code",
   "execution_count": 28,
   "id": "1c76e571-dd64-4070-935e-95beb486ce37",
   "metadata": {
    "execution": {
     "iopub.execute_input": "2023-06-26T04:27:47.479684Z",
     "iopub.status.busy": "2023-06-26T04:27:47.479684Z",
     "iopub.status.idle": "2023-06-26T04:27:47.511156Z",
     "shell.execute_reply": "2023-06-26T04:27:47.510160Z",
     "shell.execute_reply.started": "2023-06-26T04:27:47.479684Z"
    }
   },
   "outputs": [],
   "source": [
    "import tensorflow.keras.backend as K\n",
    "K.clear_session()"
   ]
  },
  {
   "cell_type": "code",
   "execution_count": 31,
   "id": "70f2a813-ed64-4c19-bb22-97b623ac5538",
   "metadata": {
    "execution": {
     "iopub.execute_input": "2023-06-26T06:37:51.124922Z",
     "iopub.status.busy": "2023-06-26T06:37:51.123750Z",
     "iopub.status.idle": "2023-06-26T06:37:51.185930Z",
     "shell.execute_reply": "2023-06-26T06:37:51.184644Z",
     "shell.execute_reply.started": "2023-06-26T06:37:51.124922Z"
    },
    "tags": []
   },
   "outputs": [
    {
     "name": "stdout",
     "output_type": "stream",
     "text": [
      "Model: \"sequential_1\"\n",
      "_________________________________________________________________\n",
      " Layer (type)                Output Shape              Param #   \n",
      "=================================================================\n",
      " dense_layer (Dense)         (None, 128)               100480    \n",
      "                                                                 \n",
      " dense_layer_2 (Dense)       (None, 128)               16512     \n",
      "                                                                 \n",
      " dense_layer_3 (Dense)       (None, 10)                1290      \n",
      "                                                                 \n",
      "=================================================================\n",
      "Total params: 118,282\n",
      "Trainable params: 118,282\n",
      "Non-trainable params: 0\n",
      "_________________________________________________________________\n"
     ]
    }
   ],
   "source": [
    "# Model Params\n",
    "EPOCHS = 50\n",
    "BATCH_SIZE = 128\n",
    "VERBOSE = 1\n",
    "NB_CLASSES = 10\n",
    "N_HIDDEN = 128\n",
    "VALIDATION_SPLIT=0.2\n",
    "\n",
    "\n",
    "# Build the model \n",
    "model = tf.keras.models.Sequential()\n",
    "model.add(keras.layers.Dense(units=N_HIDDEN, \n",
    "                             input_shape=(RESHAPED,),\n",
    "                             name=\"dense_layer\", \n",
    "                             activation=\"relu\"))\n",
    "model.add(keras.layers.Dense(units=N_HIDDEN,\n",
    "                             activation='relu',\n",
    "                             name=\"dense_layer_2\"))\n",
    "model.add(keras.layers.Dense(units=NB_CLASSES, \n",
    "                             activation='softmax',\n",
    "                             name='dense_layer_3'))\n",
    "\n",
    "# Model Summary\n",
    "model.summary()"
   ]
  },
  {
   "cell_type": "code",
   "execution_count": 32,
   "id": "f7795425-f11a-460e-8536-c788634eba51",
   "metadata": {
    "execution": {
     "iopub.execute_input": "2023-06-26T06:40:24.901832Z",
     "iopub.status.busy": "2023-06-26T06:40:24.901832Z",
     "iopub.status.idle": "2023-06-26T06:41:23.996342Z",
     "shell.execute_reply": "2023-06-26T06:41:23.995837Z",
     "shell.execute_reply.started": "2023-06-26T06:40:24.901832Z"
    },
    "scrolled": true,
    "tags": []
   },
   "outputs": [
    {
     "name": "stdout",
     "output_type": "stream",
     "text": [
      "Epoch 1/50\n",
      "375/375 [==============================] - 2s 4ms/step - loss: 1.5014 - accuracy: 0.6128 - val_loss: 0.7620 - val_accuracy: 0.8347\n",
      "Epoch 2/50\n",
      "375/375 [==============================] - 1s 3ms/step - loss: 0.5952 - accuracy: 0.8540 - val_loss: 0.4501 - val_accuracy: 0.8863\n",
      "Epoch 3/50\n",
      "375/375 [==============================] - 1s 3ms/step - loss: 0.4325 - accuracy: 0.8834 - val_loss: 0.3690 - val_accuracy: 0.9005\n",
      "Epoch 4/50\n",
      "375/375 [==============================] - 1s 3ms/step - loss: 0.3726 - accuracy: 0.8957 - val_loss: 0.3316 - val_accuracy: 0.9077\n",
      "Epoch 5/50\n",
      "375/375 [==============================] - 1s 3ms/step - loss: 0.3392 - accuracy: 0.9042 - val_loss: 0.3069 - val_accuracy: 0.9117\n",
      "Epoch 6/50\n",
      "375/375 [==============================] - 1s 3ms/step - loss: 0.3162 - accuracy: 0.9101 - val_loss: 0.2892 - val_accuracy: 0.9172\n",
      "Epoch 7/50\n",
      "375/375 [==============================] - 1s 3ms/step - loss: 0.2980 - accuracy: 0.9147 - val_loss: 0.2753 - val_accuracy: 0.9195\n",
      "Epoch 8/50\n",
      "375/375 [==============================] - 1s 3ms/step - loss: 0.2829 - accuracy: 0.9190 - val_loss: 0.2640 - val_accuracy: 0.9228\n",
      "Epoch 9/50\n",
      "375/375 [==============================] - 1s 3ms/step - loss: 0.2705 - accuracy: 0.9229 - val_loss: 0.2534 - val_accuracy: 0.9267\n",
      "Epoch 10/50\n",
      "375/375 [==============================] - 1s 3ms/step - loss: 0.2590 - accuracy: 0.9258 - val_loss: 0.2444 - val_accuracy: 0.9294\n",
      "Epoch 11/50\n",
      "375/375 [==============================] - 1s 3ms/step - loss: 0.2491 - accuracy: 0.9290 - val_loss: 0.2377 - val_accuracy: 0.9317\n",
      "Epoch 12/50\n",
      "375/375 [==============================] - 1s 3ms/step - loss: 0.2398 - accuracy: 0.9319 - val_loss: 0.2313 - val_accuracy: 0.9348\n",
      "Epoch 13/50\n",
      "375/375 [==============================] - 1s 3ms/step - loss: 0.2317 - accuracy: 0.9343 - val_loss: 0.2229 - val_accuracy: 0.9361\n",
      "Epoch 14/50\n",
      "375/375 [==============================] - 1s 3ms/step - loss: 0.2240 - accuracy: 0.9363 - val_loss: 0.2166 - val_accuracy: 0.9372\n",
      "Epoch 15/50\n",
      "375/375 [==============================] - 1s 3ms/step - loss: 0.2165 - accuracy: 0.9384 - val_loss: 0.2096 - val_accuracy: 0.9395\n",
      "Epoch 16/50\n",
      "375/375 [==============================] - 1s 3ms/step - loss: 0.2102 - accuracy: 0.9403 - val_loss: 0.2055 - val_accuracy: 0.9416\n",
      "Epoch 17/50\n",
      "375/375 [==============================] - 1s 3ms/step - loss: 0.2039 - accuracy: 0.9424 - val_loss: 0.1999 - val_accuracy: 0.9438\n",
      "Epoch 18/50\n",
      "375/375 [==============================] - 1s 3ms/step - loss: 0.1980 - accuracy: 0.9433 - val_loss: 0.1942 - val_accuracy: 0.9460\n",
      "Epoch 19/50\n",
      "375/375 [==============================] - 1s 3ms/step - loss: 0.1926 - accuracy: 0.9458 - val_loss: 0.1909 - val_accuracy: 0.9467\n",
      "Epoch 20/50\n",
      "375/375 [==============================] - 1s 3ms/step - loss: 0.1873 - accuracy: 0.9461 - val_loss: 0.1869 - val_accuracy: 0.9482\n",
      "Epoch 21/50\n",
      "375/375 [==============================] - 1s 3ms/step - loss: 0.1821 - accuracy: 0.9476 - val_loss: 0.1834 - val_accuracy: 0.9478\n",
      "Epoch 22/50\n",
      "375/375 [==============================] - 1s 3ms/step - loss: 0.1776 - accuracy: 0.9495 - val_loss: 0.1780 - val_accuracy: 0.9512\n",
      "Epoch 23/50\n",
      "375/375 [==============================] - 1s 3ms/step - loss: 0.1732 - accuracy: 0.9504 - val_loss: 0.1760 - val_accuracy: 0.9510\n",
      "Epoch 24/50\n",
      "375/375 [==============================] - 1s 3ms/step - loss: 0.1692 - accuracy: 0.9516 - val_loss: 0.1737 - val_accuracy: 0.9520\n",
      "Epoch 25/50\n",
      "375/375 [==============================] - 1s 3ms/step - loss: 0.1648 - accuracy: 0.9525 - val_loss: 0.1696 - val_accuracy: 0.9523\n",
      "Epoch 26/50\n",
      "375/375 [==============================] - 1s 3ms/step - loss: 0.1610 - accuracy: 0.9532 - val_loss: 0.1669 - val_accuracy: 0.9546\n",
      "Epoch 27/50\n",
      "375/375 [==============================] - 1s 3ms/step - loss: 0.1571 - accuracy: 0.9547 - val_loss: 0.1622 - val_accuracy: 0.9556\n",
      "Epoch 28/50\n",
      "375/375 [==============================] - 1s 3ms/step - loss: 0.1534 - accuracy: 0.9561 - val_loss: 0.1601 - val_accuracy: 0.9564\n",
      "Epoch 29/50\n",
      "375/375 [==============================] - 1s 3ms/step - loss: 0.1498 - accuracy: 0.9572 - val_loss: 0.1572 - val_accuracy: 0.9570\n",
      "Epoch 30/50\n",
      "375/375 [==============================] - 1s 3ms/step - loss: 0.1468 - accuracy: 0.9573 - val_loss: 0.1554 - val_accuracy: 0.9568\n",
      "Epoch 31/50\n",
      "375/375 [==============================] - 1s 3ms/step - loss: 0.1435 - accuracy: 0.9585 - val_loss: 0.1523 - val_accuracy: 0.9583\n",
      "Epoch 32/50\n",
      "375/375 [==============================] - 1s 3ms/step - loss: 0.1403 - accuracy: 0.9591 - val_loss: 0.1501 - val_accuracy: 0.9585\n",
      "Epoch 33/50\n",
      "375/375 [==============================] - 1s 3ms/step - loss: 0.1373 - accuracy: 0.9602 - val_loss: 0.1480 - val_accuracy: 0.9588\n",
      "Epoch 34/50\n",
      "375/375 [==============================] - 1s 3ms/step - loss: 0.1344 - accuracy: 0.9607 - val_loss: 0.1448 - val_accuracy: 0.9602\n",
      "Epoch 35/50\n",
      "375/375 [==============================] - 1s 3ms/step - loss: 0.1316 - accuracy: 0.9616 - val_loss: 0.1432 - val_accuracy: 0.9606\n",
      "Epoch 36/50\n",
      "375/375 [==============================] - 1s 3ms/step - loss: 0.1288 - accuracy: 0.9619 - val_loss: 0.1417 - val_accuracy: 0.9610\n",
      "Epoch 37/50\n",
      "375/375 [==============================] - 1s 3ms/step - loss: 0.1263 - accuracy: 0.9634 - val_loss: 0.1403 - val_accuracy: 0.9623\n",
      "Epoch 38/50\n",
      "375/375 [==============================] - 1s 3ms/step - loss: 0.1237 - accuracy: 0.9642 - val_loss: 0.1383 - val_accuracy: 0.9622\n",
      "Epoch 39/50\n",
      "375/375 [==============================] - 1s 3ms/step - loss: 0.1213 - accuracy: 0.9645 - val_loss: 0.1366 - val_accuracy: 0.9615\n",
      "Epoch 40/50\n",
      "375/375 [==============================] - 1s 3ms/step - loss: 0.1189 - accuracy: 0.9650 - val_loss: 0.1348 - val_accuracy: 0.9622\n",
      "Epoch 41/50\n",
      "375/375 [==============================] - 1s 3ms/step - loss: 0.1166 - accuracy: 0.9662 - val_loss: 0.1339 - val_accuracy: 0.9637\n",
      "Epoch 42/50\n",
      "375/375 [==============================] - 1s 3ms/step - loss: 0.1142 - accuracy: 0.9670 - val_loss: 0.1317 - val_accuracy: 0.9636\n",
      "Epoch 43/50\n",
      "375/375 [==============================] - 1s 3ms/step - loss: 0.1122 - accuracy: 0.9675 - val_loss: 0.1303 - val_accuracy: 0.9640\n",
      "Epoch 44/50\n",
      "375/375 [==============================] - 1s 3ms/step - loss: 0.1101 - accuracy: 0.9678 - val_loss: 0.1290 - val_accuracy: 0.9645\n",
      "Epoch 45/50\n",
      "375/375 [==============================] - 1s 3ms/step - loss: 0.1081 - accuracy: 0.9685 - val_loss: 0.1278 - val_accuracy: 0.9647\n",
      "Epoch 46/50\n",
      "375/375 [==============================] - 1s 3ms/step - loss: 0.1061 - accuracy: 0.9689 - val_loss: 0.1262 - val_accuracy: 0.9653\n",
      "Epoch 47/50\n",
      "375/375 [==============================] - 1s 3ms/step - loss: 0.1042 - accuracy: 0.9698 - val_loss: 0.1250 - val_accuracy: 0.9653\n",
      "Epoch 48/50\n",
      "375/375 [==============================] - 1s 3ms/step - loss: 0.1024 - accuracy: 0.9708 - val_loss: 0.1242 - val_accuracy: 0.9663\n",
      "Epoch 49/50\n",
      "375/375 [==============================] - 1s 3ms/step - loss: 0.1005 - accuracy: 0.9714 - val_loss: 0.1230 - val_accuracy: 0.9662\n",
      "Epoch 50/50\n",
      "375/375 [==============================] - 1s 3ms/step - loss: 0.0988 - accuracy: 0.9721 - val_loss: 0.1217 - val_accuracy: 0.9673\n"
     ]
    }
   ],
   "source": [
    "# Compile the model\n",
    "model.compile(optimizer='SGD',\n",
    "              loss='categorical_crossentropy',\n",
    "              metrics=['accuracy'])\n",
    "\n",
    "# Fit the model\n",
    "model_history1 = model.fit(X_train, y_train,\n",
    "                           batch_size=BATCH_SIZE,\n",
    "                           epochs=EPOCHS,\n",
    "                           validation_split=VALIDATION_SPLIT, \n",
    "                           verbose=VERBOSE, workers=10)"
   ]
  },
  {
   "cell_type": "code",
   "execution_count": 33,
   "id": "88e95386-3dd3-441f-9817-10b178cdf11e",
   "metadata": {
    "execution": {
     "iopub.execute_input": "2023-06-26T06:41:39.270354Z",
     "iopub.status.busy": "2023-06-26T06:41:39.270354Z",
     "iopub.status.idle": "2023-06-26T06:41:40.359706Z",
     "shell.execute_reply": "2023-06-26T06:41:40.359706Z",
     "shell.execute_reply.started": "2023-06-26T06:41:39.270354Z"
    }
   },
   "outputs": [
    {
     "name": "stdout",
     "output_type": "stream",
     "text": [
      "313/313 [==============================] - 1s 3ms/step - loss: 0.1169 - accuracy: 0.9646\n",
      "Test Accuracy: 0.9646000266075134\n",
      "Test Loss: 0.11690307408571243\n"
     ]
    }
   ],
   "source": [
    "test_loss, test_acc = model.evaluate(X_test, y_test)\n",
    "\n",
    "print(f\"Test Accuracy: {test_acc}\\nTest Loss: {test_loss}\")"
   ]
  },
  {
   "cell_type": "code",
   "execution_count": 34,
   "id": "3ba276a6-4e4a-4cd6-8c9d-81cf8d736c0b",
   "metadata": {
    "execution": {
     "iopub.execute_input": "2023-06-26T06:42:09.367744Z",
     "iopub.status.busy": "2023-06-26T06:42:09.366678Z",
     "iopub.status.idle": "2023-06-26T06:42:09.750013Z",
     "shell.execute_reply": "2023-06-26T06:42:09.750013Z",
     "shell.execute_reply.started": "2023-06-26T06:42:09.367744Z"
    }
   },
   "outputs": [
    {
     "data": {
      "image/png": "[encoded data removed]",
      "text/plain": [
       "<Figure size 1200x500 with 2 Axes>"
      ]
     },
     "metadata": {},
     "output_type": "display_data"
    }
   ],
   "source": [
    "import matplotlib.pyplot as plt\n",
    "\n",
    "plt.figure(figsize=(12,5))\n",
    "plt.subplot(1,2,1)\n",
    "plt.plot(np.arange(1,EPOCHS+1),model_history1.history['loss'], )\n",
    "plt.plot(np.arange(1,EPOCHS+1),model_history1.history['val_loss'])\n",
    "plt.xlabel(\"EPOCHS\")\n",
    "plt.ylabel(\"LOSS\")\n",
    "plt.legend(['Training Loss', 'Validation Loss'])\n",
    "plt.title(\"Loss\")\n",
    "\n",
    "plt.subplot(1,2,2)\n",
    "plt.plot(np.arange(1,EPOCHS+1),model_history1.history['accuracy'])\n",
    "plt.plot(np.arange(1,EPOCHS+1),model_history1.history['val_accuracy'])\n",
    "plt.xlabel(\"EPOCHS\")\n",
    "plt.ylabel(\"ACCURACY\")\n",
    "plt.legend(['Training Accuracy', 'Validation Accuracy'])\n",
    "plt.title(\"Accuracy\")\n",
    "\n",
    "plt.show();"
   ]
  },
  {
   "cell_type": "markdown",
   "id": "4e96be96-f4eb-4c8b-b770-a0a2fe72c627",
   "metadata": {},
   "source": [
    ">**NOTE:** We can see that the improvement in our model almost stops or becomes almost imperceptible after certain num of epochs. This is called **CONVERGENCE**."
   ]
  },
  {
   "cell_type": "markdown",
   "id": "28562033-0021-4e8f-9cc0-2ebfa2cdf29c",
   "metadata": {
    "jp-MarkdownHeadingCollapsed": true,
    "tags": []
   },
   "source": [
    "## Improving the Simple NN with DROPOUT\n",
    "\n",
    "\n",
    "A simple way to improve Neural-Net is to use `DROPOUT` probability - which randomly ignores/drops few outputs/nodes - This helps the network to learn redundant patterns that are useful for better generalization.\n",
    "\n",
    ">**NOTE:** Dropouts only happen during training, while testing we use all our highly tuned neurons\n",
    "\n",
    "\n",
    "```\n",
    "loss: 0.0749 - accuracy: 0.9766 - val_loss: 0.0792 - val_accuracy: 0.9772\n",
    "Test Accuracy: 0.9779 - Test Loss: 0.0737\n",
    "```"
   ]
  },
  {
   "cell_type": "markdown",
   "id": "759818df-db83-4c9f-b5c5-0eaa5eef79e7",
   "metadata": {},
   "source": [
    "#### [DropOut Regularization](https://machinelearningmastery.com/dropout-for-regularizing-deep-neural-networks/)\n",
    "\n",
    "Dropout is a regularization method that approximates training a large number of neural networks with different architectures in parallel.\n",
    "\n",
    "\n",
    "During training, some number of layer outputs are randomly ignored or “dropped out.” This has the effect of making the layer look-like and be treated-like a layer with a different number of nodes and connectivity to the prior layer. In effect, each update to a layer during training is performed with a different “view” of the configured layer.\n",
    "\n",
    "\n",
    "<div align='center'>\n",
    "    <img src='images/dropout.png'/>\n",
    "</div>"
   ]
  },
  {
   "cell_type": "code",
   "execution_count": 42,
   "id": "5d6aa857-6302-4086-bcfc-18585ee34e4e",
   "metadata": {
    "execution": {
     "iopub.execute_input": "2023-06-26T07:16:09.839337Z",
     "iopub.status.busy": "2023-06-26T07:16:09.839337Z",
     "iopub.status.idle": "2023-06-26T07:16:09.865678Z",
     "shell.execute_reply": "2023-06-26T07:16:09.864680Z",
     "shell.execute_reply.started": "2023-06-26T07:16:09.839337Z"
    },
    "tags": []
   },
   "outputs": [],
   "source": [
    "from tensorflow.keras.backend import clear_session\n",
    "\n",
    "clear_session()"
   ]
  },
  {
   "cell_type": "code",
   "execution_count": 43,
   "id": "a89b82ed-22d9-4b55-84ca-2f03350d42fe",
   "metadata": {
    "execution": {
     "iopub.execute_input": "2023-06-26T07:16:10.340640Z",
     "iopub.status.busy": "2023-06-26T07:16:10.340640Z",
     "iopub.status.idle": "2023-06-26T07:16:10.410837Z",
     "shell.execute_reply": "2023-06-26T07:16:10.410837Z",
     "shell.execute_reply.started": "2023-06-26T07:16:10.340640Z"
    },
    "tags": []
   },
   "outputs": [
    {
     "name": "stdout",
     "output_type": "stream",
     "text": [
      "Model: \"sequential\"\n",
      "_________________________________________________________________\n",
      " Layer (type)                Output Shape              Param #   \n",
      "=================================================================\n",
      " dense_layer (Dense)         (None, 128)               100480    \n",
      "                                                                 \n",
      " dropout (Dropout)           (None, 128)               0         \n",
      "                                                                 \n",
      " dense_layer_2 (Dense)       (None, 128)               16512     \n",
      "                                                                 \n",
      " dropout_1 (Dropout)         (None, 128)               0         \n",
      "                                                                 \n",
      " dense_layer_3 (Dense)       (None, 10)                1290      \n",
      "                                                                 \n",
      "=================================================================\n",
      "Total params: 118,282\n",
      "Trainable params: 118,282\n",
      "Non-trainable params: 0\n",
      "_________________________________________________________________\n"
     ]
    }
   ],
   "source": [
    "# Training Params\n",
    "EPOCHS = 200\n",
    "BATCH_SIZE = 128\n",
    "VERBOSE = 2\n",
    "NB_CLASSES = 10\n",
    "N_HIDDEN = 128\n",
    "VALIDATION_SPLIT = 0.2\n",
    "\n",
    "DROPOUT = 0.3 # Randomly drop 30% of the nodes\n",
    "\n",
    "# Build the model\n",
    "model = tf.keras.models.Sequential()\n",
    "model.add(keras.layers.Dense(N_HIDDEN, \n",
    "                             input_shape=(RESHAPED,),\n",
    "                             name='dense_layer',\n",
    "                             activation='relu'))\n",
    "# A drop-out layer after first dense layer\n",
    "model.add(keras.layers.Dropout(DROPOUT))\n",
    "\n",
    "model.add(keras.layers.Dense(N_HIDDEN,\n",
    "                             name='dense_layer_2',\n",
    "                             activation='relu'))\n",
    "\n",
    "model.add(keras.layers.Dropout(DROPOUT))\n",
    "\n",
    "# Output layer\n",
    "model.add(keras.layers.Dense(NB_CLASSES,\n",
    "                             name='dense_layer_3',\n",
    "                             activation='softmax'))\n",
    "\n",
    "# Model Summary\n",
    "model.summary()"
   ]
  },
  {
   "cell_type": "code",
   "execution_count": 44,
   "id": "81cea578-e17a-4e3d-a3d7-dfee0cebd405",
   "metadata": {
    "execution": {
     "iopub.execute_input": "2023-06-26T07:16:11.099205Z",
     "iopub.status.busy": "2023-06-26T07:16:11.099205Z",
     "iopub.status.idle": "2023-06-26T07:19:37.491129Z",
     "shell.execute_reply": "2023-06-26T07:19:37.490128Z",
     "shell.execute_reply.started": "2023-06-26T07:16:11.099205Z"
    },
    "scrolled": true,
    "tags": []
   },
   "outputs": [
    {
     "name": "stdout",
     "output_type": "stream",
     "text": [
      "Epoch 1/200\n",
      "375/375 - 1s - loss: 1.6945 - accuracy: 0.4601 - val_loss: 0.8870 - val_accuracy: 0.8112 - 1s/epoch - 4ms/step\n",
      "Epoch 2/200\n",
      "375/375 - 1s - loss: 0.9060 - accuracy: 0.7210 - val_loss: 0.5293 - val_accuracy: 0.8673 - 1s/epoch - 3ms/step\n",
      "Epoch 3/200\n",
      "375/375 - 1s - loss: 0.6889 - accuracy: 0.7876 - val_loss: 0.4202 - val_accuracy: 0.8873 - 1s/epoch - 3ms/step\n",
      "Epoch 4/200\n",
      "375/375 - 1s - loss: 0.5920 - accuracy: 0.8199 - val_loss: 0.3685 - val_accuracy: 0.8999 - 994ms/epoch - 3ms/step\n",
      "Epoch 5/200\n",
      "375/375 - 1s - loss: 0.5280 - accuracy: 0.8396 - val_loss: 0.3348 - val_accuracy: 0.9072 - 945ms/epoch - 3ms/step\n",
      "Epoch 6/200\n",
      "375/375 - 1s - loss: 0.4878 - accuracy: 0.8531 - val_loss: 0.3128 - val_accuracy: 0.9103 - 974ms/epoch - 3ms/step\n",
      "Epoch 7/200\n",
      "375/375 - 1s - loss: 0.4505 - accuracy: 0.8662 - val_loss: 0.2936 - val_accuracy: 0.9157 - 984ms/epoch - 3ms/step\n",
      "Epoch 8/200\n",
      "375/375 - 1s - loss: 0.4277 - accuracy: 0.8733 - val_loss: 0.2780 - val_accuracy: 0.9187 - 982ms/epoch - 3ms/step\n",
      "Epoch 9/200\n",
      "375/375 - 1s - loss: 0.4046 - accuracy: 0.8800 - val_loss: 0.2659 - val_accuracy: 0.9235 - 984ms/epoch - 3ms/step\n",
      "Epoch 10/200\n",
      "375/375 - 1s - loss: 0.3884 - accuracy: 0.8849 - val_loss: 0.2548 - val_accuracy: 0.9251 - 1s/epoch - 3ms/step\n",
      "Epoch 11/200\n",
      "375/375 - 1s - loss: 0.3752 - accuracy: 0.8907 - val_loss: 0.2463 - val_accuracy: 0.9291 - 987ms/epoch - 3ms/step\n",
      "Epoch 12/200\n",
      "375/375 - 1s - loss: 0.3562 - accuracy: 0.8942 - val_loss: 0.2374 - val_accuracy: 0.9309 - 971ms/epoch - 3ms/step\n",
      "Epoch 13/200\n",
      "375/375 - 1s - loss: 0.3499 - accuracy: 0.8979 - val_loss: 0.2296 - val_accuracy: 0.9332 - 969ms/epoch - 3ms/step\n",
      "Epoch 14/200\n",
      "375/375 - 1s - loss: 0.3357 - accuracy: 0.9024 - val_loss: 0.2218 - val_accuracy: 0.9358 - 981ms/epoch - 3ms/step\n",
      "Epoch 15/200\n",
      "375/375 - 1s - loss: 0.3260 - accuracy: 0.9036 - val_loss: 0.2152 - val_accuracy: 0.9373 - 969ms/epoch - 3ms/step\n",
      "Epoch 16/200\n",
      "375/375 - 1s - loss: 0.3184 - accuracy: 0.9073 - val_loss: 0.2088 - val_accuracy: 0.9398 - 966ms/epoch - 3ms/step\n",
      "Epoch 17/200\n",
      "375/375 - 1s - loss: 0.3064 - accuracy: 0.9096 - val_loss: 0.2029 - val_accuracy: 0.9419 - 988ms/epoch - 3ms/step\n",
      "Epoch 18/200\n",
      "375/375 - 1s - loss: 0.2961 - accuracy: 0.9141 - val_loss: 0.1985 - val_accuracy: 0.9427 - 992ms/epoch - 3ms/step\n",
      "Epoch 19/200\n",
      "375/375 - 1s - loss: 0.2939 - accuracy: 0.9145 - val_loss: 0.1931 - val_accuracy: 0.9450 - 995ms/epoch - 3ms/step\n",
      "Epoch 20/200\n",
      "375/375 - 1s - loss: 0.2829 - accuracy: 0.9181 - val_loss: 0.1879 - val_accuracy: 0.9465 - 990ms/epoch - 3ms/step\n",
      "Epoch 21/200\n",
      "375/375 - 1s - loss: 0.2784 - accuracy: 0.9185 - val_loss: 0.1841 - val_accuracy: 0.9470 - 1s/epoch - 3ms/step\n",
      "Epoch 22/200\n",
      "375/375 - 1s - loss: 0.2701 - accuracy: 0.9216 - val_loss: 0.1806 - val_accuracy: 0.9483 - 963ms/epoch - 3ms/step\n",
      "Epoch 23/200\n",
      "375/375 - 1s - loss: 0.2634 - accuracy: 0.9238 - val_loss: 0.1767 - val_accuracy: 0.9483 - 980ms/epoch - 3ms/step\n",
      "Epoch 24/200\n",
      "375/375 - 1s - loss: 0.2612 - accuracy: 0.9234 - val_loss: 0.1730 - val_accuracy: 0.9500 - 990ms/epoch - 3ms/step\n",
      "Epoch 25/200\n",
      "375/375 - 1s - loss: 0.2559 - accuracy: 0.9252 - val_loss: 0.1698 - val_accuracy: 0.9514 - 1s/epoch - 3ms/step\n",
      "Epoch 26/200\n",
      "375/375 - 1s - loss: 0.2533 - accuracy: 0.9256 - val_loss: 0.1679 - val_accuracy: 0.9515 - 1s/epoch - 3ms/step\n",
      "Epoch 27/200\n",
      "375/375 - 1s - loss: 0.2464 - accuracy: 0.9291 - val_loss: 0.1635 - val_accuracy: 0.9532 - 1s/epoch - 3ms/step\n",
      "Epoch 28/200\n",
      "375/375 - 1s - loss: 0.2421 - accuracy: 0.9294 - val_loss: 0.1605 - val_accuracy: 0.9534 - 995ms/epoch - 3ms/step\n",
      "Epoch 29/200\n",
      "375/375 - 1s - loss: 0.2379 - accuracy: 0.9299 - val_loss: 0.1582 - val_accuracy: 0.9540 - 1s/epoch - 3ms/step\n",
      "Epoch 30/200\n",
      "375/375 - 1s - loss: 0.2319 - accuracy: 0.9322 - val_loss: 0.1556 - val_accuracy: 0.9553 - 1s/epoch - 3ms/step\n",
      "Epoch 31/200\n",
      "375/375 - 1s - loss: 0.2295 - accuracy: 0.9331 - val_loss: 0.1529 - val_accuracy: 0.9560 - 1s/epoch - 3ms/step\n",
      "Epoch 32/200\n",
      "375/375 - 1s - loss: 0.2264 - accuracy: 0.9342 - val_loss: 0.1510 - val_accuracy: 0.9563 - 1s/epoch - 3ms/step\n",
      "Epoch 33/200\n",
      "375/375 - 1s - loss: 0.2245 - accuracy: 0.9336 - val_loss: 0.1489 - val_accuracy: 0.9567 - 1s/epoch - 3ms/step\n",
      "Epoch 34/200\n",
      "375/375 - 1s - loss: 0.2168 - accuracy: 0.9361 - val_loss: 0.1462 - val_accuracy: 0.9572 - 1s/epoch - 3ms/step\n",
      "Epoch 35/200\n",
      "375/375 - 1s - loss: 0.2145 - accuracy: 0.9366 - val_loss: 0.1447 - val_accuracy: 0.9585 - 1s/epoch - 3ms/step\n",
      "Epoch 36/200\n",
      "375/375 - 1s - loss: 0.2118 - accuracy: 0.9385 - val_loss: 0.1426 - val_accuracy: 0.9582 - 1s/epoch - 3ms/step\n",
      "Epoch 37/200\n",
      "375/375 - 1s - loss: 0.2087 - accuracy: 0.9392 - val_loss: 0.1407 - val_accuracy: 0.9585 - 1s/epoch - 3ms/step\n",
      "Epoch 38/200\n",
      "375/375 - 1s - loss: 0.2046 - accuracy: 0.9403 - val_loss: 0.1393 - val_accuracy: 0.9589 - 1s/epoch - 3ms/step\n",
      "Epoch 39/200\n",
      "375/375 - 1s - loss: 0.2025 - accuracy: 0.9402 - val_loss: 0.1384 - val_accuracy: 0.9593 - 1s/epoch - 3ms/step\n",
      "Epoch 40/200\n",
      "375/375 - 1s - loss: 0.2026 - accuracy: 0.9405 - val_loss: 0.1356 - val_accuracy: 0.9603 - 1s/epoch - 3ms/step\n",
      "Epoch 41/200\n",
      "375/375 - 1s - loss: 0.2005 - accuracy: 0.9416 - val_loss: 0.1340 - val_accuracy: 0.9603 - 1s/epoch - 3ms/step\n",
      "Epoch 42/200\n",
      "375/375 - 1s - loss: 0.1970 - accuracy: 0.9416 - val_loss: 0.1326 - val_accuracy: 0.9607 - 1s/epoch - 3ms/step\n",
      "Epoch 43/200\n",
      "375/375 - 1s - loss: 0.1929 - accuracy: 0.9429 - val_loss: 0.1313 - val_accuracy: 0.9613 - 982ms/epoch - 3ms/step\n",
      "Epoch 44/200\n",
      "375/375 - 1s - loss: 0.1930 - accuracy: 0.9438 - val_loss: 0.1299 - val_accuracy: 0.9624 - 970ms/epoch - 3ms/step\n",
      "Epoch 45/200\n",
      "375/375 - 1s - loss: 0.1891 - accuracy: 0.9448 - val_loss: 0.1294 - val_accuracy: 0.9626 - 976ms/epoch - 3ms/step\n",
      "Epoch 46/200\n",
      "375/375 - 1s - loss: 0.1868 - accuracy: 0.9453 - val_loss: 0.1276 - val_accuracy: 0.9636 - 978ms/epoch - 3ms/step\n",
      "Epoch 47/200\n",
      "375/375 - 1s - loss: 0.1832 - accuracy: 0.9466 - val_loss: 0.1259 - val_accuracy: 0.9638 - 966ms/epoch - 3ms/step\n",
      "Epoch 48/200\n",
      "375/375 - 1s - loss: 0.1840 - accuracy: 0.9452 - val_loss: 0.1247 - val_accuracy: 0.9637 - 985ms/epoch - 3ms/step\n",
      "Epoch 49/200\n",
      "375/375 - 1s - loss: 0.1805 - accuracy: 0.9473 - val_loss: 0.1238 - val_accuracy: 0.9643 - 1s/epoch - 3ms/step\n",
      "Epoch 50/200\n",
      "375/375 - 1s - loss: 0.1801 - accuracy: 0.9469 - val_loss: 0.1228 - val_accuracy: 0.9646 - 1s/epoch - 3ms/step\n",
      "Epoch 51/200\n",
      "375/375 - 1s - loss: 0.1759 - accuracy: 0.9479 - val_loss: 0.1217 - val_accuracy: 0.9653 - 1s/epoch - 3ms/step\n",
      "Epoch 52/200\n",
      "375/375 - 1s - loss: 0.1733 - accuracy: 0.9489 - val_loss: 0.1207 - val_accuracy: 0.9649 - 1s/epoch - 3ms/step\n",
      "Epoch 53/200\n",
      "375/375 - 1s - loss: 0.1743 - accuracy: 0.9491 - val_loss: 0.1196 - val_accuracy: 0.9654 - 974ms/epoch - 3ms/step\n",
      "Epoch 54/200\n",
      "375/375 - 1s - loss: 0.1695 - accuracy: 0.9504 - val_loss: 0.1189 - val_accuracy: 0.9657 - 1s/epoch - 3ms/step\n",
      "Epoch 55/200\n",
      "375/375 - 1s - loss: 0.1676 - accuracy: 0.9510 - val_loss: 0.1182 - val_accuracy: 0.9659 - 1s/epoch - 3ms/step\n",
      "Epoch 56/200\n",
      "375/375 - 1s - loss: 0.1693 - accuracy: 0.9501 - val_loss: 0.1169 - val_accuracy: 0.9662 - 1s/epoch - 3ms/step\n",
      "Epoch 57/200\n",
      "375/375 - 1s - loss: 0.1660 - accuracy: 0.9512 - val_loss: 0.1165 - val_accuracy: 0.9659 - 960ms/epoch - 3ms/step\n",
      "Epoch 58/200\n",
      "375/375 - 1s - loss: 0.1668 - accuracy: 0.9516 - val_loss: 0.1162 - val_accuracy: 0.9664 - 982ms/epoch - 3ms/step\n",
      "Epoch 59/200\n",
      "375/375 - 1s - loss: 0.1627 - accuracy: 0.9524 - val_loss: 0.1147 - val_accuracy: 0.9666 - 1s/epoch - 3ms/step\n",
      "Epoch 60/200\n",
      "375/375 - 1s - loss: 0.1627 - accuracy: 0.9519 - val_loss: 0.1136 - val_accuracy: 0.9672 - 1s/epoch - 3ms/step\n",
      "Epoch 61/200\n",
      "375/375 - 1s - loss: 0.1591 - accuracy: 0.9532 - val_loss: 0.1130 - val_accuracy: 0.9674 - 1s/epoch - 3ms/step\n",
      "Epoch 62/200\n",
      "375/375 - 1s - loss: 0.1571 - accuracy: 0.9536 - val_loss: 0.1121 - val_accuracy: 0.9676 - 1s/epoch - 3ms/step\n",
      "Epoch 63/200\n",
      "375/375 - 1s - loss: 0.1586 - accuracy: 0.9536 - val_loss: 0.1115 - val_accuracy: 0.9682 - 1s/epoch - 3ms/step\n",
      "Epoch 64/200\n",
      "375/375 - 1s - loss: 0.1546 - accuracy: 0.9548 - val_loss: 0.1107 - val_accuracy: 0.9679 - 1s/epoch - 3ms/step\n",
      "Epoch 65/200\n",
      "375/375 - 1s - loss: 0.1555 - accuracy: 0.9532 - val_loss: 0.1101 - val_accuracy: 0.9688 - 1s/epoch - 3ms/step\n",
      "Epoch 66/200\n",
      "375/375 - 1s - loss: 0.1551 - accuracy: 0.9543 - val_loss: 0.1093 - val_accuracy: 0.9689 - 1s/epoch - 3ms/step\n",
      "Epoch 67/200\n",
      "375/375 - 1s - loss: 0.1492 - accuracy: 0.9557 - val_loss: 0.1091 - val_accuracy: 0.9693 - 1s/epoch - 3ms/step\n",
      "Epoch 68/200\n",
      "375/375 - 1s - loss: 0.1538 - accuracy: 0.9556 - val_loss: 0.1083 - val_accuracy: 0.9691 - 1s/epoch - 3ms/step\n",
      "Epoch 69/200\n",
      "375/375 - 1s - loss: 0.1487 - accuracy: 0.9548 - val_loss: 0.1077 - val_accuracy: 0.9697 - 1s/epoch - 3ms/step\n",
      "Epoch 70/200\n",
      "375/375 - 1s - loss: 0.1476 - accuracy: 0.9555 - val_loss: 0.1077 - val_accuracy: 0.9699 - 1s/epoch - 3ms/step\n",
      "Epoch 71/200\n",
      "375/375 - 1s - loss: 0.1489 - accuracy: 0.9558 - val_loss: 0.1063 - val_accuracy: 0.9694 - 1s/epoch - 3ms/step\n",
      "Epoch 72/200\n",
      "375/375 - 1s - loss: 0.1452 - accuracy: 0.9567 - val_loss: 0.1059 - val_accuracy: 0.9698 - 1s/epoch - 3ms/step\n",
      "Epoch 73/200\n",
      "375/375 - 1s - loss: 0.1428 - accuracy: 0.9584 - val_loss: 0.1050 - val_accuracy: 0.9701 - 1s/epoch - 3ms/step\n",
      "Epoch 74/200\n",
      "375/375 - 1s - loss: 0.1425 - accuracy: 0.9578 - val_loss: 0.1048 - val_accuracy: 0.9700 - 1s/epoch - 3ms/step\n",
      "Epoch 75/200\n",
      "375/375 - 1s - loss: 0.1408 - accuracy: 0.9581 - val_loss: 0.1035 - val_accuracy: 0.9703 - 964ms/epoch - 3ms/step\n",
      "Epoch 76/200\n",
      "375/375 - 1s - loss: 0.1411 - accuracy: 0.9590 - val_loss: 0.1028 - val_accuracy: 0.9713 - 974ms/epoch - 3ms/step\n",
      "Epoch 77/200\n",
      "375/375 - 1s - loss: 0.1387 - accuracy: 0.9587 - val_loss: 0.1028 - val_accuracy: 0.9716 - 996ms/epoch - 3ms/step\n",
      "Epoch 78/200\n",
      "375/375 - 1s - loss: 0.1387 - accuracy: 0.9590 - val_loss: 0.1018 - val_accuracy: 0.9710 - 954ms/epoch - 3ms/step\n",
      "Epoch 79/200\n",
      "375/375 - 1s - loss: 0.1348 - accuracy: 0.9594 - val_loss: 0.1017 - val_accuracy: 0.9712 - 999ms/epoch - 3ms/step\n",
      "Epoch 80/200\n",
      "375/375 - 1s - loss: 0.1348 - accuracy: 0.9597 - val_loss: 0.1015 - val_accuracy: 0.9710 - 1s/epoch - 3ms/step\n",
      "Epoch 81/200\n",
      "375/375 - 1s - loss: 0.1360 - accuracy: 0.9588 - val_loss: 0.1017 - val_accuracy: 0.9710 - 1s/epoch - 3ms/step\n",
      "Epoch 82/200\n",
      "375/375 - 1s - loss: 0.1352 - accuracy: 0.9603 - val_loss: 0.1008 - val_accuracy: 0.9715 - 1s/epoch - 3ms/step\n",
      "Epoch 83/200\n",
      "375/375 - 1s - loss: 0.1335 - accuracy: 0.9619 - val_loss: 0.1003 - val_accuracy: 0.9715 - 1s/epoch - 3ms/step\n",
      "Epoch 84/200\n",
      "375/375 - 1s - loss: 0.1329 - accuracy: 0.9609 - val_loss: 0.0999 - val_accuracy: 0.9722 - 1s/epoch - 3ms/step\n",
      "Epoch 85/200\n",
      "375/375 - 1s - loss: 0.1314 - accuracy: 0.9618 - val_loss: 0.0993 - val_accuracy: 0.9721 - 1s/epoch - 3ms/step\n",
      "Epoch 86/200\n",
      "375/375 - 1s - loss: 0.1292 - accuracy: 0.9603 - val_loss: 0.0991 - val_accuracy: 0.9714 - 1s/epoch - 3ms/step\n",
      "Epoch 87/200\n",
      "375/375 - 1s - loss: 0.1285 - accuracy: 0.9619 - val_loss: 0.0987 - val_accuracy: 0.9718 - 1s/epoch - 3ms/step\n",
      "Epoch 88/200\n",
      "375/375 - 1s - loss: 0.1278 - accuracy: 0.9628 - val_loss: 0.0984 - val_accuracy: 0.9722 - 1s/epoch - 3ms/step\n",
      "Epoch 89/200\n",
      "375/375 - 1s - loss: 0.1264 - accuracy: 0.9632 - val_loss: 0.0981 - val_accuracy: 0.9723 - 1s/epoch - 3ms/step\n",
      "Epoch 90/200\n",
      "375/375 - 1s - loss: 0.1282 - accuracy: 0.9620 - val_loss: 0.0972 - val_accuracy: 0.9728 - 1s/epoch - 3ms/step\n",
      "Epoch 91/200\n",
      "375/375 - 1s - loss: 0.1267 - accuracy: 0.9630 - val_loss: 0.0965 - val_accuracy: 0.9721 - 1s/epoch - 3ms/step\n",
      "Epoch 92/200\n",
      "375/375 - 1s - loss: 0.1262 - accuracy: 0.9633 - val_loss: 0.0968 - val_accuracy: 0.9722 - 1s/epoch - 3ms/step\n",
      "Epoch 93/200\n",
      "375/375 - 1s - loss: 0.1236 - accuracy: 0.9629 - val_loss: 0.0964 - val_accuracy: 0.9731 - 1s/epoch - 3ms/step\n",
      "Epoch 94/200\n",
      "375/375 - 1s - loss: 0.1222 - accuracy: 0.9640 - val_loss: 0.0965 - val_accuracy: 0.9732 - 1s/epoch - 3ms/step\n",
      "Epoch 95/200\n",
      "375/375 - 1s - loss: 0.1246 - accuracy: 0.9630 - val_loss: 0.0954 - val_accuracy: 0.9728 - 1s/epoch - 3ms/step\n",
      "Epoch 96/200\n",
      "375/375 - 1s - loss: 0.1223 - accuracy: 0.9630 - val_loss: 0.0955 - val_accuracy: 0.9729 - 1s/epoch - 3ms/step\n",
      "Epoch 97/200\n",
      "375/375 - 1s - loss: 0.1216 - accuracy: 0.9634 - val_loss: 0.0952 - val_accuracy: 0.9730 - 1s/epoch - 3ms/step\n",
      "Epoch 98/200\n",
      "375/375 - 1s - loss: 0.1199 - accuracy: 0.9644 - val_loss: 0.0954 - val_accuracy: 0.9726 - 1s/epoch - 3ms/step\n",
      "Epoch 99/200\n",
      "375/375 - 1s - loss: 0.1208 - accuracy: 0.9633 - val_loss: 0.0944 - val_accuracy: 0.9727 - 1s/epoch - 3ms/step\n",
      "Epoch 100/200\n",
      "375/375 - 1s - loss: 0.1193 - accuracy: 0.9642 - val_loss: 0.0939 - val_accuracy: 0.9731 - 1s/epoch - 3ms/step\n",
      "Epoch 101/200\n",
      "375/375 - 1s - loss: 0.1173 - accuracy: 0.9650 - val_loss: 0.0942 - val_accuracy: 0.9732 - 1s/epoch - 3ms/step\n",
      "Epoch 102/200\n",
      "375/375 - 1s - loss: 0.1177 - accuracy: 0.9654 - val_loss: 0.0936 - val_accuracy: 0.9732 - 1s/epoch - 3ms/step\n",
      "Epoch 103/200\n",
      "375/375 - 1s - loss: 0.1152 - accuracy: 0.9661 - val_loss: 0.0937 - val_accuracy: 0.9731 - 1s/epoch - 3ms/step\n",
      "Epoch 104/200\n",
      "375/375 - 1s - loss: 0.1159 - accuracy: 0.9646 - val_loss: 0.0932 - val_accuracy: 0.9732 - 1s/epoch - 3ms/step\n",
      "Epoch 105/200\n",
      "375/375 - 1s - loss: 0.1161 - accuracy: 0.9656 - val_loss: 0.0926 - val_accuracy: 0.9734 - 1s/epoch - 3ms/step\n",
      "Epoch 106/200\n",
      "375/375 - 1s - loss: 0.1147 - accuracy: 0.9655 - val_loss: 0.0922 - val_accuracy: 0.9733 - 1s/epoch - 3ms/step\n",
      "Epoch 107/200\n",
      "375/375 - 1s - loss: 0.1150 - accuracy: 0.9643 - val_loss: 0.0923 - val_accuracy: 0.9737 - 1s/epoch - 3ms/step\n",
      "Epoch 108/200\n",
      "375/375 - 1s - loss: 0.1146 - accuracy: 0.9659 - val_loss: 0.0920 - val_accuracy: 0.9737 - 1s/epoch - 3ms/step\n",
      "Epoch 109/200\n",
      "375/375 - 1s - loss: 0.1135 - accuracy: 0.9650 - val_loss: 0.0919 - val_accuracy: 0.9737 - 1s/epoch - 3ms/step\n",
      "Epoch 110/200\n",
      "375/375 - 1s - loss: 0.1126 - accuracy: 0.9663 - val_loss: 0.0917 - val_accuracy: 0.9739 - 1s/epoch - 3ms/step\n",
      "Epoch 111/200\n",
      "375/375 - 1s - loss: 0.1112 - accuracy: 0.9654 - val_loss: 0.0912 - val_accuracy: 0.9745 - 1s/epoch - 3ms/step\n",
      "Epoch 112/200\n",
      "375/375 - 1s - loss: 0.1136 - accuracy: 0.9666 - val_loss: 0.0909 - val_accuracy: 0.9744 - 1s/epoch - 3ms/step\n",
      "Epoch 113/200\n",
      "375/375 - 1s - loss: 0.1107 - accuracy: 0.9668 - val_loss: 0.0905 - val_accuracy: 0.9744 - 1s/epoch - 3ms/step\n",
      "Epoch 114/200\n",
      "375/375 - 1s - loss: 0.1110 - accuracy: 0.9674 - val_loss: 0.0901 - val_accuracy: 0.9744 - 1s/epoch - 3ms/step\n",
      "Epoch 115/200\n",
      "375/375 - 1s - loss: 0.1082 - accuracy: 0.9676 - val_loss: 0.0895 - val_accuracy: 0.9747 - 1s/epoch - 3ms/step\n",
      "Epoch 116/200\n",
      "375/375 - 1s - loss: 0.1057 - accuracy: 0.9681 - val_loss: 0.0899 - val_accuracy: 0.9748 - 1s/epoch - 3ms/step\n",
      "Epoch 117/200\n",
      "375/375 - 1s - loss: 0.1068 - accuracy: 0.9675 - val_loss: 0.0894 - val_accuracy: 0.9749 - 1s/epoch - 3ms/step\n",
      "Epoch 118/200\n",
      "375/375 - 1s - loss: 0.1065 - accuracy: 0.9688 - val_loss: 0.0893 - val_accuracy: 0.9747 - 1s/epoch - 3ms/step\n",
      "Epoch 119/200\n",
      "375/375 - 1s - loss: 0.1056 - accuracy: 0.9680 - val_loss: 0.0890 - val_accuracy: 0.9744 - 1s/epoch - 3ms/step\n",
      "Epoch 120/200\n",
      "375/375 - 1s - loss: 0.1077 - accuracy: 0.9675 - val_loss: 0.0887 - val_accuracy: 0.9747 - 1s/epoch - 3ms/step\n",
      "Epoch 121/200\n",
      "375/375 - 1s - loss: 0.1063 - accuracy: 0.9674 - val_loss: 0.0886 - val_accuracy: 0.9745 - 1s/epoch - 3ms/step\n",
      "Epoch 122/200\n",
      "375/375 - 1s - loss: 0.1046 - accuracy: 0.9682 - val_loss: 0.0881 - val_accuracy: 0.9746 - 1s/epoch - 3ms/step\n",
      "Epoch 123/200\n",
      "375/375 - 1s - loss: 0.1036 - accuracy: 0.9692 - val_loss: 0.0882 - val_accuracy: 0.9754 - 1s/epoch - 3ms/step\n",
      "Epoch 124/200\n",
      "375/375 - 1s - loss: 0.1022 - accuracy: 0.9697 - val_loss: 0.0878 - val_accuracy: 0.9747 - 1s/epoch - 3ms/step\n",
      "Epoch 125/200\n",
      "375/375 - 1s - loss: 0.1071 - accuracy: 0.9675 - val_loss: 0.0875 - val_accuracy: 0.9749 - 1s/epoch - 3ms/step\n",
      "Epoch 126/200\n",
      "375/375 - 1s - loss: 0.1037 - accuracy: 0.9687 - val_loss: 0.0869 - val_accuracy: 0.9750 - 1s/epoch - 3ms/step\n",
      "Epoch 127/200\n",
      "375/375 - 1s - loss: 0.1016 - accuracy: 0.9689 - val_loss: 0.0871 - val_accuracy: 0.9747 - 1s/epoch - 3ms/step\n",
      "Epoch 128/200\n",
      "375/375 - 1s - loss: 0.0998 - accuracy: 0.9692 - val_loss: 0.0871 - val_accuracy: 0.9748 - 1s/epoch - 3ms/step\n",
      "Epoch 129/200\n",
      "375/375 - 1s - loss: 0.1000 - accuracy: 0.9700 - val_loss: 0.0868 - val_accuracy: 0.9746 - 1s/epoch - 3ms/step\n",
      "Epoch 130/200\n",
      "375/375 - 1s - loss: 0.0984 - accuracy: 0.9699 - val_loss: 0.0869 - val_accuracy: 0.9748 - 1s/epoch - 3ms/step\n",
      "Epoch 131/200\n",
      "375/375 - 1s - loss: 0.1005 - accuracy: 0.9695 - val_loss: 0.0863 - val_accuracy: 0.9751 - 1s/epoch - 3ms/step\n",
      "Epoch 132/200\n",
      "375/375 - 1s - loss: 0.0978 - accuracy: 0.9709 - val_loss: 0.0862 - val_accuracy: 0.9749 - 1s/epoch - 3ms/step\n",
      "Epoch 133/200\n",
      "375/375 - 1s - loss: 0.0980 - accuracy: 0.9703 - val_loss: 0.0866 - val_accuracy: 0.9753 - 1s/epoch - 3ms/step\n",
      "Epoch 134/200\n",
      "375/375 - 1s - loss: 0.1005 - accuracy: 0.9690 - val_loss: 0.0857 - val_accuracy: 0.9750 - 1s/epoch - 3ms/step\n",
      "Epoch 135/200\n",
      "375/375 - 1s - loss: 0.0988 - accuracy: 0.9704 - val_loss: 0.0857 - val_accuracy: 0.9753 - 1s/epoch - 3ms/step\n",
      "Epoch 136/200\n",
      "375/375 - 1s - loss: 0.0994 - accuracy: 0.9701 - val_loss: 0.0849 - val_accuracy: 0.9755 - 1s/epoch - 3ms/step\n",
      "Epoch 137/200\n",
      "375/375 - 1s - loss: 0.0973 - accuracy: 0.9706 - val_loss: 0.0856 - val_accuracy: 0.9759 - 1s/epoch - 3ms/step\n",
      "Epoch 138/200\n",
      "375/375 - 1s - loss: 0.0983 - accuracy: 0.9700 - val_loss: 0.0850 - val_accuracy: 0.9748 - 975ms/epoch - 3ms/step\n",
      "Epoch 139/200\n",
      "375/375 - 1s - loss: 0.0961 - accuracy: 0.9714 - val_loss: 0.0851 - val_accuracy: 0.9754 - 983ms/epoch - 3ms/step\n",
      "Epoch 140/200\n",
      "375/375 - 1s - loss: 0.0964 - accuracy: 0.9707 - val_loss: 0.0851 - val_accuracy: 0.9753 - 980ms/epoch - 3ms/step\n",
      "Epoch 141/200\n",
      "375/375 - 1s - loss: 0.0969 - accuracy: 0.9710 - val_loss: 0.0849 - val_accuracy: 0.9754 - 999ms/epoch - 3ms/step\n",
      "Epoch 142/200\n",
      "375/375 - 1s - loss: 0.0963 - accuracy: 0.9716 - val_loss: 0.0853 - val_accuracy: 0.9756 - 982ms/epoch - 3ms/step\n",
      "Epoch 143/200\n",
      "375/375 - 1s - loss: 0.0934 - accuracy: 0.9713 - val_loss: 0.0848 - val_accuracy: 0.9753 - 1s/epoch - 3ms/step\n",
      "Epoch 144/200\n",
      "375/375 - 1s - loss: 0.0934 - accuracy: 0.9722 - val_loss: 0.0843 - val_accuracy: 0.9757 - 1s/epoch - 3ms/step\n",
      "Epoch 145/200\n",
      "375/375 - 1s - loss: 0.0974 - accuracy: 0.9702 - val_loss: 0.0841 - val_accuracy: 0.9754 - 1s/epoch - 3ms/step\n",
      "Epoch 146/200\n",
      "375/375 - 1s - loss: 0.0930 - accuracy: 0.9716 - val_loss: 0.0840 - val_accuracy: 0.9759 - 1s/epoch - 3ms/step\n",
      "Epoch 147/200\n",
      "375/375 - 1s - loss: 0.0917 - accuracy: 0.9720 - val_loss: 0.0839 - val_accuracy: 0.9758 - 1s/epoch - 3ms/step\n",
      "Epoch 148/200\n",
      "375/375 - 1s - loss: 0.0944 - accuracy: 0.9704 - val_loss: 0.0839 - val_accuracy: 0.9758 - 1s/epoch - 3ms/step\n",
      "Epoch 149/200\n",
      "375/375 - 1s - loss: 0.0935 - accuracy: 0.9714 - val_loss: 0.0831 - val_accuracy: 0.9758 - 1s/epoch - 3ms/step\n",
      "Epoch 150/200\n",
      "375/375 - 1s - loss: 0.0913 - accuracy: 0.9723 - val_loss: 0.0833 - val_accuracy: 0.9760 - 1s/epoch - 3ms/step\n",
      "Epoch 151/200\n",
      "375/375 - 1s - loss: 0.0914 - accuracy: 0.9723 - val_loss: 0.0829 - val_accuracy: 0.9762 - 1s/epoch - 3ms/step\n",
      "Epoch 152/200\n",
      "375/375 - 1s - loss: 0.0902 - accuracy: 0.9718 - val_loss: 0.0828 - val_accuracy: 0.9762 - 1s/epoch - 3ms/step\n",
      "Epoch 153/200\n",
      "375/375 - 1s - loss: 0.0921 - accuracy: 0.9724 - val_loss: 0.0828 - val_accuracy: 0.9759 - 1s/epoch - 3ms/step\n",
      "Epoch 154/200\n",
      "375/375 - 1s - loss: 0.0914 - accuracy: 0.9722 - val_loss: 0.0827 - val_accuracy: 0.9766 - 1s/epoch - 3ms/step\n",
      "Epoch 155/200\n",
      "375/375 - 1s - loss: 0.0910 - accuracy: 0.9723 - val_loss: 0.0828 - val_accuracy: 0.9758 - 1s/epoch - 3ms/step\n",
      "Epoch 156/200\n",
      "375/375 - 1s - loss: 0.0911 - accuracy: 0.9719 - val_loss: 0.0828 - val_accuracy: 0.9762 - 1s/epoch - 3ms/step\n",
      "Epoch 157/200\n",
      "375/375 - 1s - loss: 0.0913 - accuracy: 0.9720 - val_loss: 0.0826 - val_accuracy: 0.9763 - 1s/epoch - 3ms/step\n",
      "Epoch 158/200\n",
      "375/375 - 1s - loss: 0.0888 - accuracy: 0.9732 - val_loss: 0.0823 - val_accuracy: 0.9766 - 1s/epoch - 3ms/step\n",
      "Epoch 159/200\n",
      "375/375 - 1s - loss: 0.0886 - accuracy: 0.9737 - val_loss: 0.0827 - val_accuracy: 0.9762 - 1s/epoch - 3ms/step\n",
      "Epoch 160/200\n",
      "375/375 - 1s - loss: 0.0869 - accuracy: 0.9732 - val_loss: 0.0822 - val_accuracy: 0.9764 - 1s/epoch - 3ms/step\n",
      "Epoch 161/200\n",
      "375/375 - 1s - loss: 0.0891 - accuracy: 0.9722 - val_loss: 0.0829 - val_accuracy: 0.9772 - 1s/epoch - 3ms/step\n",
      "Epoch 162/200\n",
      "375/375 - 1s - loss: 0.0874 - accuracy: 0.9729 - val_loss: 0.0820 - val_accuracy: 0.9769 - 1s/epoch - 3ms/step\n",
      "Epoch 163/200\n",
      "375/375 - 1s - loss: 0.0872 - accuracy: 0.9732 - val_loss: 0.0826 - val_accuracy: 0.9768 - 1s/epoch - 3ms/step\n",
      "Epoch 164/200\n",
      "375/375 - 1s - loss: 0.0847 - accuracy: 0.9738 - val_loss: 0.0819 - val_accuracy: 0.9765 - 1s/epoch - 3ms/step\n",
      "Epoch 165/200\n",
      "375/375 - 1s - loss: 0.0855 - accuracy: 0.9736 - val_loss: 0.0822 - val_accuracy: 0.9763 - 1s/epoch - 3ms/step\n",
      "Epoch 166/200\n",
      "375/375 - 1s - loss: 0.0859 - accuracy: 0.9735 - val_loss: 0.0815 - val_accuracy: 0.9769 - 1s/epoch - 3ms/step\n",
      "Epoch 167/200\n",
      "375/375 - 1s - loss: 0.0862 - accuracy: 0.9736 - val_loss: 0.0813 - val_accuracy: 0.9768 - 991ms/epoch - 3ms/step\n",
      "Epoch 168/200\n",
      "375/375 - 1s - loss: 0.0859 - accuracy: 0.9731 - val_loss: 0.0809 - val_accuracy: 0.9768 - 1s/epoch - 3ms/step\n",
      "Epoch 169/200\n",
      "375/375 - 1s - loss: 0.0844 - accuracy: 0.9740 - val_loss: 0.0808 - val_accuracy: 0.9774 - 1s/epoch - 3ms/step\n",
      "Epoch 170/200\n",
      "375/375 - 1s - loss: 0.0827 - accuracy: 0.9748 - val_loss: 0.0812 - val_accuracy: 0.9766 - 1s/epoch - 3ms/step\n",
      "Epoch 171/200\n",
      "375/375 - 1s - loss: 0.0824 - accuracy: 0.9753 - val_loss: 0.0810 - val_accuracy: 0.9769 - 1s/epoch - 3ms/step\n",
      "Epoch 172/200\n",
      "375/375 - 1s - loss: 0.0830 - accuracy: 0.9748 - val_loss: 0.0813 - val_accuracy: 0.9767 - 1s/epoch - 3ms/step\n",
      "Epoch 173/200\n",
      "375/375 - 1s - loss: 0.0821 - accuracy: 0.9741 - val_loss: 0.0816 - val_accuracy: 0.9769 - 1s/epoch - 3ms/step\n",
      "Epoch 174/200\n",
      "375/375 - 1s - loss: 0.0822 - accuracy: 0.9753 - val_loss: 0.0811 - val_accuracy: 0.9771 - 1s/epoch - 3ms/step\n",
      "Epoch 175/200\n",
      "375/375 - 1s - loss: 0.0847 - accuracy: 0.9735 - val_loss: 0.0806 - val_accuracy: 0.9773 - 1s/epoch - 3ms/step\n",
      "Epoch 176/200\n",
      "375/375 - 1s - loss: 0.0808 - accuracy: 0.9748 - val_loss: 0.0806 - val_accuracy: 0.9774 - 1s/epoch - 3ms/step\n",
      "Epoch 177/200\n",
      "375/375 - 1s - loss: 0.0804 - accuracy: 0.9755 - val_loss: 0.0808 - val_accuracy: 0.9774 - 1s/epoch - 3ms/step\n",
      "Epoch 178/200\n",
      "375/375 - 1s - loss: 0.0821 - accuracy: 0.9742 - val_loss: 0.0805 - val_accuracy: 0.9768 - 1s/epoch - 3ms/step\n",
      "Epoch 179/200\n",
      "375/375 - 1s - loss: 0.0811 - accuracy: 0.9750 - val_loss: 0.0804 - val_accuracy: 0.9772 - 1s/epoch - 3ms/step\n",
      "Epoch 180/200\n",
      "375/375 - 1s - loss: 0.0803 - accuracy: 0.9755 - val_loss: 0.0803 - val_accuracy: 0.9769 - 1s/epoch - 3ms/step\n",
      "Epoch 181/200\n",
      "375/375 - 1s - loss: 0.0799 - accuracy: 0.9755 - val_loss: 0.0811 - val_accuracy: 0.9769 - 1s/epoch - 3ms/step\n",
      "Epoch 182/200\n",
      "375/375 - 1s - loss: 0.0789 - accuracy: 0.9758 - val_loss: 0.0809 - val_accuracy: 0.9776 - 1s/epoch - 3ms/step\n",
      "Epoch 183/200\n",
      "375/375 - 1s - loss: 0.0809 - accuracy: 0.9759 - val_loss: 0.0803 - val_accuracy: 0.9771 - 1s/epoch - 3ms/step\n",
      "Epoch 184/200\n",
      "375/375 - 1s - loss: 0.0792 - accuracy: 0.9754 - val_loss: 0.0804 - val_accuracy: 0.9772 - 1s/epoch - 3ms/step\n",
      "Epoch 185/200\n",
      "375/375 - 1s - loss: 0.0801 - accuracy: 0.9748 - val_loss: 0.0804 - val_accuracy: 0.9773 - 1s/epoch - 3ms/step\n",
      "Epoch 186/200\n",
      "375/375 - 1s - loss: 0.0788 - accuracy: 0.9752 - val_loss: 0.0802 - val_accuracy: 0.9773 - 1s/epoch - 3ms/step\n",
      "Epoch 187/200\n",
      "375/375 - 1s - loss: 0.0788 - accuracy: 0.9758 - val_loss: 0.0795 - val_accuracy: 0.9775 - 1s/epoch - 3ms/step\n",
      "Epoch 188/200\n",
      "375/375 - 1s - loss: 0.0789 - accuracy: 0.9764 - val_loss: 0.0800 - val_accuracy: 0.9775 - 1s/epoch - 3ms/step\n",
      "Epoch 189/200\n",
      "375/375 - 1s - loss: 0.0797 - accuracy: 0.9754 - val_loss: 0.0795 - val_accuracy: 0.9776 - 1s/epoch - 3ms/step\n",
      "Epoch 190/200\n",
      "375/375 - 1s - loss: 0.0800 - accuracy: 0.9747 - val_loss: 0.0797 - val_accuracy: 0.9770 - 1s/epoch - 3ms/step\n",
      "Epoch 191/200\n",
      "375/375 - 1s - loss: 0.0797 - accuracy: 0.9753 - val_loss: 0.0798 - val_accuracy: 0.9773 - 1s/epoch - 3ms/step\n",
      "Epoch 192/200\n",
      "375/375 - 1s - loss: 0.0769 - accuracy: 0.9771 - val_loss: 0.0792 - val_accuracy: 0.9779 - 1s/epoch - 3ms/step\n",
      "Epoch 193/200\n",
      "375/375 - 1s - loss: 0.0772 - accuracy: 0.9760 - val_loss: 0.0800 - val_accuracy: 0.9772 - 1s/epoch - 3ms/step\n",
      "Epoch 194/200\n",
      "375/375 - 1s - loss: 0.0759 - accuracy: 0.9756 - val_loss: 0.0795 - val_accuracy: 0.9777 - 1s/epoch - 3ms/step\n",
      "Epoch 195/200\n",
      "375/375 - 1s - loss: 0.0788 - accuracy: 0.9751 - val_loss: 0.0790 - val_accuracy: 0.9777 - 1s/epoch - 3ms/step\n",
      "Epoch 196/200\n",
      "375/375 - 1s - loss: 0.0740 - accuracy: 0.9765 - val_loss: 0.0792 - val_accuracy: 0.9778 - 1s/epoch - 3ms/step\n",
      "Epoch 197/200\n",
      "375/375 - 1s - loss: 0.0756 - accuracy: 0.9768 - val_loss: 0.0791 - val_accuracy: 0.9780 - 1s/epoch - 3ms/step\n",
      "Epoch 198/200\n",
      "375/375 - 1s - loss: 0.0770 - accuracy: 0.9765 - val_loss: 0.0788 - val_accuracy: 0.9773 - 1s/epoch - 3ms/step\n",
      "Epoch 199/200\n",
      "375/375 - 1s - loss: 0.0748 - accuracy: 0.9772 - val_loss: 0.0798 - val_accuracy: 0.9776 - 1s/epoch - 3ms/step\n",
      "Epoch 200/200\n",
      "375/375 - 1s - loss: 0.0749 - accuracy: 0.9766 - val_loss: 0.0792 - val_accuracy: 0.9772 - 1s/epoch - 3ms/step\n"
     ]
    }
   ],
   "source": [
    "# Compile the model\n",
    "model.compile(optimizer='SGD',\n",
    "              loss='categorical_crossentropy',\n",
    "              metrics=['accuracy'])\n",
    "\n",
    "# Fit the model\n",
    "model_history2 = model.fit(X_train, y_train,\n",
    "                           batch_size=BATCH_SIZE,\n",
    "                           epochs=EPOCHS,\n",
    "                           validation_split=VALIDATION_SPLIT,\n",
    "                           verbose=VERBOSE, workers=None)"
   ]
  },
  {
   "cell_type": "code",
   "execution_count": 45,
   "id": "1e358311-acdf-4565-9947-19eaad7a1eb7",
   "metadata": {
    "execution": {
     "iopub.execute_input": "2023-06-26T07:19:37.492287Z",
     "iopub.status.busy": "2023-06-26T07:19:37.492287Z",
     "iopub.status.idle": "2023-06-26T07:19:38.269767Z",
     "shell.execute_reply": "2023-06-26T07:19:38.268760Z",
     "shell.execute_reply.started": "2023-06-26T07:19:37.492287Z"
    },
    "tags": []
   },
   "outputs": [
    {
     "name": "stdout",
     "output_type": "stream",
     "text": [
      "313/313 [==============================] - 1s 2ms/step - loss: 0.0738 - accuracy: 0.9780\n",
      "Test Accuracy: 0.9779999852180481\n",
      "Test Loss: 0.07376372069120407\n"
     ]
    }
   ],
   "source": [
    "test_loss, test_acc = model.evaluate(X_test, y_test)\n",
    "\n",
    "print(f\"Test Accuracy: {test_acc}\\nTest Loss: {test_loss}\")"
   ]
  },
  {
   "cell_type": "code",
   "execution_count": 46,
   "id": "85975e19-c1ea-4240-abb4-08df580f5c41",
   "metadata": {
    "execution": {
     "iopub.execute_input": "2023-06-26T07:19:38.270774Z",
     "iopub.status.busy": "2023-06-26T07:19:38.270774Z",
     "iopub.status.idle": "2023-06-26T07:19:38.579597Z",
     "shell.execute_reply": "2023-06-26T07:19:38.578518Z",
     "shell.execute_reply.started": "2023-06-26T07:19:38.270774Z"
    },
    "tags": []
   },
   "outputs": [
    {
     "data": {
      "image/png": "[encoded data removed]",
      "text/plain": [
       "<Figure size 1200x500 with 2 Axes>"
      ]
     },
     "metadata": {},
     "output_type": "display_data"
    }
   ],
   "source": [
    "import matplotlib.pyplot as plt\n",
    "\n",
    "plt.figure(figsize=(12,5))\n",
    "plt.subplot(1,2,1)\n",
    "plt.plot(np.arange(1,EPOCHS+1),model_history2.history['loss'], )\n",
    "plt.plot(np.arange(1,EPOCHS+1),model_history2.history['val_loss'])\n",
    "plt.xlabel(\"EPOCHS\")\n",
    "plt.ylabel(\"LOSS\")\n",
    "plt.legend(['Training Loss', 'Validation Loss'])\n",
    "plt.title(\"Loss\")\n",
    "\n",
    "plt.subplot(1,2,2)\n",
    "plt.plot(np.arange(1,EPOCHS+1),model_history2.history['accuracy'])\n",
    "plt.plot(np.arange(1,EPOCHS+1),model_history2.history['val_accuracy'])\n",
    "plt.xlabel(\"EPOCHS\")\n",
    "plt.ylabel(\"ACCURACY\")\n",
    "plt.legend(['Training Accuracy', 'Validation Accuracy'])\n",
    "plt.title(\"Accuracy\")\n",
    "\n",
    "plt.show();"
   ]
  },
  {
   "cell_type": "markdown",
   "id": "7d9754fe-f7fe-40e4-a6cc-53badaa339fc",
   "metadata": {
    "jp-MarkdownHeadingCollapsed": true,
    "tags": []
   },
   "source": [
    "## Testing diff. Optimizers"
   ]
  },
  {
   "cell_type": "markdown",
   "id": "0af5bd64-90ab-4f3a-9495-4adf093d79b8",
   "metadata": {},
   "source": [
    "In short, it is generally a good approach to test how a net performs when some dropout function is adopted.\n",
    "\n",
    "> Besides that, **note that training accuracy should still be above test accuracy; otherwise, we might be not training for long enough. This is the case in our example** and therefore we should increase the number of epochs.\n",
    "\n",
    "However, before performing this attempt we need to introduce a few other concepts that allow the training to converge faster. Let's talk about optimizers."
   ]
  },
  {
   "cell_type": "markdown",
   "id": "2448f0af-979a-461b-91f0-a6b39ca3f0a2",
   "metadata": {
    "jp-MarkdownHeadingCollapsed": true,
    "tags": []
   },
   "source": [
    "#### `optimizer = 'RMSProp'` \n",
    "\n",
    "```\n",
    "loss: 0.0925 - accuracy: 0.9728 - val_loss: 0.0941 - val_accuracy: 0.9742\n",
    "test: loss: 0.0828 - accuracy: 0.9758\n",
    "```\n",
    "\n",
    "Much faster only 10 Epochs"
   ]
  },
  {
   "cell_type": "code",
   "execution_count": 49,
   "id": "58c05531-9978-4ee4-bcbf-464056cab4fe",
   "metadata": {
    "execution": {
     "iopub.execute_input": "2023-06-26T10:14:15.994377Z",
     "iopub.status.busy": "2023-06-26T10:14:15.993378Z",
     "iopub.status.idle": "2023-06-26T10:14:16.022913Z",
     "shell.execute_reply": "2023-06-26T10:14:16.021905Z",
     "shell.execute_reply.started": "2023-06-26T10:14:15.994377Z"
    },
    "tags": []
   },
   "outputs": [],
   "source": [
    "from tensorflow.keras.backend import clear_session \n",
    "clear_session()"
   ]
  },
  {
   "cell_type": "code",
   "execution_count": 50,
   "id": "483982aa-b3d7-4d8e-a388-4426faeb1fb5",
   "metadata": {
    "execution": {
     "iopub.execute_input": "2023-06-26T10:14:18.726560Z",
     "iopub.status.busy": "2023-06-26T10:14:18.726560Z",
     "iopub.status.idle": "2023-06-26T10:14:18.834935Z",
     "shell.execute_reply": "2023-06-26T10:14:18.834392Z",
     "shell.execute_reply.started": "2023-06-26T10:14:18.726560Z"
    },
    "tags": []
   },
   "outputs": [
    {
     "name": "stdout",
     "output_type": "stream",
     "text": [
      "Model: \"sequential\"\n",
      "_________________________________________________________________\n",
      " Layer (type)                Output Shape              Param #   \n",
      "=================================================================\n",
      " dense_layer (Dense)         (None, 128)               100480    \n",
      "                                                                 \n",
      " dropout (Dropout)           (None, 128)               0         \n",
      "                                                                 \n",
      " dense_layer_2 (Dense)       (None, 128)               16512     \n",
      "                                                                 \n",
      " dropout_1 (Dropout)         (None, 128)               0         \n",
      "                                                                 \n",
      " dense_layer_3 (Dense)       (None, 10)                1290      \n",
      "                                                                 \n",
      "=================================================================\n",
      "Total params: 118,282\n",
      "Trainable params: 118,282\n",
      "Non-trainable params: 0\n",
      "_________________________________________________________________\n"
     ]
    }
   ],
   "source": [
    "# Model Parans\n",
    "EPOCHS = 10\n",
    "BATCH_SIZE = 128\n",
    "VERBOSE = 1\n",
    "NB_CLASSES = 10   # number of outputs = number of digits\n",
    "N_HIDDEN = 128\n",
    "VALIDATION_SPLIT=0.2 # how much TRAIN is reserved for VALIDATION\n",
    "DROPOUT = 0.3\n",
    "\n",
    "# Build the model\n",
    "model = tf.keras.models.Sequential()\n",
    "model.add(keras.layers.Dense(N_HIDDEN, \n",
    "                             input_shape=(RESHAPED,),\n",
    "                             name='dense_layer',\n",
    "                             activation='relu'))\n",
    "# A drop-out layer after first dense layer\n",
    "model.add(keras.layers.Dropout(DROPOUT))\n",
    "\n",
    "model.add(keras.layers.Dense(N_HIDDEN,\n",
    "                             name='dense_layer_2',\n",
    "                             activation='relu'))\n",
    "\n",
    "model.add(keras.layers.Dropout(DROPOUT))\n",
    "\n",
    "# Output layer\n",
    "model.add(keras.layers.Dense(NB_CLASSES,\n",
    "                             name='dense_layer_3',\n",
    "                             activation='softmax'))\n",
    "\n",
    "# Model Summary\n",
    "model.summary()"
   ]
  },
  {
   "cell_type": "code",
   "execution_count": 51,
   "id": "f88b0a09-1283-4a48-aece-8253d0bd5a9b",
   "metadata": {
    "execution": {
     "iopub.execute_input": "2023-06-26T10:14:43.638970Z",
     "iopub.status.busy": "2023-06-26T10:14:43.637568Z",
     "iopub.status.idle": "2023-06-26T10:15:00.592531Z",
     "shell.execute_reply": "2023-06-26T10:15:00.591315Z",
     "shell.execute_reply.started": "2023-06-26T10:14:43.638970Z"
    },
    "scrolled": true,
    "tags": []
   },
   "outputs": [
    {
     "name": "stdout",
     "output_type": "stream",
     "text": [
      "Epoch 1/10\n",
      "375/375 [==============================] - 3s 5ms/step - loss: 0.4682 - accuracy: 0.8578 - val_loss: 0.1853 - val_accuracy: 0.9446\n",
      "Epoch 2/10\n",
      "375/375 [==============================] - 2s 4ms/step - loss: 0.2231 - accuracy: 0.9338 - val_loss: 0.1309 - val_accuracy: 0.9619\n",
      "Epoch 3/10\n",
      "375/375 [==============================] - 2s 4ms/step - loss: 0.1753 - accuracy: 0.9488 - val_loss: 0.1161 - val_accuracy: 0.9658\n",
      "Epoch 4/10\n",
      "375/375 [==============================] - 2s 4ms/step - loss: 0.1473 - accuracy: 0.9563 - val_loss: 0.1118 - val_accuracy: 0.9682\n",
      "Epoch 5/10\n",
      "375/375 [==============================] - 2s 4ms/step - loss: 0.1290 - accuracy: 0.9620 - val_loss: 0.1089 - val_accuracy: 0.9684\n",
      "Epoch 6/10\n",
      "375/375 [==============================] - 2s 4ms/step - loss: 0.1203 - accuracy: 0.9647 - val_loss: 0.1018 - val_accuracy: 0.9705\n",
      "Epoch 7/10\n",
      "375/375 [==============================] - 2s 4ms/step - loss: 0.1089 - accuracy: 0.9678 - val_loss: 0.0967 - val_accuracy: 0.9733\n",
      "Epoch 8/10\n",
      "375/375 [==============================] - 2s 4ms/step - loss: 0.0999 - accuracy: 0.9694 - val_loss: 0.1016 - val_accuracy: 0.9731\n",
      "Epoch 9/10\n",
      "375/375 [==============================] - 2s 4ms/step - loss: 0.0968 - accuracy: 0.9718 - val_loss: 0.0977 - val_accuracy: 0.9743\n",
      "Epoch 10/10\n",
      "375/375 [==============================] - 1s 4ms/step - loss: 0.0925 - accuracy: 0.9728 - val_loss: 0.0941 - val_accuracy: 0.9742\n"
     ]
    }
   ],
   "source": [
    "# Compile the model\n",
    "model.compile(optimizer='RMSProp',\n",
    "              loss='categorical_crossentropy',\n",
    "              metrics=['accuracy'])\n",
    "\n",
    "# Fit the model\n",
    "model_history3 = model.fit(X_train, y_train,\n",
    "                           batch_size=BATCH_SIZE,\n",
    "                           epochs=EPOCHS,\n",
    "                           validation_split=VALIDATION_SPLIT,\n",
    "                           verbose=VERBOSE, workers=None)"
   ]
  },
  {
   "cell_type": "code",
   "execution_count": 53,
   "id": "160c075c-9bca-454e-98b1-6ca89c04307e",
   "metadata": {
    "execution": {
     "iopub.execute_input": "2023-06-26T10:15:32.916348Z",
     "iopub.status.busy": "2023-06-26T10:15:32.916348Z",
     "iopub.status.idle": "2023-06-26T10:15:35.097465Z",
     "shell.execute_reply": "2023-06-26T10:15:35.096466Z",
     "shell.execute_reply.started": "2023-06-26T10:15:32.916348Z"
    },
    "tags": []
   },
   "outputs": [
    {
     "name": "stdout",
     "output_type": "stream",
     "text": [
      "313/313 [==============================] - 1s 4ms/step - loss: 0.0828 - accuracy: 0.9758\n",
      "Test Accuracy: 0.9757999777793884\n",
      "Test Loss: 0.08276524394750595\n"
     ]
    }
   ],
   "source": [
    "test_loss, test_acc = model.evaluate(X_test, y_test)\n",
    "\n",
    "print(f\"Test Accuracy: {test_acc}\\nTest Loss: {test_loss}\")"
   ]
  },
  {
   "cell_type": "code",
   "execution_count": 52,
   "id": "473a9cc3-8c2d-487e-b325-b942b1b2046c",
   "metadata": {
    "execution": {
     "iopub.execute_input": "2023-06-26T10:15:10.914431Z",
     "iopub.status.busy": "2023-06-26T10:15:10.913432Z",
     "iopub.status.idle": "2023-06-26T10:15:11.220429Z",
     "shell.execute_reply": "2023-06-26T10:15:11.219923Z",
     "shell.execute_reply.started": "2023-06-26T10:15:10.914431Z"
    }
   },
   "outputs": [
    {
     "data": {
      "image/png": "[encoded data removed]",
      "text/plain": [
       "<Figure size 1200x500 with 2 Axes>"
      ]
     },
     "metadata": {},
     "output_type": "display_data"
    }
   ],
   "source": [
    "import matplotlib.pyplot as plt\n",
    "\n",
    "plt.figure(figsize=(12,5))\n",
    "plt.subplot(1,2,1)\n",
    "plt.plot(np.arange(1,EPOCHS+1),model_history3.history['loss'], )\n",
    "plt.plot(np.arange(1,EPOCHS+1),model_history3.history['val_loss'])\n",
    "plt.xlabel(\"EPOCHS\")\n",
    "plt.ylabel(\"LOSS\")\n",
    "plt.legend(['Training Loss', 'Validation Loss'])\n",
    "plt.title(\"Loss\")\n",
    "\n",
    "plt.subplot(1,2,2)\n",
    "plt.plot(np.arange(1,EPOCHS+1),model_history3.history['accuracy'])\n",
    "plt.plot(np.arange(1,EPOCHS+1),model_history3.history['val_accuracy'])\n",
    "plt.xlabel(\"EPOCHS\")\n",
    "plt.ylabel(\"ACCURACY\")\n",
    "plt.legend(['Training Accuracy', 'Validation Accuracy'])\n",
    "plt.title(\"Accuracy\")\n",
    "\n",
    "plt.show();"
   ]
  },
  {
   "cell_type": "markdown",
   "id": "9d46bea1-5f51-47d2-a0c8-761edbbfce1c",
   "metadata": {
    "jp-MarkdownHeadingCollapsed": true,
    "tags": []
   },
   "source": [
    "#### `optimizer = 'adam'`"
   ]
  },
  {
   "cell_type": "code",
   "execution_count": 54,
   "id": "59b749b1-61b9-4e9d-a748-675ca35dc10e",
   "metadata": {
    "execution": {
     "iopub.execute_input": "2023-06-26T10:19:35.229583Z",
     "iopub.status.busy": "2023-06-26T10:19:35.228583Z",
     "iopub.status.idle": "2023-06-26T10:19:35.250098Z",
     "shell.execute_reply": "2023-06-26T10:19:35.248968Z",
     "shell.execute_reply.started": "2023-06-26T10:19:35.229583Z"
    }
   },
   "outputs": [],
   "source": [
    "from tensorflow.keras.backend import clear_session \n",
    "clear_session()"
   ]
  },
  {
   "cell_type": "code",
   "execution_count": 61,
   "id": "b1e9fb22-65cb-4ef8-9144-6d10534a4a45",
   "metadata": {
    "execution": {
     "iopub.execute_input": "2023-06-26T10:23:30.914799Z",
     "iopub.status.busy": "2023-06-26T10:23:30.914799Z",
     "iopub.status.idle": "2023-06-26T10:23:49.801222Z",
     "shell.execute_reply": "2023-06-26T10:23:49.801222Z",
     "shell.execute_reply.started": "2023-06-26T10:23:30.914799Z"
    },
    "scrolled": true,
    "tags": []
   },
   "outputs": [
    {
     "name": "stdout",
     "output_type": "stream",
     "text": [
      "Model: \"sequential_2\"\n",
      "_________________________________________________________________\n",
      " Layer (type)                Output Shape              Param #   \n",
      "=================================================================\n",
      " dense_layer (Dense)         (None, 128)               100480    \n",
      "                                                                 \n",
      " dropout_4 (Dropout)         (None, 128)               0         \n",
      "                                                                 \n",
      " dense_layer_2 (Dense)       (None, 128)               16512     \n",
      "                                                                 \n",
      " dropout_5 (Dropout)         (None, 128)               0         \n",
      "                                                                 \n",
      " dense_layer_3 (Dense)       (None, 10)                1290      \n",
      "                                                                 \n",
      "=================================================================\n",
      "Total params: 118,282\n",
      "Trainable params: 118,282\n",
      "Non-trainable params: 0\n",
      "_________________________________________________________________\n",
      "Epoch 1/15\n",
      "375/375 [==============================] - 2s 3ms/step - loss: 0.5223 - accuracy: 0.8389 - val_loss: 0.1875 - val_accuracy: 0.9450\n",
      "Epoch 2/15\n",
      "375/375 [==============================] - 1s 3ms/step - loss: 0.2358 - accuracy: 0.9296 - val_loss: 0.1435 - val_accuracy: 0.9557\n",
      "Epoch 3/15\n",
      "375/375 [==============================] - 1s 4ms/step - loss: 0.1825 - accuracy: 0.9460 - val_loss: 0.1146 - val_accuracy: 0.9659\n",
      "Epoch 4/15\n",
      "375/375 [==============================] - 1s 3ms/step - loss: 0.1508 - accuracy: 0.9547 - val_loss: 0.1053 - val_accuracy: 0.9680\n",
      "Epoch 5/15\n",
      "375/375 [==============================] - 1s 3ms/step - loss: 0.1316 - accuracy: 0.9606 - val_loss: 0.0966 - val_accuracy: 0.9705\n",
      "Epoch 6/15\n",
      "375/375 [==============================] - 1s 3ms/step - loss: 0.1173 - accuracy: 0.9646 - val_loss: 0.0885 - val_accuracy: 0.9739\n",
      "Epoch 7/15\n",
      "375/375 [==============================] - 1s 3ms/step - loss: 0.1053 - accuracy: 0.9667 - val_loss: 0.0886 - val_accuracy: 0.9738\n",
      "Epoch 8/15\n",
      "375/375 [==============================] - 1s 3ms/step - loss: 0.0965 - accuracy: 0.9694 - val_loss: 0.0872 - val_accuracy: 0.9734\n",
      "Epoch 9/15\n",
      "375/375 [==============================] - 1s 3ms/step - loss: 0.0873 - accuracy: 0.9725 - val_loss: 0.0816 - val_accuracy: 0.9753\n",
      "Epoch 10/15\n",
      "375/375 [==============================] - 1s 3ms/step - loss: 0.0828 - accuracy: 0.9738 - val_loss: 0.0827 - val_accuracy: 0.9756\n",
      "Epoch 11/15\n",
      "375/375 [==============================] - 1s 3ms/step - loss: 0.0790 - accuracy: 0.9750 - val_loss: 0.0827 - val_accuracy: 0.9754\n",
      "Epoch 12/15\n",
      "375/375 [==============================] - 1s 3ms/step - loss: 0.0750 - accuracy: 0.9757 - val_loss: 0.0844 - val_accuracy: 0.9759\n",
      "Epoch 13/15\n",
      "375/375 [==============================] - 1s 3ms/step - loss: 0.0710 - accuracy: 0.9771 - val_loss: 0.0796 - val_accuracy: 0.9770\n",
      "Epoch 14/15\n",
      "375/375 [==============================] - 1s 3ms/step - loss: 0.0677 - accuracy: 0.9782 - val_loss: 0.0762 - val_accuracy: 0.9783\n",
      "Epoch 15/15\n",
      "375/375 [==============================] - 1s 3ms/step - loss: 0.0647 - accuracy: 0.9791 - val_loss: 0.0813 - val_accuracy: 0.9764\n"
     ]
    }
   ],
   "source": [
    "# Model Parans\n",
    "EPOCHS = 15\n",
    "BATCH_SIZE = 128\n",
    "VERBOSE = 1\n",
    "NB_CLASSES = 10   # number of outputs = number of digits\n",
    "N_HIDDEN = 128\n",
    "VALIDATION_SPLIT=0.2 # how much TRAIN is reserved for VALIDATION\n",
    "DROPOUT = 0.3\n",
    "\n",
    "# Build the model\n",
    "model = tf.keras.models.Sequential()\n",
    "model.add(keras.layers.Dense(N_HIDDEN, \n",
    "                             input_shape=(RESHAPED,),\n",
    "                             name='dense_layer',\n",
    "                             activation='relu'))\n",
    "# A drop-out layer after first dense layer\n",
    "model.add(keras.layers.Dropout(DROPOUT))\n",
    "\n",
    "model.add(keras.layers.Dense(N_HIDDEN,\n",
    "                             name='dense_layer_2',\n",
    "                             activation='relu'))\n",
    "\n",
    "model.add(keras.layers.Dropout(DROPOUT))\n",
    "\n",
    "# Output layer\n",
    "model.add(keras.layers.Dense(NB_CLASSES,\n",
    "                             name='dense_layer_3',\n",
    "                             activation='softmax'))\n",
    "\n",
    "# Model Summary\n",
    "model.summary()\n",
    "\n",
    "# Compile the model\n",
    "model.compile(optimizer='adam',\n",
    "              loss='categorical_crossentropy',\n",
    "              metrics=['accuracy'])\n",
    "\n",
    "# Fit the model\n",
    "model_history4 = model.fit(X_train, y_train,\n",
    "                           batch_size=BATCH_SIZE,\n",
    "                           epochs=EPOCHS,\n",
    "                           validation_split=VALIDATION_SPLIT,\n",
    "                           verbose=VERBOSE, workers=None)"
   ]
  },
  {
   "cell_type": "code",
   "execution_count": 62,
   "id": "fbf4b88e-2de8-4303-bb01-acf26a440c7e",
   "metadata": {
    "execution": {
     "iopub.execute_input": "2023-06-26T10:23:49.803975Z",
     "iopub.status.busy": "2023-06-26T10:23:49.803975Z",
     "iopub.status.idle": "2023-06-26T10:23:50.568964Z",
     "shell.execute_reply": "2023-06-26T10:23:50.567935Z",
     "shell.execute_reply.started": "2023-06-26T10:23:49.803975Z"
    },
    "tags": []
   },
   "outputs": [
    {
     "name": "stdout",
     "output_type": "stream",
     "text": [
      "313/313 [==============================] - 1s 2ms/step - loss: 0.0699 - accuracy: 0.9789\n",
      "Test Accuracy: 0.9789000153541565\n",
      "Test Loss: 0.06993284076452255\n"
     ]
    }
   ],
   "source": [
    "test_loss, test_acc = model.evaluate(X_test, y_test)\n",
    "\n",
    "print(f\"Test Accuracy: {test_acc}\\nTest Loss: {test_loss}\")"
   ]
  },
  {
   "cell_type": "code",
   "execution_count": 63,
   "id": "2b04422d-1b5b-44ac-80f7-176a9547acd9",
   "metadata": {
    "execution": {
     "iopub.execute_input": "2023-06-26T10:23:50.569977Z",
     "iopub.status.busy": "2023-06-26T10:23:50.569977Z",
     "iopub.status.idle": "2023-06-26T10:23:50.864854Z",
     "shell.execute_reply": "2023-06-26T10:23:50.863853Z",
     "shell.execute_reply.started": "2023-06-26T10:23:50.569977Z"
    },
    "tags": []
   },
   "outputs": [
    {
     "data": {
      "image/png": "[encoded data removed]",
      "text/plain": [
       "<Figure size 1200x500 with 2 Axes>"
      ]
     },
     "metadata": {},
     "output_type": "display_data"
    }
   ],
   "source": [
    "import matplotlib.pyplot as plt\n",
    "\n",
    "plt.figure(figsize=(12,5))\n",
    "plt.subplot(1,2,1)\n",
    "plt.plot(np.arange(1,EPOCHS+1),model_history4.history['loss'], )\n",
    "plt.plot(np.arange(1,EPOCHS+1),model_history4.history['val_loss'])\n",
    "plt.xlabel(\"EPOCHS\")\n",
    "plt.ylabel(\"LOSS\")\n",
    "plt.legend(['Training Loss', 'Validation Loss'])\n",
    "plt.title(\"Loss\")\n",
    "\n",
    "plt.subplot(1,2,2)\n",
    "plt.plot(np.arange(1,EPOCHS+1),model_history4.history['accuracy'])\n",
    "plt.plot(np.arange(1,EPOCHS+1),model_history4.history['val_accuracy'])\n",
    "plt.xlabel(\"EPOCHS\")\n",
    "plt.ylabel(\"ACCURACY\")\n",
    "plt.legend(['Training Accuracy', 'Validation Accuracy'])\n",
    "plt.title(\"Accuracy\")\n",
    "\n",
    "plt.show();"
   ]
  },
  {
   "cell_type": "markdown",
   "id": "0e5bad0f-6d9f-4c1c-8ff6-9f793d7fd481",
   "metadata": {
    "jp-MarkdownHeadingCollapsed": true,
    "tags": []
   },
   "source": [
    "## Regularization\n",
    "\n",
    "- Regularization\n",
    "- Batch Normalization"
   ]
  },
  {
   "cell_type": "markdown",
   "id": "72e056cd-4f7b-4cf7-a40f-4f9d9290dbc0",
   "metadata": {
    "jp-MarkdownHeadingCollapsed": true,
    "tags": []
   },
   "source": [
    "#### Overfitting/Underfitting\n",
    "\n",
    "- Causing a model to lose its ability to perfom well in generalized context is termed as **\"overfitting\".**\n",
    "    \n",
    "    - This is because a complex model is able to capture relationships b/w many parameters in the specific training context, but these relationships in fact do not exist within a more generalized context. Thus performing poorly on validation/test data while extremely well on training samples.<br></br>\n",
    "    \n",
    "- **Underfitting:** This happens when a data model cannot capture the relationship between the input and output variables accurately, with a high error rate on both the training set and new unseen data.\n",
    "\n",
    "<div align='center'>\n",
    "    <img src='images/over_under_fit.png' width=500/>\n",
    "</div>\n",
    "\n",
    "- As a rule of thumb, if during the training we see that the loss increases on validation, after an initial decrease, then we have a problem of model complexity that overfits the training data."
   ]
  },
  {
   "cell_type": "markdown",
   "id": "194d2a41-c94d-455c-b652-9873c41ce639",
   "metadata": {
    "jp-MarkdownHeadingCollapsed": true,
    "tags": []
   },
   "source": [
    "### Solving Overfitting: Regulazization"
   ]
  },
  {
   "cell_type": "markdown",
   "id": "24bb7b0e-18e9-49ee-82bb-e1e69da8d495",
   "metadata": {},
   "source": [
    "- In order to solve the overfitting problem, we need a way to capture the complexity of a model, i.e. how complex a model can be. What could the solution be? \n",
    "\n",
    "    - Well, a model is nothing more than a vector of weights. Each weight affects the output, except for those which are zero, or very close to it. Therefore, the complexity of a model can be conveniently represented as the number of non-zero weights. <br></br>\n",
    "\n",
    "- In other words, if we have two models M1 and M2 achieving pretty much the same performance in terms of a loss function, then we should choose the simplest model, the one which has the minimum number of non-zero weights. \n",
    "\n",
    "- We can use a hyperparameter $\\lambda \\geq 0$ for controlling the importance of having a simple model: $$min : \\text{\\{loss(Training Data|Model)\\}} + \\lambda * \\text{complexity(Model)}$$\n",
    "\n",
    "\n",
    "- There are three different types of regularization used in machine learning:\n",
    "    - **L1 regularization(also known as LASSO):** The complexity of the model is expressed as the sum of the absolute values of the weights.\n",
    "    \n",
    "    - **L2 regularization(also known as Ridge):** The complexity of the model is expressed as the sum of the squares of the weights.\n",
    "    \n",
    "    - **ElasticNet regularization:** The complexity of the model is captured by a combination of the two techniques above.\n",
    "\n",
    "\n",
    "Note that playing with regularization can be a good way to increase the generalization performance of a network, particularly when there is an evident situation of overfitting. "
   ]
  },
  {
   "cell_type": "code",
   "execution_count": 11,
   "id": "25fe2ccd-a00b-4af2-86dc-2049ce8209e5",
   "metadata": {
    "execution": {
     "iopub.execute_input": "2023-06-27T04:36:56.760417Z",
     "iopub.status.busy": "2023-06-27T04:36:56.759418Z",
     "iopub.status.idle": "2023-06-27T04:36:56.773970Z",
     "shell.execute_reply": "2023-06-27T04:36:56.773970Z",
     "shell.execute_reply.started": "2023-06-27T04:36:56.760417Z"
    },
    "tags": []
   },
   "outputs": [],
   "source": [
    "from tensorflow.keras.backend import clear_session\n",
    "clear_session()"
   ]
  },
  {
   "cell_type": "code",
   "execution_count": 50,
   "id": "1b48eb3b-9c7d-4002-80b5-eafdd097c039",
   "metadata": {
    "execution": {
     "iopub.execute_input": "2023-06-27T05:51:37.715401Z",
     "iopub.status.busy": "2023-06-27T05:51:37.714050Z",
     "iopub.status.idle": "2023-06-27T05:51:37.727268Z",
     "shell.execute_reply": "2023-06-27T05:51:37.727268Z",
     "shell.execute_reply.started": "2023-06-27T05:51:37.715401Z"
    },
    "scrolled": true,
    "tags": []
   },
   "outputs": [],
   "source": [
    "# ?keras.layers.Dense"
   ]
  },
  {
   "cell_type": "markdown",
   "id": "fc1fb0fe-7ab3-42bc-a8a7-cbca107d27f7",
   "metadata": {},
   "source": [
    "- `kernel_regularizer`: Regularizer function applied to the `kernel` weights matrix.\n",
    "\n",
    "- `bias_regularizer`: Regularizer function applied to the bias vector.\n",
    "\n",
    "- `activity_regularizer`: Regularizer function applied to the output of the layer (its \"activation\")."
   ]
  },
  {
   "cell_type": "code",
   "execution_count": 51,
   "id": "3ee60ad4-2217-4f90-9cc1-d506bc13adfc",
   "metadata": {
    "execution": {
     "iopub.execute_input": "2023-06-27T05:52:16.155554Z",
     "iopub.status.busy": "2023-06-27T05:52:16.155554Z",
     "iopub.status.idle": "2023-06-27T05:52:16.226205Z",
     "shell.execute_reply": "2023-06-27T05:52:16.225699Z",
     "shell.execute_reply.started": "2023-06-27T05:52:16.155554Z"
    },
    "tags": []
   },
   "outputs": [
    {
     "name": "stdout",
     "output_type": "stream",
     "text": [
      "Model: \"sequential_9\"\n",
      "_________________________________________________________________\n",
      " Layer (type)                Output Shape              Param #   \n",
      "=================================================================\n",
      " dense_layer (Dense)         (None, 128)               100480    \n",
      "                                                                 \n",
      " dropout_18 (Dropout)        (None, 128)               0         \n",
      "                                                                 \n",
      " dense_layer_2 (Dense)       (None, 128)               16512     \n",
      "                                                                 \n",
      " dropout_19 (Dropout)        (None, 128)               0         \n",
      "                                                                 \n",
      " dense_layer_3 (Dense)       (None, 10)                1290      \n",
      "                                                                 \n",
      "=================================================================\n",
      "Total params: 118,282\n",
      "Trainable params: 118,282\n",
      "Non-trainable params: 0\n",
      "_________________________________________________________________\n"
     ]
    }
   ],
   "source": [
    "from tensorflow.keras.regularizers import l2, l1\n",
    "\n",
    "# Model Parans\n",
    "EPOCHS = 13\n",
    "BATCH_SIZE = 128\n",
    "VERBOSE = 1\n",
    "NB_CLASSES = 10   \n",
    "N_HIDDEN = 128\n",
    "VALIDATION_SPLIT=0.2 \n",
    "DROPOUT = 0.3\n",
    "\n",
    "# Build the model\n",
    "model = tf.keras.models.Sequential()\n",
    "model.add(keras.layers.Dense(N_HIDDEN, input_shape=(RESHAPED,),\n",
    "                             name='dense_layer', activation='relu',\n",
    "                             kernel_regularizer=l2(0.01),\n",
    "                             activity_regularizer=l2(0.01),\n",
    "                             bias_regularizer=l2(0.01)))\n",
    "# A drop-out layer after first dense layer\n",
    "model.add(keras.layers.Dropout(DROPOUT))\n",
    "\n",
    "model.add(keras.layers.Dense(N_HIDDEN, name='dense_layer_2',\n",
    "                             activation='relu',))\n",
    "\n",
    "model.add(keras.layers.Dropout(DROPOUT))\n",
    "\n",
    "# Output layer\n",
    "model.add(keras.layers.Dense(NB_CLASSES, name='dense_layer_3',\n",
    "                             activation='softmax',))\n",
    "\n",
    "# Model Summary\n",
    "model.summary()"
   ]
  },
  {
   "cell_type": "code",
   "execution_count": 52,
   "id": "bd65192e-6da0-4a3c-a42c-385d2bf5b929",
   "metadata": {
    "execution": {
     "iopub.execute_input": "2023-06-27T05:52:16.475367Z",
     "iopub.status.busy": "2023-06-27T05:52:16.474365Z",
     "iopub.status.idle": "2023-06-27T05:52:34.746042Z",
     "shell.execute_reply": "2023-06-27T05:52:34.745041Z",
     "shell.execute_reply.started": "2023-06-27T05:52:16.475367Z"
    },
    "scrolled": true,
    "tags": []
   },
   "outputs": [
    {
     "name": "stdout",
     "output_type": "stream",
     "text": [
      "Epoch 1/13\n",
      "375/375 [==============================] - 2s 4ms/step - loss: 1.0076 - accuracy: 0.8486 - val_loss: 0.3858 - val_accuracy: 0.9410\n",
      "Epoch 2/13\n",
      "375/375 [==============================] - 1s 4ms/step - loss: 0.4259 - accuracy: 0.9226 - val_loss: 0.3053 - val_accuracy: 0.9553\n",
      "Epoch 3/13\n",
      "375/375 [==============================] - 1s 4ms/step - loss: 0.3823 - accuracy: 0.9290 - val_loss: 0.3121 - val_accuracy: 0.9508\n",
      "Epoch 4/13\n",
      "375/375 [==============================] - 1s 4ms/step - loss: 0.3666 - accuracy: 0.9334 - val_loss: 0.2811 - val_accuracy: 0.9597\n",
      "Epoch 5/13\n",
      "375/375 [==============================] - 1s 4ms/step - loss: 0.3533 - accuracy: 0.9367 - val_loss: 0.2780 - val_accuracy: 0.9608\n",
      "Epoch 6/13\n",
      "375/375 [==============================] - 1s 4ms/step - loss: 0.3485 - accuracy: 0.9378 - val_loss: 0.2662 - val_accuracy: 0.9623\n",
      "Epoch 7/13\n",
      "375/375 [==============================] - 1s 4ms/step - loss: 0.3441 - accuracy: 0.9380 - val_loss: 0.2635 - val_accuracy: 0.9610\n",
      "Epoch 8/13\n",
      "375/375 [==============================] - 1s 4ms/step - loss: 0.3347 - accuracy: 0.9401 - val_loss: 0.2654 - val_accuracy: 0.9606\n",
      "Epoch 9/13\n",
      "375/375 [==============================] - 1s 4ms/step - loss: 0.3264 - accuracy: 0.9414 - val_loss: 0.2676 - val_accuracy: 0.9584\n",
      "Epoch 10/13\n",
      "375/375 [==============================] - 1s 4ms/step - loss: 0.3346 - accuracy: 0.9391 - val_loss: 0.2679 - val_accuracy: 0.9620\n",
      "Epoch 11/13\n",
      "375/375 [==============================] - 1s 4ms/step - loss: 0.3201 - accuracy: 0.9431 - val_loss: 0.2533 - val_accuracy: 0.9628\n",
      "Epoch 12/13\n",
      "375/375 [==============================] - 1s 4ms/step - loss: 0.3211 - accuracy: 0.9432 - val_loss: 0.2522 - val_accuracy: 0.9641\n",
      "Epoch 13/13\n",
      "375/375 [==============================] - 1s 4ms/step - loss: 0.3171 - accuracy: 0.9429 - val_loss: 0.2586 - val_accuracy: 0.9638\n"
     ]
    }
   ],
   "source": [
    "# Compile the model\n",
    "model.compile(optimizer='adam',\n",
    "              loss='categorical_crossentropy',\n",
    "              metrics=['accuracy'])\n",
    "\n",
    "# Fit the model\n",
    "model_history5 = model.fit(X_train, y_train,\n",
    "                           batch_size=BATCH_SIZE,\n",
    "                           epochs=EPOCHS,\n",
    "                           validation_split=VALIDATION_SPLIT,\n",
    "                           verbose=VERBOSE, workers=10,\n",
    "                           use_multiprocessing=True)"
   ]
  },
  {
   "cell_type": "code",
   "execution_count": 53,
   "id": "9314e360-10a1-4f7e-a96b-b42ffad88a55",
   "metadata": {
    "execution": {
     "iopub.execute_input": "2023-06-27T05:52:34.747045Z",
     "iopub.status.busy": "2023-06-27T05:52:34.747045Z",
     "iopub.status.idle": "2023-06-27T05:52:35.623336Z",
     "shell.execute_reply": "2023-06-27T05:52:35.622336Z",
     "shell.execute_reply.started": "2023-06-27T05:52:34.747045Z"
    },
    "tags": []
   },
   "outputs": [
    {
     "name": "stdout",
     "output_type": "stream",
     "text": [
      "313/313 [==============================] - 1s 3ms/step - loss: 0.2594 - accuracy: 0.9629\n",
      "Test Accuracy: 0.9628999829292297\n",
      "Test Loss: 0.2593517601490021\n"
     ]
    }
   ],
   "source": [
    "test_loss, test_acc = model.evaluate(X_test, y_test)\n",
    "\n",
    "print(f\"Test Accuracy: {test_acc}\\nTest Loss: {test_loss}\")"
   ]
  },
  {
   "cell_type": "code",
   "execution_count": 54,
   "id": "c8ff6bfc-a0f7-44d8-8f9d-c9b914718ee6",
   "metadata": {
    "execution": {
     "iopub.execute_input": "2023-06-27T05:52:35.625440Z",
     "iopub.status.busy": "2023-06-27T05:52:35.624432Z",
     "iopub.status.idle": "2023-06-27T05:52:35.919952Z",
     "shell.execute_reply": "2023-06-27T05:52:35.918951Z",
     "shell.execute_reply.started": "2023-06-27T05:52:35.625440Z"
    },
    "tags": []
   },
   "outputs": [
    {
     "data": {
      "image/png": "[encoded data removed]",
      "text/plain": [
       "<Figure size 1200x500 with 2 Axes>"
      ]
     },
     "metadata": {},
     "output_type": "display_data"
    }
   ],
   "source": [
    "import matplotlib.pyplot as plt\n",
    "\n",
    "plt.figure(figsize=(12,5))\n",
    "plt.subplot(1,2,1)\n",
    "plt.plot(np.arange(1,EPOCHS+1),model_history5.history['loss'], )\n",
    "plt.plot(np.arange(1,EPOCHS+1),model_history5.history['val_loss'])\n",
    "plt.xlabel(\"EPOCHS\")\n",
    "plt.ylabel(\"LOSS\")\n",
    "plt.legend(['Training Loss', 'Validation Loss'])\n",
    "plt.title(\"Loss\")\n",
    "\n",
    "plt.subplot(1,2,2)\n",
    "plt.plot(np.arange(1,EPOCHS+1),model_history5.history['accuracy'])\n",
    "plt.plot(np.arange(1,EPOCHS+1),model_history5.history['val_accuracy'])\n",
    "plt.xlabel(\"EPOCHS\")\n",
    "plt.ylabel(\"ACCURACY\")\n",
    "plt.legend(['Training Accuracy', 'Validation Accuracy'])\n",
    "plt.title(\"Accuracy\")\n",
    "\n",
    "plt.show();"
   ]
  },
  {
   "cell_type": "markdown",
   "id": "24bad803-978b-411c-adb8-92550c70ef85",
   "metadata": {
    "jp-MarkdownHeadingCollapsed": true,
    "tags": []
   },
   "source": [
    "### Understanding Batch Normalization"
   ]
  },
  {
   "cell_type": "markdown",
   "id": "17715f37-37b1-47f5-8ac0-f0382382c776",
   "metadata": {},
   "source": [
    "Batch normalization is another form of regularization that enables us to accelerate training, in some cases by halving the training epochs, and it offers some regularization. \n",
    "\n",
    "$\\rightarrow$ The Problem\n",
    "- During training, the weights in early layers naturally change and therefore the inputs of later layers can significantly change. In other words, each layer must continuously re-adjust its weights to the different distribution for every batch. This may slow down the model's training greatly.\n",
    "\n",
    "- Another issue is that the sigmoid activation function works very well close to zero but tends to \"get stuck\" when values get suffciently far away from zero. If, occasionally, neuron outputs fluctuate far away from the sigmoid zero, then said neuron becomes unable to update its own weights.\n",
    "\n",
    "* ** \n",
    "\n",
    "$\\rightarrow$ Key Ideas behind Batch Norm.\n",
    "- The key idea is to make layer inputs more similar in distribution, batch after batch and epoch after epoch. \n",
    "\n",
    "- The other key idea is therefore to transform the layer outputs into a **Gaussian distribution** unit close to zero. This way, layers will have significantly less variation from batch to batch. \n",
    "\n",
    "* **\n",
    "\n",
    "Mathematically, the formula is very simple. The activation input x is centered around zero by subtracting the batch mean $\\mu$ from it, then result is divided by $\\sigma + \\epsilon$, the sum of batch variance $\\sigma$ and small no. $\\epsilon$ to prevent zero division.\n",
    "\n",
    "Then a linear transformation is applied $y = \\lambda x + \\beta$ to make sure normalizing effect is applied during training.\n",
    "\n",
    "In this way, $\\lambda$ and $\\beta$ are parameters that get optimized during the training phase in a way similar to any other layer. \n",
    "\n",
    "* **\n",
    "\n",
    "$\\rightarrow$ How Batch Normalization helps?\n",
    "- Batch normalization has been proven to be a very effective way to increase both the speed of training and accuracy, because it helps to prevent activations becoming either too small and vanishing or too big and exploding."
   ]
  },
  {
   "cell_type": "markdown",
   "id": "6183d12e-3ead-4912-a997-56d85be09967",
   "metadata": {},
   "source": [
    "## Backpropagation - Intution"
   ]
  },
  {
   "cell_type": "markdown",
   "id": "eab708ef-776b-481b-a717-bbf9d08e328f",
   "metadata": {},
   "source": [
    "- Multi-layer Perceptrons/Neural Networks learn from the training data via a process called backpropagation.\n",
    "\n",
    "- Each NN layer has an associated set of weights that determine the o/p values for a given set of i/ps. And also NNs can have multiple hidden layers.\n",
    "\n",
    "Let's see how Backpropagation works:\n",
    "\n",
    "- At the beginning, all the weights have some random assignment. Then the neural network is activated for each input in the training set: values are propagated forward from the input stage through the hidden stages to the output stage where a prediction is made. \n",
    "<div align='center'>\n",
    "    <img src='images/forward.png'/>\n",
    "</div>\n",
    "- Since we know the true observed value in the training set, it is possible to calculate the error made in the prediction.\n",
    "\n",
    "- The key intuition for backtracking is to propagate the error back using an appropriate optimizer algorithm such as a GD to adjust the NN weights with the goal of reducing the error.\n",
    "<div align='center'>\n",
    "    <img src='images/backward.png'/>\n",
    "</div>\n",
    "- The process of forward propagation from input to output and backward propagation of errors is repeated several times until the error gets below a predefined threshold.\n",
    "<div align='center'>\n",
    "    <img src='images/fwd_bwd.png'/>\n",
    "</div>\n",
    "- The features represent the input, and the labels are used here to drive the learning process. The model is updated in such a way that the loss function is progressively minimized. \n",
    "\n",
    "- In a neural network, what really matters is not the output of a single neuron but the collective weights adjusted in each layer. Therefore, the network progressively adjusts its internal weights in such a way that the prediction increases the number of correctly forecasted labels. \n",
    "\n",
    "- Of course, using the right set of features and having quality labeled data is fundamental to minimizing the bias during the learning process."
   ]
  },
  {
   "cell_type": "code",
   "execution_count": null,
   "id": "b56204a8-b0bf-40d4-a968-5a433e7abc13",
   "metadata": {},
   "outputs": [],
   "source": []
  }
 ],
 "metadata": {
  "kernelspec": {
   "display_name": "Python 3 (ipykernel)",
   "language": "python",
   "name": "python3"
  },
  "language_info": {
   "codemirror_mode": {
    "name": "ipython",
    "version": 3
   },
   "file_extension": ".py",
   "mimetype": "text/x-python",
   "name": "python",
   "nbconvert_exporter": "python",
   "pygments_lexer": "ipython3",
   "version": "3.10.9"
  },
  "widgets": {
   "application/vnd.jupyter.widget-state+json": {
    "state": {},
    "version_major": 2,
    "version_minor": 0
   }
  }
 },
 "nbformat": 4,
 "nbformat_minor": 5
}
