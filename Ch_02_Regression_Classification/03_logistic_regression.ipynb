{
 "cells": [
  {
   "cell_type": "markdown",
   "id": "964b5ed0-00a6-42b9-a686-f470c3ed3d2b",
   "metadata": {},
   "source": [
    "***Reference:***\n",
    "\n",
    "**Kapoor, Amita; Gulli, Antonio; Pal, Sujit. Deep Learning with TensorFlow and Keras: Build and deploy supervised, unsupervised, deep, and reinforcement learning models, 3rd Edition . Packt Publishing.**"
   ]
  },
  {
   "cell_type": "code",
   "execution_count": 1,
   "id": "4173c7d0-8a81-4347-8d10-b4924f4e9df1",
   "metadata": {
    "execution": {
     "iopub.execute_input": "2023-07-07T08:07:47.798737Z",
     "iopub.status.busy": "2023-07-07T08:07:47.797715Z",
     "iopub.status.idle": "2023-07-07T08:07:51.119260Z",
     "shell.execute_reply": "2023-07-07T08:07:51.118050Z",
     "shell.execute_reply.started": "2023-07-07T08:07:47.798737Z"
    }
   },
   "outputs": [
    {
     "name": "stdout",
     "output_type": "stream",
     "text": [
      "2.10.1\n",
      "[PhysicalDevice(name='/physical_device:GPU:0', device_type='GPU')]\n"
     ]
    }
   ],
   "source": [
    "import numpy as np\n",
    "import pandas as pd\n",
    "import tensorflow as tf\n",
    "from tensorflow import keras\n",
    "from tensorflow.keras import layers \n",
    "\n",
    "import matplotlib.pyplot as plt\n",
    "\n",
    "print(tf.__version__)\n",
    "print(tf.config.list_physical_devices('GPU'))"
   ]
  },
  {
   "cell_type": "code",
   "execution_count": 2,
   "id": "9d58146c-a30d-48f4-b9dd-31b282e21bdd",
   "metadata": {
    "execution": {
     "iopub.execute_input": "2023-07-07T08:07:53.743093Z",
     "iopub.status.busy": "2023-07-07T08:07:53.742094Z",
     "iopub.status.idle": "2023-07-07T08:07:53.897133Z",
     "shell.execute_reply": "2023-07-07T08:07:53.897133Z",
     "shell.execute_reply.started": "2023-07-07T08:07:53.743093Z"
    }
   },
   "outputs": [],
   "source": [
    "((train_data, train_labels),(test_data, test_labels)) = tf.keras.datasets.mnist.load_data()"
   ]
  },
  {
   "cell_type": "code",
   "execution_count": 3,
   "id": "37b72f38-adbc-4346-a564-11554b1fc35f",
   "metadata": {
    "execution": {
     "iopub.execute_input": "2023-07-07T08:07:54.003294Z",
     "iopub.status.busy": "2023-07-07T08:07:54.003294Z",
     "iopub.status.idle": "2023-07-07T08:07:54.073208Z",
     "shell.execute_reply": "2023-07-07T08:07:54.072185Z",
     "shell.execute_reply.started": "2023-07-07T08:07:54.003294Z"
    }
   },
   "outputs": [],
   "source": [
    "train_data = train_data/np.float32(255)\n",
    "train_labels = train_labels.astype(np.int32)  \n",
    "\n",
    "test_data = test_data/np.float32(255)\n",
    "test_labels = test_labels.astype(np.int32)"
   ]
  },
  {
   "cell_type": "code",
   "execution_count": 4,
   "id": "8ce739dc-9025-4e03-a303-44e1ae67cd8d",
   "metadata": {
    "execution": {
     "iopub.execute_input": "2023-07-07T08:07:54.250113Z",
     "iopub.status.busy": "2023-07-07T08:07:54.250113Z",
     "iopub.status.idle": "2023-07-07T08:07:54.264035Z",
     "shell.execute_reply": "2023-07-07T08:07:54.264035Z",
     "shell.execute_reply.started": "2023-07-07T08:07:54.250113Z"
    },
    "tags": []
   },
   "outputs": [
    {
     "data": {
      "text/plain": [
       "array([0, 1, 2, 3, 4, 5, 6, 7, 8, 9])"
      ]
     },
     "execution_count": 4,
     "metadata": {},
     "output_type": "execute_result"
    }
   ],
   "source": [
    "np.unique(train_labels)"
   ]
  },
  {
   "cell_type": "markdown",
   "id": "ca6a3ed2-596a-4cc2-8f7b-b0eb46c9d72e",
   "metadata": {},
   "source": [
    "The `Flatten` layers helps to resize the $28 \\times 28$ 2D input images to 784 flattened array"
   ]
  },
  {
   "cell_type": "code",
   "execution_count": 5,
   "id": "42edea42-1f15-433f-937c-5bc17780faa8",
   "metadata": {
    "execution": {
     "iopub.execute_input": "2023-07-07T08:07:55.156444Z",
     "iopub.status.busy": "2023-07-07T08:07:55.156444Z",
     "iopub.status.idle": "2023-07-07T08:07:55.844175Z",
     "shell.execute_reply": "2023-07-07T08:07:55.844175Z",
     "shell.execute_reply.started": "2023-07-07T08:07:55.156444Z"
    },
    "tags": []
   },
   "outputs": [
    {
     "name": "stdout",
     "output_type": "stream",
     "text": [
      "Model: \"sequential\"\n",
      "_________________________________________________________________\n",
      " Layer (type)                Output Shape              Param #   \n",
      "=================================================================\n",
      " flatten (Flatten)           (None, 784)               0         \n",
      "                                                                 \n",
      " dense (Dense)               (None, 10)                7850      \n",
      "                                                                 \n",
      "=================================================================\n",
      "Total params: 7,850\n",
      "Trainable params: 7,850\n",
      "Non-trainable params: 0\n",
      "_________________________________________________________________\n"
     ]
    }
   ],
   "source": [
    "# Build a LOGISTIC Reg. model thus activation='sigmoid'\n",
    "model = keras.Sequential([layers.Flatten(input_shape=(28,28)),\n",
    "                          layers.Dense(10, activation='sigmoid')])\n",
    "\n",
    "model.summary()"
   ]
  },
  {
   "cell_type": "code",
   "execution_count": 6,
   "id": "d2a08738-21ef-4fba-8a31-71baaa37f64e",
   "metadata": {
    "execution": {
     "iopub.execute_input": "2023-07-07T08:07:56.099110Z",
     "iopub.status.busy": "2023-07-07T08:07:56.098604Z",
     "iopub.status.idle": "2023-07-07T08:11:25.837586Z",
     "shell.execute_reply": "2023-07-07T08:11:25.837586Z",
     "shell.execute_reply.started": "2023-07-07T08:07:56.099110Z"
    },
    "scrolled": true,
    "tags": []
   },
   "outputs": [
    {
     "name": "stdout",
     "output_type": "stream",
     "text": [
      "Epoch 1/50\n"
     ]
    },
    {
     "name": "stderr",
     "output_type": "stream",
     "text": [
      "C:\\Users\\Amit Vikram Raj\\AppData\\Roaming\\Python\\Python310\\site-packages\\keras\\backend.py:5582: UserWarning: \"`sparse_categorical_crossentropy` received `from_logits=True`, but the `output` argument was produced by a Softmax activation and thus does not represent logits. Was this intended?\n",
      "  output, from_logits = _get_logits(\n"
     ]
    },
    {
     "name": "stdout",
     "output_type": "stream",
     "text": [
      "1500/1500 [==============================] - 5s 2ms/step - loss: 0.5138 - accuracy: 0.8659 - val_loss: 0.3187 - val_accuracy: 0.9117\n",
      "Epoch 2/50\n",
      "1500/1500 [==============================] - 4s 3ms/step - loss: 0.3178 - accuracy: 0.9120 - val_loss: 0.2889 - val_accuracy: 0.9211\n",
      "Epoch 3/50\n",
      "1500/1500 [==============================] - 4s 3ms/step - loss: 0.2930 - accuracy: 0.9180 - val_loss: 0.2754 - val_accuracy: 0.9238\n",
      "Epoch 4/50\n",
      "1500/1500 [==============================] - 4s 3ms/step - loss: 0.2818 - accuracy: 0.9209 - val_loss: 0.2716 - val_accuracy: 0.9260\n",
      "Epoch 5/50\n",
      "1500/1500 [==============================] - 4s 3ms/step - loss: 0.2734 - accuracy: 0.9234 - val_loss: 0.2663 - val_accuracy: 0.9280\n",
      "Epoch 6/50\n",
      "1500/1500 [==============================] - 4s 3ms/step - loss: 0.2680 - accuracy: 0.9251 - val_loss: 0.2657 - val_accuracy: 0.9279\n",
      "Epoch 7/50\n",
      "1500/1500 [==============================] - 4s 3ms/step - loss: 0.2642 - accuracy: 0.9254 - val_loss: 0.2649 - val_accuracy: 0.9270\n",
      "Epoch 8/50\n",
      "1500/1500 [==============================] - 4s 3ms/step - loss: 0.2605 - accuracy: 0.9280 - val_loss: 0.2655 - val_accuracy: 0.9278\n",
      "Epoch 9/50\n",
      "1500/1500 [==============================] - 4s 3ms/step - loss: 0.2581 - accuracy: 0.9280 - val_loss: 0.2629 - val_accuracy: 0.9294\n",
      "Epoch 10/50\n",
      "1500/1500 [==============================] - 3s 2ms/step - loss: 0.2548 - accuracy: 0.9299 - val_loss: 0.2638 - val_accuracy: 0.9285\n",
      "Epoch 11/50\n",
      "1500/1500 [==============================] - 4s 3ms/step - loss: 0.2530 - accuracy: 0.9294 - val_loss: 0.2614 - val_accuracy: 0.9284\n",
      "Epoch 12/50\n",
      "1500/1500 [==============================] - 4s 3ms/step - loss: 0.2509 - accuracy: 0.9296 - val_loss: 0.2603 - val_accuracy: 0.9313\n",
      "Epoch 13/50\n",
      "1500/1500 [==============================] - 4s 3ms/step - loss: 0.2497 - accuracy: 0.9309 - val_loss: 0.2635 - val_accuracy: 0.9278\n",
      "Epoch 14/50\n",
      "1500/1500 [==============================] - 4s 3ms/step - loss: 0.2483 - accuracy: 0.9304 - val_loss: 0.2598 - val_accuracy: 0.9299\n",
      "Epoch 15/50\n",
      "1500/1500 [==============================] - 4s 3ms/step - loss: 0.2463 - accuracy: 0.9323 - val_loss: 0.2659 - val_accuracy: 0.9263\n",
      "Epoch 16/50\n",
      "1500/1500 [==============================] - 4s 3ms/step - loss: 0.2454 - accuracy: 0.9317 - val_loss: 0.2612 - val_accuracy: 0.9312\n",
      "Epoch 17/50\n",
      "1500/1500 [==============================] - 4s 3ms/step - loss: 0.2444 - accuracy: 0.9320 - val_loss: 0.2626 - val_accuracy: 0.9293\n",
      "Epoch 18/50\n",
      "1500/1500 [==============================] - 4s 3ms/step - loss: 0.2428 - accuracy: 0.9326 - val_loss: 0.2620 - val_accuracy: 0.9308\n",
      "Epoch 19/50\n",
      "1500/1500 [==============================] - 4s 3ms/step - loss: 0.2420 - accuracy: 0.9330 - val_loss: 0.2643 - val_accuracy: 0.9294\n",
      "Epoch 20/50\n",
      "1500/1500 [==============================] - 4s 3ms/step - loss: 0.2411 - accuracy: 0.9327 - val_loss: 0.2618 - val_accuracy: 0.9310\n",
      "Epoch 21/50\n",
      "1500/1500 [==============================] - 4s 3ms/step - loss: 0.2402 - accuracy: 0.9331 - val_loss: 0.2656 - val_accuracy: 0.9292\n",
      "Epoch 22/50\n",
      "1500/1500 [==============================] - 4s 3ms/step - loss: 0.2395 - accuracy: 0.9334 - val_loss: 0.2633 - val_accuracy: 0.9293\n",
      "Epoch 23/50\n",
      "1500/1500 [==============================] - 4s 3ms/step - loss: 0.2385 - accuracy: 0.9340 - val_loss: 0.2618 - val_accuracy: 0.9310\n",
      "Epoch 24/50\n",
      "1500/1500 [==============================] - 4s 3ms/step - loss: 0.2382 - accuracy: 0.9334 - val_loss: 0.2668 - val_accuracy: 0.9289\n",
      "Epoch 25/50\n",
      "1500/1500 [==============================] - 4s 3ms/step - loss: 0.2378 - accuracy: 0.9338 - val_loss: 0.2650 - val_accuracy: 0.9304\n",
      "Epoch 26/50\n",
      "1500/1500 [==============================] - 4s 3ms/step - loss: 0.2369 - accuracy: 0.9346 - val_loss: 0.2656 - val_accuracy: 0.9304\n",
      "Epoch 27/50\n",
      "1500/1500 [==============================] - 4s 3ms/step - loss: 0.2357 - accuracy: 0.9344 - val_loss: 0.2665 - val_accuracy: 0.9293\n",
      "Epoch 28/50\n",
      "1500/1500 [==============================] - 4s 3ms/step - loss: 0.2356 - accuracy: 0.9344 - val_loss: 0.2652 - val_accuracy: 0.9304\n",
      "Epoch 29/50\n",
      "1500/1500 [==============================] - 4s 3ms/step - loss: 0.2352 - accuracy: 0.9346 - val_loss: 0.2648 - val_accuracy: 0.9308\n",
      "Epoch 30/50\n",
      "1500/1500 [==============================] - 4s 3ms/step - loss: 0.2349 - accuracy: 0.9341 - val_loss: 0.2646 - val_accuracy: 0.9302\n",
      "Epoch 31/50\n",
      "1500/1500 [==============================] - 5s 3ms/step - loss: 0.2338 - accuracy: 0.9354 - val_loss: 0.2654 - val_accuracy: 0.9306\n",
      "Epoch 32/50\n",
      "1500/1500 [==============================] - 4s 3ms/step - loss: 0.2333 - accuracy: 0.9348 - val_loss: 0.2701 - val_accuracy: 0.9275\n",
      "Epoch 33/50\n",
      "1500/1500 [==============================] - 4s 3ms/step - loss: 0.2330 - accuracy: 0.9350 - val_loss: 0.2684 - val_accuracy: 0.9306\n",
      "Epoch 34/50\n",
      "1500/1500 [==============================] - 4s 3ms/step - loss: 0.2326 - accuracy: 0.9348 - val_loss: 0.2694 - val_accuracy: 0.9294\n",
      "Epoch 35/50\n",
      "1500/1500 [==============================] - 4s 3ms/step - loss: 0.2320 - accuracy: 0.9349 - val_loss: 0.2729 - val_accuracy: 0.9283\n",
      "Epoch 36/50\n",
      "1500/1500 [==============================] - 4s 3ms/step - loss: 0.2322 - accuracy: 0.9353 - val_loss: 0.2725 - val_accuracy: 0.9291\n",
      "Epoch 37/50\n",
      "1500/1500 [==============================] - 5s 3ms/step - loss: 0.2311 - accuracy: 0.9358 - val_loss: 0.2672 - val_accuracy: 0.9303\n",
      "Epoch 38/50\n",
      "1500/1500 [==============================] - 5s 3ms/step - loss: 0.2308 - accuracy: 0.9359 - val_loss: 0.2706 - val_accuracy: 0.9284\n",
      "Epoch 39/50\n",
      "1500/1500 [==============================] - 4s 3ms/step - loss: 0.2305 - accuracy: 0.9362 - val_loss: 0.2711 - val_accuracy: 0.9283\n",
      "Epoch 40/50\n",
      "1500/1500 [==============================] - 5s 3ms/step - loss: 0.2305 - accuracy: 0.9358 - val_loss: 0.2727 - val_accuracy: 0.9293\n",
      "Epoch 41/50\n",
      "1500/1500 [==============================] - 5s 3ms/step - loss: 0.2298 - accuracy: 0.9361 - val_loss: 0.2704 - val_accuracy: 0.9286\n",
      "Epoch 42/50\n",
      "1500/1500 [==============================] - 4s 3ms/step - loss: 0.2296 - accuracy: 0.9362 - val_loss: 0.2705 - val_accuracy: 0.9294\n",
      "Epoch 43/50\n",
      "1500/1500 [==============================] - 4s 3ms/step - loss: 0.2289 - accuracy: 0.9364 - val_loss: 0.2721 - val_accuracy: 0.9298\n",
      "Epoch 44/50\n",
      "1500/1500 [==============================] - 4s 3ms/step - loss: 0.2292 - accuracy: 0.9360 - val_loss: 0.2701 - val_accuracy: 0.9290\n",
      "Epoch 45/50\n",
      "1500/1500 [==============================] - 4s 3ms/step - loss: 0.2284 - accuracy: 0.9358 - val_loss: 0.2713 - val_accuracy: 0.9302\n",
      "Epoch 46/50\n",
      "1500/1500 [==============================] - 4s 3ms/step - loss: 0.2280 - accuracy: 0.9362 - val_loss: 0.2733 - val_accuracy: 0.9290\n",
      "Epoch 47/50\n",
      "1500/1500 [==============================] - 4s 3ms/step - loss: 0.2284 - accuracy: 0.9358 - val_loss: 0.2716 - val_accuracy: 0.9305\n",
      "Epoch 48/50\n",
      "1500/1500 [==============================] - 5s 3ms/step - loss: 0.2277 - accuracy: 0.9367 - val_loss: 0.2708 - val_accuracy: 0.9295\n",
      "Epoch 49/50\n",
      "1500/1500 [==============================] - 4s 3ms/step - loss: 0.2273 - accuracy: 0.9366 - val_loss: 0.2778 - val_accuracy: 0.9279\n",
      "Epoch 50/50\n",
      "1500/1500 [==============================] - 4s 3ms/step - loss: 0.2270 - accuracy: 0.9370 - val_loss: 0.2762 - val_accuracy: 0.9287\n"
     ]
    }
   ],
   "source": [
    "# Compile the model\n",
    "model.compile(optimizer='adam',\n",
    "              loss=keras.losses.SparseCategoricalCrossentropy(from_logits=True),\n",
    "              metrics=['accuracy'])\n",
    "\n",
    "# Train the model\n",
    "history = model.fit(x=train_data, y=train_labels, \n",
    "                    epochs=50, verbose=1, \n",
    "                    validation_split=0.2)"
   ]
  },
  {
   "cell_type": "code",
   "execution_count": 9,
   "id": "b125fa90-662c-4f16-b2b9-3e37c539aee7",
   "metadata": {
    "execution": {
     "iopub.execute_input": "2023-06-28T06:42:12.680285Z",
     "iopub.status.busy": "2023-06-28T06:42:12.680285Z",
     "iopub.status.idle": "2023-06-28T06:42:12.862870Z",
     "shell.execute_reply": "2023-06-28T06:42:12.862870Z",
     "shell.execute_reply.started": "2023-06-28T06:42:12.680285Z"
    }
   },
   "outputs": [
    {
     "data": {
      "image/png": "[encoded data removed]",
      "text/plain": [
       "<Figure size 640x480 with 1 Axes>"
      ]
     },
     "metadata": {},
     "output_type": "display_data"
    }
   ],
   "source": [
    "plt.plot(history.history['loss'], label='loss')\n",
    "plt.plot(history.history['val_loss'], label='val_loss')\n",
    "plt.xlabel('Epoch')\n",
    "plt.ylabel('Loss')\n",
    "plt.legend()\n",
    "plt.grid(True);\n",
    "\n",
    "# Overfitting"
   ]
  },
  {
   "cell_type": "code",
   "execution_count": 10,
   "id": "5f223e1a-6f70-4dda-96d7-d5cf011816b3",
   "metadata": {
    "execution": {
     "iopub.execute_input": "2023-06-28T06:42:12.865389Z",
     "iopub.status.busy": "2023-06-28T06:42:12.864375Z",
     "iopub.status.idle": "2023-06-28T06:42:13.442628Z",
     "shell.execute_reply": "2023-06-28T06:42:13.441628Z",
     "shell.execute_reply.started": "2023-06-28T06:42:12.865389Z"
    }
   },
   "outputs": [
    {
     "name": "stdout",
     "output_type": "stream",
     "text": [
      "313/313 [==============================] - 0s 930us/step\n"
     ]
    }
   ],
   "source": [
    "predictions = model.predict(test_data)"
   ]
  },
  {
   "cell_type": "code",
   "execution_count": 22,
   "id": "bcc17c0b-8b01-4a4f-9c07-2f82571660be",
   "metadata": {
    "execution": {
     "iopub.execute_input": "2023-06-28T06:44:01.290258Z",
     "iopub.status.busy": "2023-06-28T06:44:01.289260Z",
     "iopub.status.idle": "2023-06-28T06:44:01.310544Z",
     "shell.execute_reply": "2023-06-28T06:44:01.309543Z",
     "shell.execute_reply.started": "2023-06-28T06:44:01.290258Z"
    },
    "tags": []
   },
   "outputs": [
    {
     "data": {
      "text/plain": [
       "array([7, 2, 1, ..., 4, 5, 6], dtype=int64)"
      ]
     },
     "execution_count": 22,
     "metadata": {},
     "output_type": "execute_result"
    }
   ],
   "source": [
    "np.argmax(predictions, axis=-1)"
   ]
  },
  {
   "cell_type": "code",
   "execution_count": 28,
   "id": "b69e001f-faa3-4878-b4af-dcd6f4c3a9b4",
   "metadata": {
    "execution": {
     "iopub.execute_input": "2023-06-28T06:48:18.688500Z",
     "iopub.status.busy": "2023-06-28T06:48:18.687498Z",
     "iopub.status.idle": "2023-06-28T06:48:18.695881Z",
     "shell.execute_reply": "2023-06-28T06:48:18.695881Z",
     "shell.execute_reply.started": "2023-06-28T06:48:18.687498Z"
    },
    "tags": []
   },
   "outputs": [],
   "source": [
    "def plot_image(i, predictions_array, true_label, img):\n",
    "    true_label, img = true_label[i], img[i]\n",
    "    plt.grid(False)\n",
    "    plt.xticks([])\n",
    "    plt.yticks([])\n",
    "\n",
    "    plt.imshow(img, cmap=plt.cm.binary)\n",
    "\n",
    "    predicted_label = np.argmax(predictions_array)\n",
    "    if predicted_label == true_label:\n",
    "        color = 'blue'\n",
    "    else:\n",
    "        color = 'red'\n",
    "\n",
    "    plt.xlabel(\"Predicted: {}, Confidence: {:2.0f}%, True: ({})\".format(predicted_label,\n",
    "                                100*np.max(predictions_array),\n",
    "                                true_label),\n",
    "                                color=color)\n",
    "\n",
    "def plot_value_array(i, predictions_array, true_label):\n",
    "    true_label = true_label[i]\n",
    "    plt.grid(False)\n",
    "    plt.xticks(range(10))\n",
    "    plt.yticks([])\n",
    "    thisplot = plt.bar(range(10), predictions_array, color=\"#777777\")\n",
    "    plt.ylim([0, 1])\n",
    "    predicted_label = np.argmax(predictions_array)\n",
    "\n",
    "    thisplot[predicted_label].set_color('red')\n",
    "    thisplot[true_label].set_color('blue')"
   ]
  },
  {
   "cell_type": "code",
   "execution_count": 29,
   "id": "85de6a27-0024-4905-85bd-ce86cbc77762",
   "metadata": {
    "execution": {
     "iopub.execute_input": "2023-06-28T06:48:18.948533Z",
     "iopub.status.busy": "2023-06-28T06:48:18.948533Z",
     "iopub.status.idle": "2023-06-28T06:48:19.089465Z",
     "shell.execute_reply": "2023-06-28T06:48:19.088465Z",
     "shell.execute_reply.started": "2023-06-28T06:48:18.948533Z"
    },
    "tags": []
   },
   "outputs": [
    {
     "data": {
      "image/png": "[encoded data removed]",
      "text/plain": [
       "<Figure size 1000x500 with 2 Axes>"
      ]
     },
     "metadata": {},
     "output_type": "display_data"
    }
   ],
   "source": [
    "i = 56\n",
    "plt.figure(figsize=(10,5))\n",
    "plt.subplot(1,2,1)\n",
    "plot_image(i, predictions[i], test_labels, test_data)\n",
    "plt.subplot(1,2,2)\n",
    "plot_value_array(i, predictions[i],  test_labels)\n",
    "plt.show()"
   ]
  },
  {
   "cell_type": "code",
   "execution_count": 34,
   "id": "f1f10ad3-d172-4bf1-8490-37cbd2fb4f81",
   "metadata": {
    "execution": {
     "iopub.execute_input": "2023-06-28T06:54:03.042052Z",
     "iopub.status.busy": "2023-06-28T06:54:03.041054Z",
     "iopub.status.idle": "2023-06-28T06:54:03.086190Z",
     "shell.execute_reply": "2023-06-28T06:54:03.085194Z",
     "shell.execute_reply.started": "2023-06-28T06:54:03.042052Z"
    },
    "tags": []
   },
   "outputs": [
    {
     "name": "stdout",
     "output_type": "stream",
     "text": [
      "Model: \"sequential_4\"\n",
      "_________________________________________________________________\n",
      " Layer (type)                Output Shape              Param #   \n",
      "=================================================================\n",
      " flatten_4 (Flatten)         (None, 784)               0         \n",
      "                                                                 \n",
      " dense_6 (Dense)             (None, 128)               100480    \n",
      "                                                                 \n",
      " dense_7 (Dense)             (None, 10)                1290      \n",
      "                                                                 \n",
      "=================================================================\n",
      "Total params: 101,770\n",
      "Trainable params: 101,770\n",
      "Non-trainable params: 0\n",
      "_________________________________________________________________\n"
     ]
    }
   ],
   "source": [
    "better_model = keras.Sequential([layers.Flatten(input_shape=(28,28)),\n",
    "                                 layers.Dense(128, activation='relu'),\n",
    "                                 layers.Dense(10, activation='softmax')])\n",
    "\n",
    "better_model.summary()"
   ]
  },
  {
   "cell_type": "code",
   "execution_count": 35,
   "id": "b9d052a8-2316-447b-995a-b80c64975d2a",
   "metadata": {
    "execution": {
     "iopub.execute_input": "2023-06-28T06:54:03.361742Z",
     "iopub.status.busy": "2023-06-28T06:54:03.361742Z",
     "iopub.status.idle": "2023-06-28T06:54:45.056172Z",
     "shell.execute_reply": "2023-06-28T06:54:45.055172Z",
     "shell.execute_reply.started": "2023-06-28T06:54:03.361742Z"
    },
    "scrolled": true,
    "tags": []
   },
   "outputs": [
    {
     "name": "stdout",
     "output_type": "stream",
     "text": [
      "Epoch 1/10\n",
      "1500/1500 [==============================] - 4s 3ms/step - loss: 0.2842 - accuracy: 0.9182 - val_loss: 0.1564 - val_accuracy: 0.9553\n",
      "Epoch 2/10\n",
      "1500/1500 [==============================] - 4s 3ms/step - loss: 0.1264 - accuracy: 0.9630 - val_loss: 0.1196 - val_accuracy: 0.9662\n",
      "Epoch 3/10\n",
      "1500/1500 [==============================] - 4s 3ms/step - loss: 0.0888 - accuracy: 0.9735 - val_loss: 0.1059 - val_accuracy: 0.9693\n",
      "Epoch 4/10\n",
      "1500/1500 [==============================] - 4s 3ms/step - loss: 0.0653 - accuracy: 0.9802 - val_loss: 0.0956 - val_accuracy: 0.9704\n",
      "Epoch 5/10\n",
      "1500/1500 [==============================] - 4s 3ms/step - loss: 0.0509 - accuracy: 0.9847 - val_loss: 0.0870 - val_accuracy: 0.9747\n",
      "Epoch 6/10\n",
      "1500/1500 [==============================] - 4s 3ms/step - loss: 0.0385 - accuracy: 0.9877 - val_loss: 0.0958 - val_accuracy: 0.9713\n",
      "Epoch 7/10\n",
      "1500/1500 [==============================] - 4s 3ms/step - loss: 0.0310 - accuracy: 0.9908 - val_loss: 0.0875 - val_accuracy: 0.9748\n",
      "Epoch 8/10\n",
      "1500/1500 [==============================] - 4s 3ms/step - loss: 0.0247 - accuracy: 0.9925 - val_loss: 0.1012 - val_accuracy: 0.9731\n",
      "Epoch 9/10\n",
      "1500/1500 [==============================] - 4s 3ms/step - loss: 0.0210 - accuracy: 0.9933 - val_loss: 0.1024 - val_accuracy: 0.9746\n",
      "Epoch 10/10\n",
      "1500/1500 [==============================] - 4s 3ms/step - loss: 0.0153 - accuracy: 0.9956 - val_loss: 0.0989 - val_accuracy: 0.9754\n"
     ]
    }
   ],
   "source": [
    "better_model.compile(optimizer='adam',\n",
    "                     loss=keras.losses.SparseCategoricalCrossentropy(),\n",
    "                     metrics=['accuracy'])\n",
    "\n",
    "history = better_model.fit(train_data, train_labels,\n",
    "                           epochs=10, verbose=1,\n",
    "                           validation_split=0.2, \n",
    "                           use_multiprocessing=True)"
   ]
  },
  {
   "cell_type": "code",
   "execution_count": 36,
   "id": "2374a718-05ac-419f-8187-48566f4b4a0b",
   "metadata": {
    "execution": {
     "iopub.execute_input": "2023-06-28T06:54:45.057175Z",
     "iopub.status.busy": "2023-06-28T06:54:45.057175Z",
     "iopub.status.idle": "2023-06-28T06:54:45.212891Z",
     "shell.execute_reply": "2023-06-28T06:54:45.211895Z",
     "shell.execute_reply.started": "2023-06-28T06:54:45.057175Z"
    }
   },
   "outputs": [
    {
     "data": {
      "image/png": "[encoded data removed]",
      "text/plain": [
       "<Figure size 640x480 with 1 Axes>"
      ]
     },
     "metadata": {},
     "output_type": "display_data"
    }
   ],
   "source": [
    "plt.plot(history.history['loss'], label='loss')\n",
    "plt.plot(history.history['val_loss'], label='val_loss')\n",
    "plt.xlabel('Epoch')\n",
    "plt.ylabel('Loss')\n",
    "plt.legend()\n",
    "plt.grid(True);"
   ]
  },
  {
   "cell_type": "code",
   "execution_count": 37,
   "id": "4185651c-815a-4407-abe2-2bf87c82d1bc",
   "metadata": {
    "execution": {
     "iopub.execute_input": "2023-06-28T06:54:45.214406Z",
     "iopub.status.busy": "2023-06-28T06:54:45.213397Z",
     "iopub.status.idle": "2023-06-28T06:54:45.870464Z",
     "shell.execute_reply": "2023-06-28T06:54:45.869958Z",
     "shell.execute_reply.started": "2023-06-28T06:54:45.214406Z"
    }
   },
   "outputs": [
    {
     "name": "stdout",
     "output_type": "stream",
     "text": [
      "313/313 [==============================] - 0s 1ms/step\n"
     ]
    },
    {
     "data": {
      "image/png": "[encoded data removed]",
      "text/plain": [
       "<Figure size 1000x500 with 2 Axes>"
      ]
     },
     "metadata": {},
     "output_type": "display_data"
    }
   ],
   "source": [
    "predictions = better_model.predict(test_data)\n",
    "\n",
    "i = 0\n",
    "plt.figure(figsize=(10,5))\n",
    "plt.subplot(1,2,1)\n",
    "plot_image(i, predictions[i], test_labels, test_data)\n",
    "plt.subplot(1,2,2)\n",
    "plot_value_array(i, predictions[i],  test_labels)\n",
    "plt.show();"
   ]
  },
  {
   "cell_type": "code",
   "execution_count": null,
   "id": "7994d7e7-1b93-4a4c-be85-de506cbb5b68",
   "metadata": {},
   "outputs": [],
   "source": []
  }
 ],
 "metadata": {
  "kernelspec": {
   "display_name": "Python 3 (ipykernel)",
   "language": "python",
   "name": "python3"
  },
  "language_info": {
   "codemirror_mode": {
    "name": "ipython",
    "version": 3
   },
   "file_extension": ".py",
   "mimetype": "text/x-python",
   "name": "python",
   "nbconvert_exporter": "python",
   "pygments_lexer": "ipython3",
   "version": "3.10.9"
  },
  "widgets": {
   "application/vnd.jupyter.widget-state+json": {
    "state": {},
    "version_major": 2,
    "version_minor": 0
   }
  }
 },
 "nbformat": 4,
 "nbformat_minor": 5
}
